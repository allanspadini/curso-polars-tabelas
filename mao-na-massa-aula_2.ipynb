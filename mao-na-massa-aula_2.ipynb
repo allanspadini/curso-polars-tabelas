{
 "cells": [
  {
   "cell_type": "markdown",
   "id": "751dfd50",
   "metadata": {
    "id": "8Jgp8yzeOPZy"
   },
   "source": [
    "# Aula 2"
   ]
  },
  {
   "cell_type": "code",
   "execution_count": 1,
   "id": "e5621583",
   "metadata": {
    "id": "WbvWlaNIT48m"
   },
   "outputs": [],
   "source": [
    "caminho_csv = '/content/drive/MyDrive/Alura/Cursos/4403 - Polars: manipulando tabelas/Projeto/bebidas.csv'"
   ]
  },
  {
   "cell_type": "code",
   "execution_count": 2,
   "id": "f6cc4b63",
   "metadata": {
    "id": "4zGNiJFrca_2"
   },
   "outputs": [],
   "source": [
    "import polars as pl"
   ]
  },
  {
   "cell_type": "code",
   "execution_count": 3,
   "id": "2cb4079b",
   "metadata": {
    "id": "FA9nADS-cgC9"
   },
   "outputs": [],
   "source": [
    "df = pl.read_csv(caminho_csv)\n"
   ]
  },
  {
   "cell_type": "code",
   "execution_count": 4,
   "id": "c9140c93",
   "metadata": {
    "colab": {
     "base_uri": "https://localhost:8080/",
     "height": 361
    },
    "id": "HAJoLKmlciUo",
    "outputId": "531c9349-feb6-4ee1-c0a0-48e1634a7bf9"
   },
   "outputs": [
    {
     "data": {
      "text/html": [
       "<div><style>\n",
       ".dataframe > thead > tr,\n",
       ".dataframe > tbody > tr {\n",
       "  text-align: right;\n",
       "  white-space: pre-wrap;\n",
       "}\n",
       "</style>\n",
       "<small>shape: (5, 11)</small><table border=\"1\" class=\"dataframe\"><thead><tr><th>Order_ID</th><th>Customer_ID</th><th>Customer_Type</th><th>Product</th><th>Category</th><th>Unit_Price</th><th>Quantity</th><th>Discount</th><th>Total_Price</th><th>Region</th><th>Order_Date</th></tr><tr><td>str</td><td>str</td><td>str</td><td>str</td><td>str</td><td>f64</td><td>i64</td><td>f64</td><td>f64</td><td>str</td><td>str</td></tr></thead><tbody><tr><td>&quot;ORD1&quot;</td><td>&quot;CUS1496&quot;</td><td>&quot;B2B&quot;</td><td>&quot;Vio Wasser&quot;</td><td>&quot;Water&quot;</td><td>1.66</td><td>53</td><td>0.1</td><td>79.18</td><td>&quot;Baden-Württemberg&quot;</td><td>&quot;2023-08-23&quot;</td></tr><tr><td>&quot;ORD1&quot;</td><td>&quot;CUS1496&quot;</td><td>&quot;B2B&quot;</td><td>&quot;Evian&quot;</td><td>&quot;Water&quot;</td><td>1.56</td><td>90</td><td>0.1</td><td>126.36</td><td>&quot;Baden-Württemberg&quot;</td><td>&quot;2023-08-23&quot;</td></tr><tr><td>&quot;ORD1&quot;</td><td>&quot;CUS1496&quot;</td><td>&quot;B2B&quot;</td><td>&quot;Sprite&quot;</td><td>&quot;Soft Drinks&quot;</td><td>1.17</td><td>73</td><td>0.05</td><td>81.14</td><td>&quot;Baden-Württemberg&quot;</td><td>&quot;2023-08-23&quot;</td></tr><tr><td>&quot;ORD1&quot;</td><td>&quot;CUS1496&quot;</td><td>&quot;B2B&quot;</td><td>&quot;Rauch Multivitamin&quot;</td><td>&quot;Juices&quot;</td><td>3.22</td><td>59</td><td>0.1</td><td>170.98</td><td>&quot;Baden-Württemberg&quot;</td><td>&quot;2023-08-23&quot;</td></tr><tr><td>&quot;ORD1&quot;</td><td>&quot;CUS1496&quot;</td><td>&quot;B2B&quot;</td><td>&quot;Gerolsteiner&quot;</td><td>&quot;Water&quot;</td><td>0.87</td><td>35</td><td>0.1</td><td>27.4</td><td>&quot;Baden-Württemberg&quot;</td><td>&quot;2023-08-23&quot;</td></tr></tbody></table></div>"
      ],
      "text/plain": [
       "shape: (5, 11)\n",
       "┌──────────┬────────────┬───────────┬───────────┬───┬──────────┬───────────┬───────────┬───────────┐\n",
       "│ Order_ID ┆ Customer_I ┆ Customer_ ┆ Product   ┆ … ┆ Discount ┆ Total_Pri ┆ Region    ┆ Order_Dat │\n",
       "│ ---      ┆ D          ┆ Type      ┆ ---       ┆   ┆ ---      ┆ ce        ┆ ---       ┆ e         │\n",
       "│ str      ┆ ---        ┆ ---       ┆ str       ┆   ┆ f64      ┆ ---       ┆ str       ┆ ---       │\n",
       "│          ┆ str        ┆ str       ┆           ┆   ┆          ┆ f64       ┆           ┆ str       │\n",
       "╞══════════╪════════════╪═══════════╪═══════════╪═══╪══════════╪═══════════╪═══════════╪═══════════╡\n",
       "│ ORD1     ┆ CUS1496    ┆ B2B       ┆ Vio       ┆ … ┆ 0.1      ┆ 79.18     ┆ Baden-Wür ┆ 2023-08-2 │\n",
       "│          ┆            ┆           ┆ Wasser    ┆   ┆          ┆           ┆ ttemberg  ┆ 3         │\n",
       "│ ORD1     ┆ CUS1496    ┆ B2B       ┆ Evian     ┆ … ┆ 0.1      ┆ 126.36    ┆ Baden-Wür ┆ 2023-08-2 │\n",
       "│          ┆            ┆           ┆           ┆   ┆          ┆           ┆ ttemberg  ┆ 3         │\n",
       "│ ORD1     ┆ CUS1496    ┆ B2B       ┆ Sprite    ┆ … ┆ 0.05     ┆ 81.14     ┆ Baden-Wür ┆ 2023-08-2 │\n",
       "│          ┆            ┆           ┆           ┆   ┆          ┆           ┆ ttemberg  ┆ 3         │\n",
       "│ ORD1     ┆ CUS1496    ┆ B2B       ┆ Rauch Mul ┆ … ┆ 0.1      ┆ 170.98    ┆ Baden-Wür ┆ 2023-08-2 │\n",
       "│          ┆            ┆           ┆ tivitamin ┆   ┆          ┆           ┆ ttemberg  ┆ 3         │\n",
       "│ ORD1     ┆ CUS1496    ┆ B2B       ┆ Gerolstei ┆ … ┆ 0.1      ┆ 27.4      ┆ Baden-Wür ┆ 2023-08-2 │\n",
       "│          ┆            ┆           ┆ ner       ┆   ┆          ┆           ┆ ttemberg  ┆ 3         │\n",
       "└──────────┴────────────┴───────────┴───────────┴───┴──────────┴───────────┴───────────┴───────────┘"
      ]
     },
     "execution_count": 4,
     "metadata": {},
     "output_type": "execute_result"
    }
   ],
   "source": [
    "df.head()"
   ]
  },
  {
   "cell_type": "markdown",
   "id": "6c5d7c65",
   "metadata": {
    "id": "8is3P7WkiRpn"
   },
   "source": [
    "## Calcular o Valor do Desconto"
   ]
  },
  {
   "cell_type": "code",
   "execution_count": 5,
   "id": "16851dea",
   "metadata": {
    "id": "SQLeYVjAd3iZ"
   },
   "outputs": [],
   "source": [
    "df = df.with_columns(\n",
    "    (pl.col(\"Unit_Price\") * pl.col(\"Quantity\") * pl.col(\"Discount\")).alias(\"Valor_Desconto\")\n",
    ")"
   ]
  },
  {
   "cell_type": "markdown",
   "id": "e6892cdd",
   "metadata": {
    "id": "qk5ym08jiUpG"
   },
   "source": [
    "## Calcular a Receita Líquida"
   ]
  },
  {
   "cell_type": "code",
   "execution_count": 6,
   "id": "3d606e13",
   "metadata": {
    "id": "oqzqnTmMiIQX"
   },
   "outputs": [],
   "source": [
    "df = df.with_columns(\n",
    "    (pl.col(\"Total_Price\") - pl.col(\"Valor_Desconto\")).alias(\"Receita_Líquida\")\n",
    ")"
   ]
  },
  {
   "cell_type": "markdown",
   "id": "ae408dce",
   "metadata": {
    "id": "GTYj7hdiiZME"
   },
   "source": [
    "## Atualizar a Classificação de Clientes"
   ]
  },
  {
   "cell_type": "code",
   "execution_count": 7,
   "id": "feea60dc",
   "metadata": {
    "id": "Fnjd4qq3iLUC"
   },
   "outputs": [],
   "source": [
    "df = df.with_columns(\n",
    "    pl.col(\"Customer_Type\").replace({\"B2B\": \"Corporativo\", \"B2C\": \"Varejo\"})\n",
    ")"
   ]
  },
  {
   "cell_type": "code",
   "execution_count": 8,
   "id": "d90fd3ef",
   "metadata": {
    "colab": {
     "base_uri": "https://localhost:8080/",
     "height": 361
    },
    "id": "HdR2V2URiNyM",
    "outputId": "9a53c4e2-a5fc-4d32-a450-1b75ac10a64b"
   },
   "outputs": [
    {
     "data": {
      "text/html": [
       "<div><style>\n",
       ".dataframe > thead > tr,\n",
       ".dataframe > tbody > tr {\n",
       "  text-align: right;\n",
       "  white-space: pre-wrap;\n",
       "}\n",
       "</style>\n",
       "<small>shape: (5, 13)</small><table border=\"1\" class=\"dataframe\"><thead><tr><th>Order_ID</th><th>Customer_ID</th><th>Customer_Type</th><th>Product</th><th>Category</th><th>Unit_Price</th><th>Quantity</th><th>Discount</th><th>Total_Price</th><th>Region</th><th>Order_Date</th><th>Valor_Desconto</th><th>Receita_Líquida</th></tr><tr><td>str</td><td>str</td><td>str</td><td>str</td><td>str</td><td>f64</td><td>i64</td><td>f64</td><td>f64</td><td>str</td><td>str</td><td>f64</td><td>f64</td></tr></thead><tbody><tr><td>&quot;ORD1&quot;</td><td>&quot;CUS1496&quot;</td><td>&quot;Corporativo&quot;</td><td>&quot;Vio Wasser&quot;</td><td>&quot;Water&quot;</td><td>1.66</td><td>53</td><td>0.1</td><td>79.18</td><td>&quot;Baden-Württemberg&quot;</td><td>&quot;2023-08-23&quot;</td><td>8.798</td><td>70.382</td></tr><tr><td>&quot;ORD1&quot;</td><td>&quot;CUS1496&quot;</td><td>&quot;Corporativo&quot;</td><td>&quot;Evian&quot;</td><td>&quot;Water&quot;</td><td>1.56</td><td>90</td><td>0.1</td><td>126.36</td><td>&quot;Baden-Württemberg&quot;</td><td>&quot;2023-08-23&quot;</td><td>14.04</td><td>112.32</td></tr><tr><td>&quot;ORD1&quot;</td><td>&quot;CUS1496&quot;</td><td>&quot;Corporativo&quot;</td><td>&quot;Sprite&quot;</td><td>&quot;Soft Drinks&quot;</td><td>1.17</td><td>73</td><td>0.05</td><td>81.14</td><td>&quot;Baden-Württemberg&quot;</td><td>&quot;2023-08-23&quot;</td><td>4.2705</td><td>76.8695</td></tr><tr><td>&quot;ORD1&quot;</td><td>&quot;CUS1496&quot;</td><td>&quot;Corporativo&quot;</td><td>&quot;Rauch Multivitamin&quot;</td><td>&quot;Juices&quot;</td><td>3.22</td><td>59</td><td>0.1</td><td>170.98</td><td>&quot;Baden-Württemberg&quot;</td><td>&quot;2023-08-23&quot;</td><td>18.998</td><td>151.982</td></tr><tr><td>&quot;ORD1&quot;</td><td>&quot;CUS1496&quot;</td><td>&quot;Corporativo&quot;</td><td>&quot;Gerolsteiner&quot;</td><td>&quot;Water&quot;</td><td>0.87</td><td>35</td><td>0.1</td><td>27.4</td><td>&quot;Baden-Württemberg&quot;</td><td>&quot;2023-08-23&quot;</td><td>3.045</td><td>24.355</td></tr></tbody></table></div>"
      ],
      "text/plain": [
       "shape: (5, 13)\n",
       "┌──────────┬───────────┬───────────┬───────────┬───┬───────────┬───────────┬───────────┬───────────┐\n",
       "│ Order_ID ┆ Customer_ ┆ Customer_ ┆ Product   ┆ … ┆ Region    ┆ Order_Dat ┆ Valor_Des ┆ Receita_L │\n",
       "│ ---      ┆ ID        ┆ Type      ┆ ---       ┆   ┆ ---       ┆ e         ┆ conto     ┆ íquida    │\n",
       "│ str      ┆ ---       ┆ ---       ┆ str       ┆   ┆ str       ┆ ---       ┆ ---       ┆ ---       │\n",
       "│          ┆ str       ┆ str       ┆           ┆   ┆           ┆ str       ┆ f64       ┆ f64       │\n",
       "╞══════════╪═══════════╪═══════════╪═══════════╪═══╪═══════════╪═══════════╪═══════════╪═══════════╡\n",
       "│ ORD1     ┆ CUS1496   ┆ Corporati ┆ Vio       ┆ … ┆ Baden-Wür ┆ 2023-08-2 ┆ 8.798     ┆ 70.382    │\n",
       "│          ┆           ┆ vo        ┆ Wasser    ┆   ┆ ttemberg  ┆ 3         ┆           ┆           │\n",
       "│ ORD1     ┆ CUS1496   ┆ Corporati ┆ Evian     ┆ … ┆ Baden-Wür ┆ 2023-08-2 ┆ 14.04     ┆ 112.32    │\n",
       "│          ┆           ┆ vo        ┆           ┆   ┆ ttemberg  ┆ 3         ┆           ┆           │\n",
       "│ ORD1     ┆ CUS1496   ┆ Corporati ┆ Sprite    ┆ … ┆ Baden-Wür ┆ 2023-08-2 ┆ 4.2705    ┆ 76.8695   │\n",
       "│          ┆           ┆ vo        ┆           ┆   ┆ ttemberg  ┆ 3         ┆           ┆           │\n",
       "│ ORD1     ┆ CUS1496   ┆ Corporati ┆ Rauch Mul ┆ … ┆ Baden-Wür ┆ 2023-08-2 ┆ 18.998    ┆ 151.982   │\n",
       "│          ┆           ┆ vo        ┆ tivitamin ┆   ┆ ttemberg  ┆ 3         ┆           ┆           │\n",
       "│ ORD1     ┆ CUS1496   ┆ Corporati ┆ Gerolstei ┆ … ┆ Baden-Wür ┆ 2023-08-2 ┆ 3.045     ┆ 24.355    │\n",
       "│          ┆           ┆ vo        ┆ ner       ┆   ┆ ttemberg  ┆ 3         ┆           ┆           │\n",
       "└──────────┴───────────┴───────────┴───────────┴───┴───────────┴───────────┴───────────┴───────────┘"
      ]
     },
     "execution_count": 8,
     "metadata": {},
     "output_type": "execute_result"
    }
   ],
   "source": [
    "df.head()"
   ]
  }
 ],
 "metadata": {},
 "nbformat": 4,
 "nbformat_minor": 5
}