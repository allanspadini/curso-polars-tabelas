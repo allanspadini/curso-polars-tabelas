{
 "cells": [
  {
   "cell_type": "markdown",
   "id": "e7a2879d",
   "metadata": {
    "id": "ieK1eCIN2oE8"
   },
   "source": [
    "# Aula 1 - Leitura de arquivos com o Polars"
   ]
  },
  {
   "cell_type": "markdown",
   "id": "5ee33173",
   "metadata": {
    "id": "hjDmt9oey93e"
   },
   "source": [
    "https://excelbianalytics.com/wp/downloads-18-sample-csv-files-data-sets-for-testing-sales/"
   ]
  },
  {
   "cell_type": "markdown",
   "id": "14cbb282",
   "metadata": {
    "id": "3ZHydavC2yLe"
   },
   "source": [
    "## Vídeo 1.2 - Colocando um arquivo em dataframe"
   ]
  },
  {
   "cell_type": "code",
   "execution_count": 1,
   "id": "638e0d69",
   "metadata": {
    "id": "16ksz_-yxmMF"
   },
   "outputs": [],
   "source": [
    "#url ='/content/drive/MyDrive/Alura/Cursos/4403 - Polars: manipulando tabelas/Projeto/dadocurso.zip'"
   ]
  },
  {
   "cell_type": "code",
   "execution_count": 2,
   "id": "f5a3bd17",
   "metadata": {
    "id": "9NuilQ-3ATrm"
   },
   "outputs": [],
   "source": [
    "#import zipfile"
   ]
  },
  {
   "cell_type": "code",
   "execution_count": 3,
   "id": "2d585ac6",
   "metadata": {
    "id": "NT25J22CAb3L"
   },
   "outputs": [],
   "source": [
    "# Diretório onde o arquivo será extraído\n",
    "#extract_path = '/content/drive/MyDrive/Alura/Cursos/4403 - Polars: manipulando tabelas/Projeto/'"
   ]
  },
  {
   "cell_type": "code",
   "execution_count": 4,
   "id": "56cbf009",
   "metadata": {
    "id": "OFv9TTytAehF"
   },
   "outputs": [],
   "source": [
    "# Extraia o conteúdo do arquivo ZIP\n",
    "#with zipfile.ZipFile(url, 'r') as zip_ref:\n",
    "#    zip_ref.extractall(extract_path)\n",
    "\n",
    "#print(\"Arquivo descompactado com sucesso!\")"
   ]
  },
  {
   "cell_type": "code",
   "execution_count": 5,
   "id": "67b5a33e",
   "metadata": {
    "id": "Hv1xZJCh2HGJ"
   },
   "outputs": [],
   "source": [
    "import polars as pl"
   ]
  },
  {
   "cell_type": "code",
   "execution_count": 6,
   "id": "d2f6ef8f",
   "metadata": {
    "id": "DzzUO3k2CL4u"
   },
   "outputs": [],
   "source": [
    "caminho_csv = '/content/drive/MyDrive/Alura/Cursos/4403 - Polars: manipulando tabelas/Projeto/dadocurso.csv'"
   ]
  },
  {
   "cell_type": "code",
   "execution_count": 7,
   "id": "c1abd246",
   "metadata": {
    "id": "H08OZa13B9My"
   },
   "outputs": [],
   "source": [
    "df = pl.read_csv(caminho_csv)\n",
    "df_original = df.clone()"
   ]
  },
  {
   "cell_type": "code",
   "execution_count": 8,
   "id": "d5e3e8d5",
   "metadata": {
    "colab": {
     "base_uri": "https://localhost:8080/",
     "height": 394
    },
    "id": "zO2-krn9CT0b",
    "outputId": "58d6f89a-5746-417d-e011-4a2d9d857542"
   },
   "outputs": [
    {
     "data": {
      "text/html": [
       "<div><style>\n",
       ".dataframe > thead > tr,\n",
       ".dataframe > tbody > tr {\n",
       "  text-align: right;\n",
       "  white-space: pre-wrap;\n",
       "}\n",
       "</style>\n",
       "<small>shape: (5, 14)</small><table border=\"1\" class=\"dataframe\"><thead><tr><th>Região</th><th>País</th><th>Tipo de Item</th><th>Canal de Venda</th><th>Prioridade do Pedido</th><th>Data do Pedido</th><th>ID do Pedido</th><th>Data de Envio</th><th>Unidades Vendidas</th><th>Preço Unitário</th><th>Custo Unitário</th><th>Receita Total</th><th>Custo Total</th><th>Lucro Total</th></tr><tr><td>str</td><td>str</td><td>str</td><td>str</td><td>str</td><td>str</td><td>i64</td><td>str</td><td>i64</td><td>f64</td><td>f64</td><td>f64</td><td>f64</td><td>f64</td></tr></thead><tbody><tr><td>&quot;Australia and Oceania&quot;</td><td>&quot;Palau&quot;</td><td>&quot;Office Supplies&quot;</td><td>&quot;Online&quot;</td><td>&quot;H&quot;</td><td>&quot;3/6/2016&quot;</td><td>517073523</td><td>&quot;3/26/2016&quot;</td><td>2401</td><td>651.21</td><td>524.96</td><td>1.2508e6</td><td>1.2604e6</td><td>-9584.792</td></tr><tr><td>&quot;Europe&quot;</td><td>&quot;Poland&quot;</td><td>&quot;Beverages&quot;</td><td>&quot;Online&quot;</td><td>&quot;L&quot;</td><td>&quot;4/18/2010&quot;</td><td>380507028</td><td>&quot;5/26/2010&quot;</td><td>9340</td><td>47.45</td><td>31.79</td><td>354546.4</td><td>296918.6</td><td>57627.8</td></tr><tr><td>&quot;North America&quot;</td><td>&quot;Canada&quot;</td><td>&quot;Cereal&quot;</td><td>&quot;Online&quot;</td><td>&quot;M&quot;</td><td>&quot;1/8/2015&quot;</td><td>504055583</td><td>&quot;1/31/2015&quot;</td><td>103</td><td>205.7</td><td>117.11</td><td>16949.68</td><td>12062.33</td><td>4887.35</td></tr><tr><td>&quot;Europe&quot;</td><td>&quot;Belarus&quot;</td><td>&quot;Snacks&quot;</td><td>&quot;Online&quot;</td><td>&quot;C&quot;</td><td>&quot;1/19/2014&quot;</td><td>954955518</td><td>&quot;2/27/2014&quot;</td><td>1414</td><td>152.58</td><td>97.44</td><td>172598.496</td><td>137780.16</td><td>34818.336</td></tr><tr><td>&quot;Middle East and North Africa&quot;</td><td>&quot;Oman&quot;</td><td>&quot;Cereal&quot;</td><td>&quot;Offline&quot;</td><td>&quot;H&quot;</td><td>&quot;4/26/2019&quot;</td><td>970755660</td><td>&quot;6/2/2019&quot;</td><td>7027</td><td>205.7</td><td>117.11</td><td>1.1564e6</td><td>822931.97</td><td>333431.15</td></tr></tbody></table></div>"
      ],
      "text/plain": [
       "shape: (5, 14)\n",
       "┌────────────┬─────────┬───────────┬───────────┬───┬───────────┬───────────┬───────────┬───────────┐\n",
       "│ Região     ┆ País    ┆ Tipo de   ┆ Canal de  ┆ … ┆ Custo     ┆ Receita   ┆ Custo     ┆ Lucro     │\n",
       "│ ---        ┆ ---     ┆ Item      ┆ Venda     ┆   ┆ Unitário  ┆ Total     ┆ Total     ┆ Total     │\n",
       "│ str        ┆ str     ┆ ---       ┆ ---       ┆   ┆ ---       ┆ ---       ┆ ---       ┆ ---       │\n",
       "│            ┆         ┆ str       ┆ str       ┆   ┆ f64       ┆ f64       ┆ f64       ┆ f64       │\n",
       "╞════════════╪═════════╪═══════════╪═══════════╪═══╪═══════════╪═══════════╪═══════════╪═══════════╡\n",
       "│ Australia  ┆ Palau   ┆ Office    ┆ Online    ┆ … ┆ 524.96    ┆ 1.2508e6  ┆ 1.2604e6  ┆ -9584.792 │\n",
       "│ and        ┆         ┆ Supplies  ┆           ┆   ┆           ┆           ┆           ┆           │\n",
       "│ Oceania    ┆         ┆           ┆           ┆   ┆           ┆           ┆           ┆           │\n",
       "│ Europe     ┆ Poland  ┆ Beverages ┆ Online    ┆ … ┆ 31.79     ┆ 354546.4  ┆ 296918.6  ┆ 57627.8   │\n",
       "│ North      ┆ Canada  ┆ Cereal    ┆ Online    ┆ … ┆ 117.11    ┆ 16949.68  ┆ 12062.33  ┆ 4887.35   │\n",
       "│ America    ┆         ┆           ┆           ┆   ┆           ┆           ┆           ┆           │\n",
       "│ Europe     ┆ Belarus ┆ Snacks    ┆ Online    ┆ … ┆ 97.44     ┆ 172598.49 ┆ 137780.16 ┆ 34818.336 │\n",
       "│            ┆         ┆           ┆           ┆   ┆           ┆ 6         ┆           ┆           │\n",
       "│ Middle     ┆ Oman    ┆ Cereal    ┆ Offline   ┆ … ┆ 117.11    ┆ 1.1564e6  ┆ 822931.97 ┆ 333431.15 │\n",
       "│ East and   ┆         ┆           ┆           ┆   ┆           ┆           ┆           ┆           │\n",
       "│ North      ┆         ┆           ┆           ┆   ┆           ┆           ┆           ┆           │\n",
       "│ Africa     ┆         ┆           ┆           ┆   ┆           ┆           ┆           ┆           │\n",
       "└────────────┴─────────┴───────────┴───────────┴───┴───────────┴───────────┴───────────┴───────────┘"
      ]
     },
     "execution_count": 8,
     "metadata": {},
     "output_type": "execute_result"
    }
   ],
   "source": [
    "df.head()"
   ]
  },
  {
   "cell_type": "markdown",
   "id": "2b5219af",
   "metadata": {
    "id": "DWMZafSz3osN"
   },
   "source": [
    "## Vídeo 1.3 - Analisando os dados"
   ]
  },
  {
   "cell_type": "code",
   "execution_count": 9,
   "id": "f061c00e",
   "metadata": {
    "colab": {
     "base_uri": "https://localhost:8080/"
    },
    "id": "hq-ITEtiMEqe",
    "outputId": "4634d250-1543-4fd4-a9c0-8c85234783f9"
   },
   "outputs": [
    {
     "data": {
      "text/plain": [
       "[String,\n",
       " String,\n",
       " String,\n",
       " String,\n",
       " String,\n",
       " String,\n",
       " Int64,\n",
       " String,\n",
       " Int64,\n",
       " Float64,\n",
       " Float64,\n",
       " Float64,\n",
       " Float64,\n",
       " Float64]"
      ]
     },
     "execution_count": 9,
     "metadata": {},
     "output_type": "execute_result"
    }
   ],
   "source": [
    "df.dtypes"
   ]
  },
  {
   "cell_type": "code",
   "execution_count": 10,
   "id": "c3046154",
   "metadata": {
    "colab": {
     "base_uri": "https://localhost:8080/",
     "height": 452
    },
    "id": "rmwS4EUg2QOE",
    "outputId": "8babf3e6-4186-4f94-84b0-bb9bbb0e53db"
   },
   "outputs": [
    {
     "data": {
      "text/html": [
       "<div><style>\n",
       ".dataframe > thead > tr,\n",
       ".dataframe > tbody > tr {\n",
       "  text-align: right;\n",
       "  white-space: pre-wrap;\n",
       "}\n",
       "</style>\n",
       "<small>shape: (9, 15)</small><table border=\"1\" class=\"dataframe\"><thead><tr><th>statistic</th><th>Região</th><th>País</th><th>Tipo de Item</th><th>Canal de Venda</th><th>Prioridade do Pedido</th><th>Data do Pedido</th><th>ID do Pedido</th><th>Data de Envio</th><th>Unidades Vendidas</th><th>Preço Unitário</th><th>Custo Unitário</th><th>Receita Total</th><th>Custo Total</th><th>Lucro Total</th></tr><tr><td>str</td><td>str</td><td>str</td><td>str</td><td>str</td><td>str</td><td>str</td><td>f64</td><td>str</td><td>f64</td><td>f64</td><td>f64</td><td>f64</td><td>f64</td><td>f64</td></tr></thead><tbody><tr><td>&quot;count&quot;</td><td>&quot;5000000&quot;</td><td>&quot;5000000&quot;</td><td>&quot;5000000&quot;</td><td>&quot;5000000&quot;</td><td>&quot;5000000&quot;</td><td>&quot;5000000&quot;</td><td>5e6</td><td>&quot;5000000&quot;</td><td>5e6</td><td>5e6</td><td>5e6</td><td>5e6</td><td>5e6</td><td>5e6</td></tr><tr><td>&quot;null_count&quot;</td><td>&quot;0&quot;</td><td>&quot;0&quot;</td><td>&quot;0&quot;</td><td>&quot;0&quot;</td><td>&quot;0&quot;</td><td>&quot;0&quot;</td><td>0.0</td><td>&quot;0&quot;</td><td>0.0</td><td>0.0</td><td>0.0</td><td>0.0</td><td>0.0</td><td>0.0</td></tr><tr><td>&quot;mean&quot;</td><td>null</td><td>null</td><td>null</td><td>null</td><td>null</td><td>null</td><td>5.4989e8</td><td>null</td><td>4999.991061</td><td>266.190616</td><td>187.655991</td><td>1.1439e6</td><td>938378.122412</td><td>205508.425247</td></tr><tr><td>&quot;std&quot;</td><td>null</td><td>null</td><td>null</td><td>null</td><td>null</td><td>null</td><td>2.5978e8</td><td>null</td><td>2886.787007</td><td>217.015273</td><td>175.701379</td><td>1.3158e6</td><td>1.1501e6</td><td>451094.254368</td></tr><tr><td>&quot;min&quot;</td><td>&quot;Asia&quot;</td><td>&quot;Afghanistan&quot;</td><td>&quot;Baby Food&quot;</td><td>&quot;Offline&quot;</td><td>&quot;C&quot;</td><td>&quot;1/1/2010&quot;</td><td>1.00000321e8</td><td>&quot;1/1/2010&quot;</td><td>1.0</td><td>9.33</td><td>6.92</td><td>7.464</td><td>6.92</td><td>-271780.0</td></tr><tr><td>&quot;25%&quot;</td><td>null</td><td>null</td><td>null</td><td>null</td><td>null</td><td>null</td><td>3.24965131e8</td><td>null</td><td>2500.0</td><td>109.28</td><td>56.67</td><td>231366.2</td><td>161925.12</td><td>5065.57</td></tr><tr><td>&quot;50%&quot;</td><td>null</td><td>null</td><td>null</td><td>null</td><td>null</td><td>null</td><td>5.49764287e8</td><td>null</td><td>4999.0</td><td>205.7</td><td>117.11</td><td>658009.728</td><td>467712.0</td><td>80190.0</td></tr><tr><td>&quot;75%&quot;</td><td>null</td><td>null</td><td>null</td><td>null</td><td>null</td><td>null</td><td>7.74837243e8</td><td>null</td><td>7500.0</td><td>437.2</td><td>364.69</td><td>1.5568e6</td><td>1.1974e6</td><td>258412.7</td></tr><tr><td>&quot;max&quot;</td><td>&quot;Sub-Saharan Africa&quot;</td><td>&quot;Zimbabwe&quot;</td><td>&quot;Vegetables&quot;</td><td>&quot;Online&quot;</td><td>&quot;M&quot;</td><td>&quot;9/9/2020&quot;</td><td>9.99999892e8</td><td>&quot;9/9/2020&quot;</td><td>10000.0</td><td>668.27</td><td>524.96</td><td>1.002405e7</td><td>5.2496e6</td><td>4.99865e6</td></tr></tbody></table></div>"
      ],
      "text/plain": [
       "shape: (9, 15)\n",
       "┌───────────┬───────────┬───────────┬───────────┬───┬───────────┬───────────┬───────────┬──────────┐\n",
       "│ statistic ┆ Região    ┆ País      ┆ Tipo de   ┆ … ┆ Custo     ┆ Receita   ┆ Custo     ┆ Lucro    │\n",
       "│ ---       ┆ ---       ┆ ---       ┆ Item      ┆   ┆ Unitário  ┆ Total     ┆ Total     ┆ Total    │\n",
       "│ str       ┆ str       ┆ str       ┆ ---       ┆   ┆ ---       ┆ ---       ┆ ---       ┆ ---      │\n",
       "│           ┆           ┆           ┆ str       ┆   ┆ f64       ┆ f64       ┆ f64       ┆ f64      │\n",
       "╞═══════════╪═══════════╪═══════════╪═══════════╪═══╪═══════════╪═══════════╪═══════════╪══════════╡\n",
       "│ count     ┆ 5000000   ┆ 5000000   ┆ 5000000   ┆ … ┆ 5e6       ┆ 5e6       ┆ 5e6       ┆ 5e6      │\n",
       "│ null_coun ┆ 0         ┆ 0         ┆ 0         ┆ … ┆ 0.0       ┆ 0.0       ┆ 0.0       ┆ 0.0      │\n",
       "│ t         ┆           ┆           ┆           ┆   ┆           ┆           ┆           ┆          │\n",
       "│ mean      ┆ null      ┆ null      ┆ null      ┆ … ┆ 187.65599 ┆ 1.1439e6  ┆ 938378.12 ┆ 205508.4 │\n",
       "│           ┆           ┆           ┆           ┆   ┆ 1         ┆           ┆ 2412      ┆ 25247    │\n",
       "│ std       ┆ null      ┆ null      ┆ null      ┆ … ┆ 175.70137 ┆ 1.3158e6  ┆ 1.1501e6  ┆ 451094.2 │\n",
       "│           ┆           ┆           ┆           ┆   ┆ 9         ┆           ┆           ┆ 54368    │\n",
       "│ min       ┆ Asia      ┆ Afghanist ┆ Baby Food ┆ … ┆ 6.92      ┆ 7.464     ┆ 6.92      ┆ -271780. │\n",
       "│           ┆           ┆ an        ┆           ┆   ┆           ┆           ┆           ┆ 0        │\n",
       "│ 25%       ┆ null      ┆ null      ┆ null      ┆ … ┆ 56.67     ┆ 231366.2  ┆ 161925.12 ┆ 5065.57  │\n",
       "│ 50%       ┆ null      ┆ null      ┆ null      ┆ … ┆ 117.11    ┆ 658009.72 ┆ 467712.0  ┆ 80190.0  │\n",
       "│           ┆           ┆           ┆           ┆   ┆           ┆ 8         ┆           ┆          │\n",
       "│ 75%       ┆ null      ┆ null      ┆ null      ┆ … ┆ 364.69    ┆ 1.5568e6  ┆ 1.1974e6  ┆ 258412.7 │\n",
       "│ max       ┆ Sub-Sahar ┆ Zimbabwe  ┆ Vegetable ┆ … ┆ 524.96    ┆ 1.002405e ┆ 5.2496e6  ┆ 4.99865e │\n",
       "│           ┆ an Africa ┆           ┆ s         ┆   ┆           ┆ 7         ┆           ┆ 6        │\n",
       "└───────────┴───────────┴───────────┴───────────┴───┴───────────┴───────────┴───────────┴──────────┘"
      ]
     },
     "execution_count": 10,
     "metadata": {},
     "output_type": "execute_result"
    }
   ],
   "source": [
    "df.describe()"
   ]
  },
  {
   "cell_type": "code",
   "execution_count": 11,
   "id": "a78f6b44",
   "metadata": {
    "colab": {
     "base_uri": "https://localhost:8080/",
     "height": 380
    },
    "id": "Di2t2VtJSZK3",
    "outputId": "adf127ba-4d63-4d3b-e39e-db61a4817656"
   },
   "outputs": [
    {
     "data": {
      "text/html": [
       "<div><style>\n",
       ".dataframe > thead > tr,\n",
       ".dataframe > tbody > tr {\n",
       "  text-align: right;\n",
       "  white-space: pre-wrap;\n",
       "}\n",
       "</style>\n",
       "<small>shape: (9, 8)</small><table border=\"1\" class=\"dataframe\"><thead><tr><th>statistic</th><th>ID do Pedido</th><th>Unidades Vendidas</th><th>Preço Unitário</th><th>Custo Unitário</th><th>Receita Total</th><th>Custo Total</th><th>Lucro Total</th></tr><tr><td>str</td><td>f64</td><td>f64</td><td>f64</td><td>f64</td><td>f64</td><td>f64</td><td>f64</td></tr></thead><tbody><tr><td>&quot;count&quot;</td><td>5e6</td><td>5e6</td><td>5e6</td><td>5e6</td><td>5e6</td><td>5e6</td><td>5e6</td></tr><tr><td>&quot;null_count&quot;</td><td>0.0</td><td>0.0</td><td>0.0</td><td>0.0</td><td>0.0</td><td>0.0</td><td>0.0</td></tr><tr><td>&quot;mean&quot;</td><td>5.4989e8</td><td>4999.991061</td><td>266.190616</td><td>187.655991</td><td>1.1439e6</td><td>938378.122412</td><td>205508.425247</td></tr><tr><td>&quot;std&quot;</td><td>2.5978e8</td><td>2886.787007</td><td>217.015273</td><td>175.701379</td><td>1.3158e6</td><td>1.1501e6</td><td>451094.254368</td></tr><tr><td>&quot;min&quot;</td><td>1.00000321e8</td><td>1.0</td><td>9.33</td><td>6.92</td><td>7.464</td><td>6.92</td><td>-271780.0</td></tr><tr><td>&quot;25%&quot;</td><td>3.24965131e8</td><td>2500.0</td><td>109.28</td><td>56.67</td><td>231366.2</td><td>161925.12</td><td>5065.57</td></tr><tr><td>&quot;50%&quot;</td><td>5.49764287e8</td><td>4999.0</td><td>205.7</td><td>117.11</td><td>658009.728</td><td>467712.0</td><td>80190.0</td></tr><tr><td>&quot;75%&quot;</td><td>7.74837243e8</td><td>7500.0</td><td>437.2</td><td>364.69</td><td>1.5568e6</td><td>1.1974e6</td><td>258412.7</td></tr><tr><td>&quot;max&quot;</td><td>9.99999892e8</td><td>10000.0</td><td>668.27</td><td>524.96</td><td>1.002405e7</td><td>5.2496e6</td><td>4.99865e6</td></tr></tbody></table></div>"
      ],
      "text/plain": [
       "shape: (9, 8)\n",
       "┌────────────┬────────────┬────────────┬───────────┬───────────┬───────────┬───────────┬───────────┐\n",
       "│ statistic  ┆ ID do      ┆ Unidades   ┆ Preço     ┆ Custo     ┆ Receita   ┆ Custo     ┆ Lucro     │\n",
       "│ ---        ┆ Pedido     ┆ Vendidas   ┆ Unitário  ┆ Unitário  ┆ Total     ┆ Total     ┆ Total     │\n",
       "│ str        ┆ ---        ┆ ---        ┆ ---       ┆ ---       ┆ ---       ┆ ---       ┆ ---       │\n",
       "│            ┆ f64        ┆ f64        ┆ f64       ┆ f64       ┆ f64       ┆ f64       ┆ f64       │\n",
       "╞════════════╪════════════╪════════════╪═══════════╪═══════════╪═══════════╪═══════════╪═══════════╡\n",
       "│ count      ┆ 5e6        ┆ 5e6        ┆ 5e6       ┆ 5e6       ┆ 5e6       ┆ 5e6       ┆ 5e6       │\n",
       "│ null_count ┆ 0.0        ┆ 0.0        ┆ 0.0       ┆ 0.0       ┆ 0.0       ┆ 0.0       ┆ 0.0       │\n",
       "│ mean       ┆ 5.4989e8   ┆ 4999.99106 ┆ 266.19061 ┆ 187.65599 ┆ 1.1439e6  ┆ 938378.12 ┆ 205508.42 │\n",
       "│            ┆            ┆ 1          ┆ 6         ┆ 1         ┆           ┆ 2412      ┆ 5247      │\n",
       "│ std        ┆ 2.5978e8   ┆ 2886.78700 ┆ 217.01527 ┆ 175.70137 ┆ 1.3158e6  ┆ 1.1501e6  ┆ 451094.25 │\n",
       "│            ┆            ┆ 7          ┆ 3         ┆ 9         ┆           ┆           ┆ 4368      │\n",
       "│ min        ┆ 1.00000321 ┆ 1.0        ┆ 9.33      ┆ 6.92      ┆ 7.464     ┆ 6.92      ┆ -271780.0 │\n",
       "│            ┆ e8         ┆            ┆           ┆           ┆           ┆           ┆           │\n",
       "│ 25%        ┆ 3.24965131 ┆ 2500.0     ┆ 109.28    ┆ 56.67     ┆ 231366.2  ┆ 161925.12 ┆ 5065.57   │\n",
       "│            ┆ e8         ┆            ┆           ┆           ┆           ┆           ┆           │\n",
       "│ 50%        ┆ 5.49764287 ┆ 4999.0     ┆ 205.7     ┆ 117.11    ┆ 658009.72 ┆ 467712.0  ┆ 80190.0   │\n",
       "│            ┆ e8         ┆            ┆           ┆           ┆ 8         ┆           ┆           │\n",
       "│ 75%        ┆ 7.74837243 ┆ 7500.0     ┆ 437.2     ┆ 364.69    ┆ 1.5568e6  ┆ 1.1974e6  ┆ 258412.7  │\n",
       "│            ┆ e8         ┆            ┆           ┆           ┆           ┆           ┆           │\n",
       "│ max        ┆ 9.99999892 ┆ 10000.0    ┆ 668.27    ┆ 524.96    ┆ 1.002405e ┆ 5.2496e6  ┆ 4.99865e6 │\n",
       "│            ┆ e8         ┆            ┆           ┆           ┆ 7         ┆           ┆           │\n",
       "└────────────┴────────────┴────────────┴───────────┴───────────┴───────────┴───────────┴───────────┘"
      ]
     },
     "execution_count": 11,
     "metadata": {},
     "output_type": "execute_result"
    }
   ],
   "source": [
    "df.select(pl.col(pl.Int64, pl.Float64)).describe()"
   ]
  },
  {
   "cell_type": "code",
   "execution_count": 12,
   "id": "bf48ebed",
   "metadata": {
    "colab": {
     "base_uri": "https://localhost:8080/",
     "height": 147
    },
    "id": "69a_5P4mMHTH",
    "outputId": "e57b08cc-e059-440a-afc5-a00d773fbf28"
   },
   "outputs": [
    {
     "data": {
      "text/html": [
       "<div><style>\n",
       ".dataframe > thead > tr,\n",
       ".dataframe > tbody > tr {\n",
       "  text-align: right;\n",
       "  white-space: pre-wrap;\n",
       "}\n",
       "</style>\n",
       "<small>shape: (1, 14)</small><table border=\"1\" class=\"dataframe\"><thead><tr><th>Região</th><th>País</th><th>Tipo de Item</th><th>Canal de Venda</th><th>Prioridade do Pedido</th><th>Data do Pedido</th><th>ID do Pedido</th><th>Data de Envio</th><th>Unidades Vendidas</th><th>Preço Unitário</th><th>Custo Unitário</th><th>Receita Total</th><th>Custo Total</th><th>Lucro Total</th></tr><tr><td>u32</td><td>u32</td><td>u32</td><td>u32</td><td>u32</td><td>u32</td><td>u32</td><td>u32</td><td>u32</td><td>u32</td><td>u32</td><td>u32</td><td>u32</td><td>u32</td></tr></thead><tbody><tr><td>0</td><td>0</td><td>0</td><td>0</td><td>0</td><td>0</td><td>0</td><td>0</td><td>0</td><td>0</td><td>0</td><td>0</td><td>0</td><td>0</td></tr></tbody></table></div>"
      ],
      "text/plain": [
       "shape: (1, 14)\n",
       "┌────────┬──────┬─────────┬──────────┬───┬──────────┬─────────┬─────────────┬─────────────┐\n",
       "│ Região ┆ País ┆ Tipo de ┆ Canal de ┆ … ┆ Custo    ┆ Receita ┆ Custo Total ┆ Lucro Total │\n",
       "│ ---    ┆ ---  ┆ Item    ┆ Venda    ┆   ┆ Unitário ┆ Total   ┆ ---         ┆ ---         │\n",
       "│ u32    ┆ u32  ┆ ---     ┆ ---      ┆   ┆ ---      ┆ ---     ┆ u32         ┆ u32         │\n",
       "│        ┆      ┆ u32     ┆ u32      ┆   ┆ u32      ┆ u32     ┆             ┆             │\n",
       "╞════════╪══════╪═════════╪══════════╪═══╪══════════╪═════════╪═════════════╪═════════════╡\n",
       "│ 0      ┆ 0    ┆ 0       ┆ 0        ┆ … ┆ 0        ┆ 0       ┆ 0           ┆ 0           │\n",
       "└────────┴──────┴─────────┴──────────┴───┴──────────┴─────────┴─────────────┴─────────────┘"
      ]
     },
     "execution_count": 12,
     "metadata": {},
     "output_type": "execute_result"
    }
   ],
   "source": [
    "df.null_count()"
   ]
  },
  {
   "cell_type": "code",
   "execution_count": 13,
   "id": "b72cfe6e",
   "metadata": {
    "id": "eo1p-veRRkmW"
   },
   "outputs": [],
   "source": [
    "nan_counts = {\n",
    "    col: (\n",
    "        # Contar NaN apenas para colunas float\n",
    "        (df[col].is_nan().sum() if df[col].dtype in (pl.Int64, pl.Float64) else 0)\n",
    "        # Contar null para todas as colunas\n",
    "        + df[col].is_null().sum()\n",
    "    )\n",
    "    for col in df.columns\n",
    "}"
   ]
  },
  {
   "cell_type": "code",
   "execution_count": 14,
   "id": "960eca65",
   "metadata": {
    "colab": {
     "base_uri": "https://localhost:8080/"
    },
    "id": "FMbxkBnsRly9",
    "outputId": "64fb46de-c1e3-458e-aff8-fa88b72afe36"
   },
   "outputs": [
    {
     "data": {
      "text/plain": [
       "{'Região': 0,\n",
       " 'País': 0,\n",
       " 'Tipo de Item': 0,\n",
       " 'Canal de Venda': 0,\n",
       " 'Prioridade do Pedido': 0,\n",
       " 'Data do Pedido': 0,\n",
       " 'ID do Pedido': 0,\n",
       " 'Data de Envio': 0,\n",
       " 'Unidades Vendidas': 0,\n",
       " 'Preço Unitário': 0,\n",
       " 'Custo Unitário': 0,\n",
       " 'Receita Total': 0,\n",
       " 'Custo Total': 0,\n",
       " 'Lucro Total': 0}"
      ]
     },
     "execution_count": 14,
     "metadata": {},
     "output_type": "execute_result"
    }
   ],
   "source": [
    "nan_counts"
   ]
  },
  {
   "cell_type": "markdown",
   "id": "4efb7dd1",
   "metadata": {
    "id": "c78RmtZq32Gw"
   },
   "source": [
    "## Vídeo - 1.4 - Seleção de dados"
   ]
  },
  {
   "cell_type": "code",
   "execution_count": 15,
   "id": "3a5dc952",
   "metadata": {
    "colab": {
     "base_uri": "https://localhost:8080/",
     "height": 318
    },
    "id": "5iI2ZaKC36ph",
    "outputId": "bd68d5c2-8442-4809-d9d3-bf8cbea8dfe5"
   },
   "outputs": [
    {
     "data": {
      "text/html": [
       "<div><style>\n",
       ".dataframe > thead > tr,\n",
       ".dataframe > tbody > tr {\n",
       "  text-align: right;\n",
       "  white-space: pre-wrap;\n",
       "}\n",
       "</style>\n",
       "<small>shape: (7,)</small><table border=\"1\" class=\"dataframe\"><thead><tr><th>Região</th></tr><tr><td>str</td></tr></thead><tbody><tr><td>&quot;Asia&quot;</td></tr><tr><td>&quot;Central America and the Caribb…</td></tr><tr><td>&quot;Europe&quot;</td></tr><tr><td>&quot;Middle East and North Africa&quot;</td></tr><tr><td>&quot;Australia and Oceania&quot;</td></tr><tr><td>&quot;North America&quot;</td></tr><tr><td>&quot;Sub-Saharan Africa&quot;</td></tr></tbody></table></div>"
      ],
      "text/plain": [
       "shape: (7,)\n",
       "Series: 'Região' [str]\n",
       "[\n",
       "\t\"Asia\"\n",
       "\t\"Central America and the Caribb…\n",
       "\t\"Europe\"\n",
       "\t\"Middle East and North Africa\"\n",
       "\t\"Australia and Oceania\"\n",
       "\t\"North America\"\n",
       "\t\"Sub-Saharan Africa\"\n",
       "]"
      ]
     },
     "execution_count": 15,
     "metadata": {},
     "output_type": "execute_result"
    }
   ],
   "source": [
    "df['Região'].unique()"
   ]
  },
  {
   "cell_type": "code",
   "execution_count": 16,
   "id": "cde5cb45",
   "metadata": {
    "id": "VezmAQdUCHFf"
   },
   "outputs": [],
   "source": [
    "df_regions = df.filter((pl.col(\"Região\") == \"Europe\") | (pl.col(\"Região\") == \"Asia\"))"
   ]
  },
  {
   "cell_type": "code",
   "execution_count": 17,
   "id": "00a0031c",
   "metadata": {
    "colab": {
     "base_uri": "https://localhost:8080/"
    },
    "id": "hsL7f3AJCMt3",
    "outputId": "295d423c-5f53-4b84-f401-bfade46a594d"
   },
   "outputs": [
    {
     "data": {
      "text/plain": [
       "(2026538, 14)"
      ]
     },
     "execution_count": 17,
     "metadata": {},
     "output_type": "execute_result"
    }
   ],
   "source": [
    "df_regions.shape"
   ]
  },
  {
   "cell_type": "code",
   "execution_count": 18,
   "id": "e4fc42c7",
   "metadata": {
    "colab": {
     "base_uri": "https://localhost:8080/",
     "height": 344
    },
    "id": "3XEc03pMCryd",
    "outputId": "b29b8d14-d070-45a9-ef55-27b32348d797"
   },
   "outputs": [
    {
     "data": {
      "text/html": [
       "<div><style>\n",
       ".dataframe > thead > tr,\n",
       ".dataframe > tbody > tr {\n",
       "  text-align: right;\n",
       "  white-space: pre-wrap;\n",
       "}\n",
       "</style>\n",
       "<small>shape: (5, 14)</small><table border=\"1\" class=\"dataframe\"><thead><tr><th>Região</th><th>País</th><th>Tipo de Item</th><th>Canal de Venda</th><th>Prioridade do Pedido</th><th>Data do Pedido</th><th>ID do Pedido</th><th>Data de Envio</th><th>Unidades Vendidas</th><th>Preço Unitário</th><th>Custo Unitário</th><th>Receita Total</th><th>Custo Total</th><th>Lucro Total</th></tr><tr><td>str</td><td>str</td><td>str</td><td>str</td><td>str</td><td>str</td><td>i64</td><td>str</td><td>i64</td><td>f64</td><td>f64</td><td>f64</td><td>f64</td><td>f64</td></tr></thead><tbody><tr><td>&quot;Europe&quot;</td><td>&quot;Poland&quot;</td><td>&quot;Beverages&quot;</td><td>&quot;Online&quot;</td><td>&quot;L&quot;</td><td>&quot;4/18/2010&quot;</td><td>380507028</td><td>&quot;5/26/2010&quot;</td><td>9340</td><td>47.45</td><td>31.79</td><td>354546.4</td><td>296918.6</td><td>57627.8</td></tr><tr><td>&quot;Europe&quot;</td><td>&quot;Belarus&quot;</td><td>&quot;Snacks&quot;</td><td>&quot;Online&quot;</td><td>&quot;C&quot;</td><td>&quot;1/19/2014&quot;</td><td>954955518</td><td>&quot;2/27/2014&quot;</td><td>1414</td><td>152.58</td><td>97.44</td><td>172598.496</td><td>137780.16</td><td>34818.336</td></tr><tr><td>&quot;Europe&quot;</td><td>&quot;Montenegro&quot;</td><td>&quot;Personal Care&quot;</td><td>&quot;Online&quot;</td><td>&quot;H&quot;</td><td>&quot;11/24/2012&quot;</td><td>598814380</td><td>&quot;12/25/2012&quot;</td><td>1337</td><td>81.73</td><td>56.67</td><td>87418.408</td><td>75767.79</td><td>11650.618</td></tr><tr><td>&quot;Europe&quot;</td><td>&quot;Portugal&quot;</td><td>&quot;Cosmetics&quot;</td><td>&quot;Online&quot;</td><td>&quot;M&quot;</td><td>&quot;11/12/2012&quot;</td><td>390570247</td><td>&quot;11/13/2012&quot;</td><td>7270</td><td>437.2</td><td>263.33</td><td>2.5428e6</td><td>1914409.1</td><td>628346.1</td></tr><tr><td>&quot;Europe&quot;</td><td>&quot;Germany&quot;</td><td>&quot;Personal Care&quot;</td><td>&quot;Offline&quot;</td><td>&quot;H&quot;</td><td>&quot;12/25/2010&quot;</td><td>842548644</td><td>&quot;1/24/2011&quot;</td><td>7722</td><td>81.73</td><td>56.67</td><td>504895.248</td><td>437605.74</td><td>67289.508</td></tr></tbody></table></div>"
      ],
      "text/plain": [
       "shape: (5, 14)\n",
       "┌────────┬────────────┬────────────┬───────────┬───┬───────────┬───────────┬───────────┬───────────┐\n",
       "│ Região ┆ País       ┆ Tipo de    ┆ Canal de  ┆ … ┆ Custo     ┆ Receita   ┆ Custo     ┆ Lucro     │\n",
       "│ ---    ┆ ---        ┆ Item       ┆ Venda     ┆   ┆ Unitário  ┆ Total     ┆ Total     ┆ Total     │\n",
       "│ str    ┆ str        ┆ ---        ┆ ---       ┆   ┆ ---       ┆ ---       ┆ ---       ┆ ---       │\n",
       "│        ┆            ┆ str        ┆ str       ┆   ┆ f64       ┆ f64       ┆ f64       ┆ f64       │\n",
       "╞════════╪════════════╪════════════╪═══════════╪═══╪═══════════╪═══════════╪═══════════╪═══════════╡\n",
       "│ Europe ┆ Poland     ┆ Beverages  ┆ Online    ┆ … ┆ 31.79     ┆ 354546.4  ┆ 296918.6  ┆ 57627.8   │\n",
       "│ Europe ┆ Belarus    ┆ Snacks     ┆ Online    ┆ … ┆ 97.44     ┆ 172598.49 ┆ 137780.16 ┆ 34818.336 │\n",
       "│        ┆            ┆            ┆           ┆   ┆           ┆ 6         ┆           ┆           │\n",
       "│ Europe ┆ Montenegro ┆ Personal   ┆ Online    ┆ … ┆ 56.67     ┆ 87418.408 ┆ 75767.79  ┆ 11650.618 │\n",
       "│        ┆            ┆ Care       ┆           ┆   ┆           ┆           ┆           ┆           │\n",
       "│ Europe ┆ Portugal   ┆ Cosmetics  ┆ Online    ┆ … ┆ 263.33    ┆ 2.5428e6  ┆ 1914409.1 ┆ 628346.1  │\n",
       "│ Europe ┆ Germany    ┆ Personal   ┆ Offline   ┆ … ┆ 56.67     ┆ 504895.24 ┆ 437605.74 ┆ 67289.508 │\n",
       "│        ┆            ┆ Care       ┆           ┆   ┆           ┆ 8         ┆           ┆           │\n",
       "└────────┴────────────┴────────────┴───────────┴───┴───────────┴───────────┴───────────┴───────────┘"
      ]
     },
     "execution_count": 18,
     "metadata": {},
     "output_type": "execute_result"
    }
   ],
   "source": [
    "df_regions.head()"
   ]
  },
  {
   "cell_type": "code",
   "execution_count": 19,
   "id": "5a12de89",
   "metadata": {
    "colab": {
     "base_uri": "https://localhost:8080/",
     "height": 324
    },
    "id": "IRy-h014Eqa3",
    "outputId": "44400dbd-0cf6-40c4-8ff1-49716d44f3c1"
   },
   "outputs": [
    {
     "data": {
      "text/html": [
       "<div><style>\n",
       ".dataframe > thead > tr,\n",
       ".dataframe > tbody > tr {\n",
       "  text-align: right;\n",
       "  white-space: pre-wrap;\n",
       "}\n",
       "</style>\n",
       "<small>shape: (5, 14)</small><table border=\"1\" class=\"dataframe\"><thead><tr><th>Região</th><th>País</th><th>Tipo de Item</th><th>Canal de Venda</th><th>Prioridade do Pedido</th><th>Data do Pedido</th><th>ID do Pedido</th><th>Data de Envio</th><th>Unidades Vendidas</th><th>Preço Unitário</th><th>Custo Unitário</th><th>Receita Total</th><th>Custo Total</th><th>Lucro Total</th></tr><tr><td>str</td><td>str</td><td>str</td><td>str</td><td>str</td><td>str</td><td>i64</td><td>str</td><td>i64</td><td>f64</td><td>f64</td><td>f64</td><td>f64</td><td>f64</td></tr></thead><tbody><tr><td>&quot;Europe&quot;</td><td>&quot;Germany&quot;</td><td>&quot;Personal Care&quot;</td><td>&quot;Offline&quot;</td><td>&quot;H&quot;</td><td>&quot;12/25/2010&quot;</td><td>842548644</td><td>&quot;1/24/2011&quot;</td><td>7722</td><td>81.73</td><td>56.67</td><td>504895.248</td><td>437605.74</td><td>67289.508</td></tr><tr><td>&quot;Europe&quot;</td><td>&quot;Germany&quot;</td><td>&quot;Clothes&quot;</td><td>&quot;Online&quot;</td><td>&quot;L&quot;</td><td>&quot;7/1/2011&quot;</td><td>650888288</td><td>&quot;8/18/2011&quot;</td><td>1163</td><td>109.28</td><td>35.84</td><td>101674.112</td><td>41681.92</td><td>59992.192</td></tr><tr><td>&quot;Europe&quot;</td><td>&quot;Germany&quot;</td><td>&quot;Meat&quot;</td><td>&quot;Online&quot;</td><td>&quot;H&quot;</td><td>&quot;9/9/2013&quot;</td><td>444275796</td><td>&quot;10/3/2013&quot;</td><td>9936</td><td>421.89</td><td>364.69</td><td>3.3535e6</td><td>3.6236e6</td><td>-270040.608</td></tr><tr><td>&quot;Europe&quot;</td><td>&quot;Germany&quot;</td><td>&quot;Cereal&quot;</td><td>&quot;Online&quot;</td><td>&quot;M&quot;</td><td>&quot;4/10/2011&quot;</td><td>847790753</td><td>&quot;5/22/2011&quot;</td><td>8979</td><td>205.7</td><td>117.11</td><td>1.4776e6</td><td>1.0515e6</td><td>426053.55</td></tr><tr><td>&quot;Europe&quot;</td><td>&quot;Germany&quot;</td><td>&quot;Baby Food&quot;</td><td>&quot;Offline&quot;</td><td>&quot;H&quot;</td><td>&quot;6/2/2011&quot;</td><td>817252624</td><td>&quot;6/22/2011&quot;</td><td>2067</td><td>255.28</td><td>159.42</td><td>422131.008</td><td>329521.14</td><td>92609.868</td></tr></tbody></table></div>"
      ],
      "text/plain": [
       "shape: (5, 14)\n",
       "┌────────┬─────────┬────────────┬────────────┬───┬────────────┬────────────┬───────────┬───────────┐\n",
       "│ Região ┆ País    ┆ Tipo de    ┆ Canal de   ┆ … ┆ Custo      ┆ Receita    ┆ Custo     ┆ Lucro     │\n",
       "│ ---    ┆ ---     ┆ Item       ┆ Venda      ┆   ┆ Unitário   ┆ Total      ┆ Total     ┆ Total     │\n",
       "│ str    ┆ str     ┆ ---        ┆ ---        ┆   ┆ ---        ┆ ---        ┆ ---       ┆ ---       │\n",
       "│        ┆         ┆ str        ┆ str        ┆   ┆ f64        ┆ f64        ┆ f64       ┆ f64       │\n",
       "╞════════╪═════════╪════════════╪════════════╪═══╪════════════╪════════════╪═══════════╪═══════════╡\n",
       "│ Europe ┆ Germany ┆ Personal   ┆ Offline    ┆ … ┆ 56.67      ┆ 504895.248 ┆ 437605.74 ┆ 67289.508 │\n",
       "│        ┆         ┆ Care       ┆            ┆   ┆            ┆            ┆           ┆           │\n",
       "│ Europe ┆ Germany ┆ Clothes    ┆ Online     ┆ … ┆ 35.84      ┆ 101674.112 ┆ 41681.92  ┆ 59992.192 │\n",
       "│ Europe ┆ Germany ┆ Meat       ┆ Online     ┆ … ┆ 364.69     ┆ 3.3535e6   ┆ 3.6236e6  ┆ -270040.6 │\n",
       "│        ┆         ┆            ┆            ┆   ┆            ┆            ┆           ┆ 08        │\n",
       "│ Europe ┆ Germany ┆ Cereal     ┆ Online     ┆ … ┆ 117.11     ┆ 1.4776e6   ┆ 1.0515e6  ┆ 426053.55 │\n",
       "│ Europe ┆ Germany ┆ Baby Food  ┆ Offline    ┆ … ┆ 159.42     ┆ 422131.008 ┆ 329521.14 ┆ 92609.868 │\n",
       "└────────┴─────────┴────────────┴────────────┴───┴────────────┴────────────┴───────────┴───────────┘"
      ]
     },
     "execution_count": 19,
     "metadata": {},
     "output_type": "execute_result"
    }
   ],
   "source": [
    "df = df.filter(df[\"País\"] == \"Germany\")\n",
    "df.head()"
   ]
  }
 ],
 "metadata": {},
 "nbformat": 4,
 "nbformat_minor": 5
}