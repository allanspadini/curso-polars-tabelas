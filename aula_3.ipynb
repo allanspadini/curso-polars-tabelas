{
 "cells": [
  {
   "cell_type": "markdown",
   "id": "a8257561",
   "metadata": {
    "id": "ieK1eCIN2oE8"
   },
   "source": [
    "# Aula 1 - Leitura de arquivos com o Polars"
   ]
  },
  {
   "cell_type": "markdown",
   "id": "4b16e261",
   "metadata": {
    "id": "hjDmt9oey93e"
   },
   "source": [
    "https://excelbianalytics.com/wp/downloads-18-sample-csv-files-data-sets-for-testing-sales/"
   ]
  },
  {
   "cell_type": "markdown",
   "id": "064d50fa",
   "metadata": {
    "id": "3ZHydavC2yLe"
   },
   "source": [
    "## Vídeo 1.2 - Colocando um arquivo em dataframe"
   ]
  },
  {
   "cell_type": "code",
   "execution_count": 1,
   "id": "d3c8ba6d",
   "metadata": {
    "id": "16ksz_-yxmMF"
   },
   "outputs": [],
   "source": [
    "#url ='/content/drive/MyDrive/Alura/Cursos/4403 - Polars: manipulando tabelas/Projeto/dadocurso.zip'"
   ]
  },
  {
   "cell_type": "code",
   "execution_count": 2,
   "id": "3489af54",
   "metadata": {
    "id": "9NuilQ-3ATrm"
   },
   "outputs": [],
   "source": [
    "#import zipfile"
   ]
  },
  {
   "cell_type": "code",
   "execution_count": 3,
   "id": "9a3f6066",
   "metadata": {
    "id": "NT25J22CAb3L"
   },
   "outputs": [],
   "source": [
    "# Diretório onde o arquivo será extraído\n",
    "#extract_path = '/content/drive/MyDrive/Alura/Cursos/4403 - Polars: manipulando tabelas/Projeto/'"
   ]
  },
  {
   "cell_type": "code",
   "execution_count": 4,
   "id": "892f3141",
   "metadata": {
    "id": "OFv9TTytAehF"
   },
   "outputs": [],
   "source": [
    "# Extraia o conteúdo do arquivo ZIP\n",
    "#with zipfile.ZipFile(url, 'r') as zip_ref:\n",
    "#    zip_ref.extractall(extract_path)\n",
    "\n",
    "#print(\"Arquivo descompactado com sucesso!\")"
   ]
  },
  {
   "cell_type": "code",
   "execution_count": 5,
   "id": "494ba057",
   "metadata": {
    "id": "Hv1xZJCh2HGJ"
   },
   "outputs": [],
   "source": [
    "import polars as pl"
   ]
  },
  {
   "cell_type": "code",
   "execution_count": 6,
   "id": "284ee7d4",
   "metadata": {
    "id": "DzzUO3k2CL4u"
   },
   "outputs": [],
   "source": [
    "caminho_csv = '/content/drive/MyDrive/Alura/Cursos/4403 - Polars: manipulando tabelas/Projeto/dadocurso.csv'"
   ]
  },
  {
   "cell_type": "code",
   "execution_count": 7,
   "id": "3b8c20e3",
   "metadata": {
    "id": "H08OZa13B9My"
   },
   "outputs": [],
   "source": [
    "df = pl.read_csv(caminho_csv)\n",
    "df_original = df.clone()"
   ]
  },
  {
   "cell_type": "code",
   "execution_count": 8,
   "id": "4199de76",
   "metadata": {
    "colab": {
     "base_uri": "https://localhost:8080/",
     "height": 394
    },
    "id": "zO2-krn9CT0b",
    "outputId": "58d6f89a-5746-417d-e011-4a2d9d857542"
   },
   "outputs": [
    {
     "data": {
      "text/html": [
       "<div><style>\n",
       ".dataframe > thead > tr,\n",
       ".dataframe > tbody > tr {\n",
       "  text-align: right;\n",
       "  white-space: pre-wrap;\n",
       "}\n",
       "</style>\n",
       "<small>shape: (5, 14)</small><table border=\"1\" class=\"dataframe\"><thead><tr><th>Região</th><th>País</th><th>Tipo de Item</th><th>Canal de Venda</th><th>Prioridade do Pedido</th><th>Data do Pedido</th><th>ID do Pedido</th><th>Data de Envio</th><th>Unidades Vendidas</th><th>Preço Unitário</th><th>Custo Unitário</th><th>Receita Total</th><th>Custo Total</th><th>Lucro Total</th></tr><tr><td>str</td><td>str</td><td>str</td><td>str</td><td>str</td><td>str</td><td>i64</td><td>str</td><td>i64</td><td>f64</td><td>f64</td><td>f64</td><td>f64</td><td>f64</td></tr></thead><tbody><tr><td>&quot;Australia and Oceania&quot;</td><td>&quot;Palau&quot;</td><td>&quot;Office Supplies&quot;</td><td>&quot;Online&quot;</td><td>&quot;H&quot;</td><td>&quot;3/6/2016&quot;</td><td>517073523</td><td>&quot;3/26/2016&quot;</td><td>2401</td><td>651.21</td><td>524.96</td><td>1.2508e6</td><td>1.2604e6</td><td>-9584.792</td></tr><tr><td>&quot;Europe&quot;</td><td>&quot;Poland&quot;</td><td>&quot;Beverages&quot;</td><td>&quot;Online&quot;</td><td>&quot;L&quot;</td><td>&quot;4/18/2010&quot;</td><td>380507028</td><td>&quot;5/26/2010&quot;</td><td>9340</td><td>47.45</td><td>31.79</td><td>354546.4</td><td>296918.6</td><td>57627.8</td></tr><tr><td>&quot;North America&quot;</td><td>&quot;Canada&quot;</td><td>&quot;Cereal&quot;</td><td>&quot;Online&quot;</td><td>&quot;M&quot;</td><td>&quot;1/8/2015&quot;</td><td>504055583</td><td>&quot;1/31/2015&quot;</td><td>103</td><td>205.7</td><td>117.11</td><td>16949.68</td><td>12062.33</td><td>4887.35</td></tr><tr><td>&quot;Europe&quot;</td><td>&quot;Belarus&quot;</td><td>&quot;Snacks&quot;</td><td>&quot;Online&quot;</td><td>&quot;C&quot;</td><td>&quot;1/19/2014&quot;</td><td>954955518</td><td>&quot;2/27/2014&quot;</td><td>1414</td><td>152.58</td><td>97.44</td><td>172598.496</td><td>137780.16</td><td>34818.336</td></tr><tr><td>&quot;Middle East and North Africa&quot;</td><td>&quot;Oman&quot;</td><td>&quot;Cereal&quot;</td><td>&quot;Offline&quot;</td><td>&quot;H&quot;</td><td>&quot;4/26/2019&quot;</td><td>970755660</td><td>&quot;6/2/2019&quot;</td><td>7027</td><td>205.7</td><td>117.11</td><td>1.1564e6</td><td>822931.97</td><td>333431.15</td></tr></tbody></table></div>"
      ],
      "text/plain": [
       "shape: (5, 14)\n",
       "┌────────────┬─────────┬───────────┬───────────┬───┬───────────┬───────────┬───────────┬───────────┐\n",
       "│ Região     ┆ País    ┆ Tipo de   ┆ Canal de  ┆ … ┆ Custo     ┆ Receita   ┆ Custo     ┆ Lucro     │\n",
       "│ ---        ┆ ---     ┆ Item      ┆ Venda     ┆   ┆ Unitário  ┆ Total     ┆ Total     ┆ Total     │\n",
       "│ str        ┆ str     ┆ ---       ┆ ---       ┆   ┆ ---       ┆ ---       ┆ ---       ┆ ---       │\n",
       "│            ┆         ┆ str       ┆ str       ┆   ┆ f64       ┆ f64       ┆ f64       ┆ f64       │\n",
       "╞════════════╪═════════╪═══════════╪═══════════╪═══╪═══════════╪═══════════╪═══════════╪═══════════╡\n",
       "│ Australia  ┆ Palau   ┆ Office    ┆ Online    ┆ … ┆ 524.96    ┆ 1.2508e6  ┆ 1.2604e6  ┆ -9584.792 │\n",
       "│ and        ┆         ┆ Supplies  ┆           ┆   ┆           ┆           ┆           ┆           │\n",
       "│ Oceania    ┆         ┆           ┆           ┆   ┆           ┆           ┆           ┆           │\n",
       "│ Europe     ┆ Poland  ┆ Beverages ┆ Online    ┆ … ┆ 31.79     ┆ 354546.4  ┆ 296918.6  ┆ 57627.8   │\n",
       "│ North      ┆ Canada  ┆ Cereal    ┆ Online    ┆ … ┆ 117.11    ┆ 16949.68  ┆ 12062.33  ┆ 4887.35   │\n",
       "│ America    ┆         ┆           ┆           ┆   ┆           ┆           ┆           ┆           │\n",
       "│ Europe     ┆ Belarus ┆ Snacks    ┆ Online    ┆ … ┆ 97.44     ┆ 172598.49 ┆ 137780.16 ┆ 34818.336 │\n",
       "│            ┆         ┆           ┆           ┆   ┆           ┆ 6         ┆           ┆           │\n",
       "│ Middle     ┆ Oman    ┆ Cereal    ┆ Offline   ┆ … ┆ 117.11    ┆ 1.1564e6  ┆ 822931.97 ┆ 333431.15 │\n",
       "│ East and   ┆         ┆           ┆           ┆   ┆           ┆           ┆           ┆           │\n",
       "│ North      ┆         ┆           ┆           ┆   ┆           ┆           ┆           ┆           │\n",
       "│ Africa     ┆         ┆           ┆           ┆   ┆           ┆           ┆           ┆           │\n",
       "└────────────┴─────────┴───────────┴───────────┴───┴───────────┴───────────┴───────────┴───────────┘"
      ]
     },
     "execution_count": 8,
     "metadata": {},
     "output_type": "execute_result"
    }
   ],
   "source": [
    "df.head()"
   ]
  },
  {
   "cell_type": "markdown",
   "id": "c30ff238",
   "metadata": {
    "id": "DWMZafSz3osN"
   },
   "source": [
    "## Vídeo 1.3 - Analisando os dados"
   ]
  },
  {
   "cell_type": "code",
   "execution_count": 9,
   "id": "b3135c82",
   "metadata": {
    "colab": {
     "base_uri": "https://localhost:8080/"
    },
    "id": "hq-ITEtiMEqe",
    "outputId": "4634d250-1543-4fd4-a9c0-8c85234783f9"
   },
   "outputs": [
    {
     "data": {
      "text/plain": [
       "[String,\n",
       " String,\n",
       " String,\n",
       " String,\n",
       " String,\n",
       " String,\n",
       " Int64,\n",
       " String,\n",
       " Int64,\n",
       " Float64,\n",
       " Float64,\n",
       " Float64,\n",
       " Float64,\n",
       " Float64]"
      ]
     },
     "execution_count": 9,
     "metadata": {},
     "output_type": "execute_result"
    }
   ],
   "source": [
    "df.dtypes"
   ]
  },
  {
   "cell_type": "code",
   "execution_count": 10,
   "id": "1a7f58b6",
   "metadata": {
    "colab": {
     "base_uri": "https://localhost:8080/",
     "height": 452
    },
    "id": "rmwS4EUg2QOE",
    "outputId": "8babf3e6-4186-4f94-84b0-bb9bbb0e53db"
   },
   "outputs": [
    {
     "data": {
      "text/html": [
       "<div><style>\n",
       ".dataframe > thead > tr,\n",
       ".dataframe > tbody > tr {\n",
       "  text-align: right;\n",
       "  white-space: pre-wrap;\n",
       "}\n",
       "</style>\n",
       "<small>shape: (9, 15)</small><table border=\"1\" class=\"dataframe\"><thead><tr><th>statistic</th><th>Região</th><th>País</th><th>Tipo de Item</th><th>Canal de Venda</th><th>Prioridade do Pedido</th><th>Data do Pedido</th><th>ID do Pedido</th><th>Data de Envio</th><th>Unidades Vendidas</th><th>Preço Unitário</th><th>Custo Unitário</th><th>Receita Total</th><th>Custo Total</th><th>Lucro Total</th></tr><tr><td>str</td><td>str</td><td>str</td><td>str</td><td>str</td><td>str</td><td>str</td><td>f64</td><td>str</td><td>f64</td><td>f64</td><td>f64</td><td>f64</td><td>f64</td><td>f64</td></tr></thead><tbody><tr><td>&quot;count&quot;</td><td>&quot;5000000&quot;</td><td>&quot;5000000&quot;</td><td>&quot;5000000&quot;</td><td>&quot;5000000&quot;</td><td>&quot;5000000&quot;</td><td>&quot;5000000&quot;</td><td>5e6</td><td>&quot;5000000&quot;</td><td>5e6</td><td>5e6</td><td>5e6</td><td>5e6</td><td>5e6</td><td>5e6</td></tr><tr><td>&quot;null_count&quot;</td><td>&quot;0&quot;</td><td>&quot;0&quot;</td><td>&quot;0&quot;</td><td>&quot;0&quot;</td><td>&quot;0&quot;</td><td>&quot;0&quot;</td><td>0.0</td><td>&quot;0&quot;</td><td>0.0</td><td>0.0</td><td>0.0</td><td>0.0</td><td>0.0</td><td>0.0</td></tr><tr><td>&quot;mean&quot;</td><td>null</td><td>null</td><td>null</td><td>null</td><td>null</td><td>null</td><td>5.4989e8</td><td>null</td><td>4999.991061</td><td>266.190616</td><td>187.655991</td><td>1.1439e6</td><td>938378.122412</td><td>205508.425247</td></tr><tr><td>&quot;std&quot;</td><td>null</td><td>null</td><td>null</td><td>null</td><td>null</td><td>null</td><td>2.5978e8</td><td>null</td><td>2886.787007</td><td>217.015273</td><td>175.701379</td><td>1.3158e6</td><td>1.1501e6</td><td>451094.254368</td></tr><tr><td>&quot;min&quot;</td><td>&quot;Asia&quot;</td><td>&quot;Afghanistan&quot;</td><td>&quot;Baby Food&quot;</td><td>&quot;Offline&quot;</td><td>&quot;C&quot;</td><td>&quot;1/1/2010&quot;</td><td>1.00000321e8</td><td>&quot;1/1/2010&quot;</td><td>1.0</td><td>9.33</td><td>6.92</td><td>7.464</td><td>6.92</td><td>-271780.0</td></tr><tr><td>&quot;25%&quot;</td><td>null</td><td>null</td><td>null</td><td>null</td><td>null</td><td>null</td><td>3.24965131e8</td><td>null</td><td>2500.0</td><td>109.28</td><td>56.67</td><td>231366.2</td><td>161925.12</td><td>5065.57</td></tr><tr><td>&quot;50%&quot;</td><td>null</td><td>null</td><td>null</td><td>null</td><td>null</td><td>null</td><td>5.49764287e8</td><td>null</td><td>4999.0</td><td>205.7</td><td>117.11</td><td>658009.728</td><td>467712.0</td><td>80190.0</td></tr><tr><td>&quot;75%&quot;</td><td>null</td><td>null</td><td>null</td><td>null</td><td>null</td><td>null</td><td>7.74837243e8</td><td>null</td><td>7500.0</td><td>437.2</td><td>364.69</td><td>1.5568e6</td><td>1.1974e6</td><td>258412.7</td></tr><tr><td>&quot;max&quot;</td><td>&quot;Sub-Saharan Africa&quot;</td><td>&quot;Zimbabwe&quot;</td><td>&quot;Vegetables&quot;</td><td>&quot;Online&quot;</td><td>&quot;M&quot;</td><td>&quot;9/9/2020&quot;</td><td>9.99999892e8</td><td>&quot;9/9/2020&quot;</td><td>10000.0</td><td>668.27</td><td>524.96</td><td>1.002405e7</td><td>5.2496e6</td><td>4.99865e6</td></tr></tbody></table></div>"
      ],
      "text/plain": [
       "shape: (9, 15)\n",
       "┌───────────┬───────────┬───────────┬───────────┬───┬───────────┬───────────┬───────────┬──────────┐\n",
       "│ statistic ┆ Região    ┆ País      ┆ Tipo de   ┆ … ┆ Custo     ┆ Receita   ┆ Custo     ┆ Lucro    │\n",
       "│ ---       ┆ ---       ┆ ---       ┆ Item      ┆   ┆ Unitário  ┆ Total     ┆ Total     ┆ Total    │\n",
       "│ str       ┆ str       ┆ str       ┆ ---       ┆   ┆ ---       ┆ ---       ┆ ---       ┆ ---      │\n",
       "│           ┆           ┆           ┆ str       ┆   ┆ f64       ┆ f64       ┆ f64       ┆ f64      │\n",
       "╞═══════════╪═══════════╪═══════════╪═══════════╪═══╪═══════════╪═══════════╪═══════════╪══════════╡\n",
       "│ count     ┆ 5000000   ┆ 5000000   ┆ 5000000   ┆ … ┆ 5e6       ┆ 5e6       ┆ 5e6       ┆ 5e6      │\n",
       "│ null_coun ┆ 0         ┆ 0         ┆ 0         ┆ … ┆ 0.0       ┆ 0.0       ┆ 0.0       ┆ 0.0      │\n",
       "│ t         ┆           ┆           ┆           ┆   ┆           ┆           ┆           ┆          │\n",
       "│ mean      ┆ null      ┆ null      ┆ null      ┆ … ┆ 187.65599 ┆ 1.1439e6  ┆ 938378.12 ┆ 205508.4 │\n",
       "│           ┆           ┆           ┆           ┆   ┆ 1         ┆           ┆ 2412      ┆ 25247    │\n",
       "│ std       ┆ null      ┆ null      ┆ null      ┆ … ┆ 175.70137 ┆ 1.3158e6  ┆ 1.1501e6  ┆ 451094.2 │\n",
       "│           ┆           ┆           ┆           ┆   ┆ 9         ┆           ┆           ┆ 54368    │\n",
       "│ min       ┆ Asia      ┆ Afghanist ┆ Baby Food ┆ … ┆ 6.92      ┆ 7.464     ┆ 6.92      ┆ -271780. │\n",
       "│           ┆           ┆ an        ┆           ┆   ┆           ┆           ┆           ┆ 0        │\n",
       "│ 25%       ┆ null      ┆ null      ┆ null      ┆ … ┆ 56.67     ┆ 231366.2  ┆ 161925.12 ┆ 5065.57  │\n",
       "│ 50%       ┆ null      ┆ null      ┆ null      ┆ … ┆ 117.11    ┆ 658009.72 ┆ 467712.0  ┆ 80190.0  │\n",
       "│           ┆           ┆           ┆           ┆   ┆           ┆ 8         ┆           ┆          │\n",
       "│ 75%       ┆ null      ┆ null      ┆ null      ┆ … ┆ 364.69    ┆ 1.5568e6  ┆ 1.1974e6  ┆ 258412.7 │\n",
       "│ max       ┆ Sub-Sahar ┆ Zimbabwe  ┆ Vegetable ┆ … ┆ 524.96    ┆ 1.002405e ┆ 5.2496e6  ┆ 4.99865e │\n",
       "│           ┆ an Africa ┆           ┆ s         ┆   ┆           ┆ 7         ┆           ┆ 6        │\n",
       "└───────────┴───────────┴───────────┴───────────┴───┴───────────┴───────────┴───────────┴──────────┘"
      ]
     },
     "execution_count": 10,
     "metadata": {},
     "output_type": "execute_result"
    }
   ],
   "source": [
    "df.describe()"
   ]
  },
  {
   "cell_type": "code",
   "execution_count": 11,
   "id": "a884db0b",
   "metadata": {
    "colab": {
     "base_uri": "https://localhost:8080/",
     "height": 380
    },
    "id": "Di2t2VtJSZK3",
    "outputId": "adf127ba-4d63-4d3b-e39e-db61a4817656"
   },
   "outputs": [
    {
     "data": {
      "text/html": [
       "<div><style>\n",
       ".dataframe > thead > tr,\n",
       ".dataframe > tbody > tr {\n",
       "  text-align: right;\n",
       "  white-space: pre-wrap;\n",
       "}\n",
       "</style>\n",
       "<small>shape: (9, 8)</small><table border=\"1\" class=\"dataframe\"><thead><tr><th>statistic</th><th>ID do Pedido</th><th>Unidades Vendidas</th><th>Preço Unitário</th><th>Custo Unitário</th><th>Receita Total</th><th>Custo Total</th><th>Lucro Total</th></tr><tr><td>str</td><td>f64</td><td>f64</td><td>f64</td><td>f64</td><td>f64</td><td>f64</td><td>f64</td></tr></thead><tbody><tr><td>&quot;count&quot;</td><td>5e6</td><td>5e6</td><td>5e6</td><td>5e6</td><td>5e6</td><td>5e6</td><td>5e6</td></tr><tr><td>&quot;null_count&quot;</td><td>0.0</td><td>0.0</td><td>0.0</td><td>0.0</td><td>0.0</td><td>0.0</td><td>0.0</td></tr><tr><td>&quot;mean&quot;</td><td>5.4989e8</td><td>4999.991061</td><td>266.190616</td><td>187.655991</td><td>1.1439e6</td><td>938378.122412</td><td>205508.425247</td></tr><tr><td>&quot;std&quot;</td><td>2.5978e8</td><td>2886.787007</td><td>217.015273</td><td>175.701379</td><td>1.3158e6</td><td>1.1501e6</td><td>451094.254368</td></tr><tr><td>&quot;min&quot;</td><td>1.00000321e8</td><td>1.0</td><td>9.33</td><td>6.92</td><td>7.464</td><td>6.92</td><td>-271780.0</td></tr><tr><td>&quot;25%&quot;</td><td>3.24965131e8</td><td>2500.0</td><td>109.28</td><td>56.67</td><td>231366.2</td><td>161925.12</td><td>5065.57</td></tr><tr><td>&quot;50%&quot;</td><td>5.49764287e8</td><td>4999.0</td><td>205.7</td><td>117.11</td><td>658009.728</td><td>467712.0</td><td>80190.0</td></tr><tr><td>&quot;75%&quot;</td><td>7.74837243e8</td><td>7500.0</td><td>437.2</td><td>364.69</td><td>1.5568e6</td><td>1.1974e6</td><td>258412.7</td></tr><tr><td>&quot;max&quot;</td><td>9.99999892e8</td><td>10000.0</td><td>668.27</td><td>524.96</td><td>1.002405e7</td><td>5.2496e6</td><td>4.99865e6</td></tr></tbody></table></div>"
      ],
      "text/plain": [
       "shape: (9, 8)\n",
       "┌────────────┬────────────┬────────────┬───────────┬───────────┬───────────┬───────────┬───────────┐\n",
       "│ statistic  ┆ ID do      ┆ Unidades   ┆ Preço     ┆ Custo     ┆ Receita   ┆ Custo     ┆ Lucro     │\n",
       "│ ---        ┆ Pedido     ┆ Vendidas   ┆ Unitário  ┆ Unitário  ┆ Total     ┆ Total     ┆ Total     │\n",
       "│ str        ┆ ---        ┆ ---        ┆ ---       ┆ ---       ┆ ---       ┆ ---       ┆ ---       │\n",
       "│            ┆ f64        ┆ f64        ┆ f64       ┆ f64       ┆ f64       ┆ f64       ┆ f64       │\n",
       "╞════════════╪════════════╪════════════╪═══════════╪═══════════╪═══════════╪═══════════╪═══════════╡\n",
       "│ count      ┆ 5e6        ┆ 5e6        ┆ 5e6       ┆ 5e6       ┆ 5e6       ┆ 5e6       ┆ 5e6       │\n",
       "│ null_count ┆ 0.0        ┆ 0.0        ┆ 0.0       ┆ 0.0       ┆ 0.0       ┆ 0.0       ┆ 0.0       │\n",
       "│ mean       ┆ 5.4989e8   ┆ 4999.99106 ┆ 266.19061 ┆ 187.65599 ┆ 1.1439e6  ┆ 938378.12 ┆ 205508.42 │\n",
       "│            ┆            ┆ 1          ┆ 6         ┆ 1         ┆           ┆ 2412      ┆ 5247      │\n",
       "│ std        ┆ 2.5978e8   ┆ 2886.78700 ┆ 217.01527 ┆ 175.70137 ┆ 1.3158e6  ┆ 1.1501e6  ┆ 451094.25 │\n",
       "│            ┆            ┆ 7          ┆ 3         ┆ 9         ┆           ┆           ┆ 4368      │\n",
       "│ min        ┆ 1.00000321 ┆ 1.0        ┆ 9.33      ┆ 6.92      ┆ 7.464     ┆ 6.92      ┆ -271780.0 │\n",
       "│            ┆ e8         ┆            ┆           ┆           ┆           ┆           ┆           │\n",
       "│ 25%        ┆ 3.24965131 ┆ 2500.0     ┆ 109.28    ┆ 56.67     ┆ 231366.2  ┆ 161925.12 ┆ 5065.57   │\n",
       "│            ┆ e8         ┆            ┆           ┆           ┆           ┆           ┆           │\n",
       "│ 50%        ┆ 5.49764287 ┆ 4999.0     ┆ 205.7     ┆ 117.11    ┆ 658009.72 ┆ 467712.0  ┆ 80190.0   │\n",
       "│            ┆ e8         ┆            ┆           ┆           ┆ 8         ┆           ┆           │\n",
       "│ 75%        ┆ 7.74837243 ┆ 7500.0     ┆ 437.2     ┆ 364.69    ┆ 1.5568e6  ┆ 1.1974e6  ┆ 258412.7  │\n",
       "│            ┆ e8         ┆            ┆           ┆           ┆           ┆           ┆           │\n",
       "│ max        ┆ 9.99999892 ┆ 10000.0    ┆ 668.27    ┆ 524.96    ┆ 1.002405e ┆ 5.2496e6  ┆ 4.99865e6 │\n",
       "│            ┆ e8         ┆            ┆           ┆           ┆ 7         ┆           ┆           │\n",
       "└────────────┴────────────┴────────────┴───────────┴───────────┴───────────┴───────────┴───────────┘"
      ]
     },
     "execution_count": 11,
     "metadata": {},
     "output_type": "execute_result"
    }
   ],
   "source": [
    "df.select(pl.col(pl.Int64, pl.Float64)).describe()"
   ]
  },
  {
   "cell_type": "code",
   "execution_count": 12,
   "id": "e50031ed",
   "metadata": {
    "colab": {
     "base_uri": "https://localhost:8080/",
     "height": 147
    },
    "id": "69a_5P4mMHTH",
    "outputId": "e57b08cc-e059-440a-afc5-a00d773fbf28"
   },
   "outputs": [
    {
     "data": {
      "text/html": [
       "<div><style>\n",
       ".dataframe > thead > tr,\n",
       ".dataframe > tbody > tr {\n",
       "  text-align: right;\n",
       "  white-space: pre-wrap;\n",
       "}\n",
       "</style>\n",
       "<small>shape: (1, 14)</small><table border=\"1\" class=\"dataframe\"><thead><tr><th>Região</th><th>País</th><th>Tipo de Item</th><th>Canal de Venda</th><th>Prioridade do Pedido</th><th>Data do Pedido</th><th>ID do Pedido</th><th>Data de Envio</th><th>Unidades Vendidas</th><th>Preço Unitário</th><th>Custo Unitário</th><th>Receita Total</th><th>Custo Total</th><th>Lucro Total</th></tr><tr><td>u32</td><td>u32</td><td>u32</td><td>u32</td><td>u32</td><td>u32</td><td>u32</td><td>u32</td><td>u32</td><td>u32</td><td>u32</td><td>u32</td><td>u32</td><td>u32</td></tr></thead><tbody><tr><td>0</td><td>0</td><td>0</td><td>0</td><td>0</td><td>0</td><td>0</td><td>0</td><td>0</td><td>0</td><td>0</td><td>0</td><td>0</td><td>0</td></tr></tbody></table></div>"
      ],
      "text/plain": [
       "shape: (1, 14)\n",
       "┌────────┬──────┬─────────┬──────────┬───┬──────────┬─────────┬─────────────┬─────────────┐\n",
       "│ Região ┆ País ┆ Tipo de ┆ Canal de ┆ … ┆ Custo    ┆ Receita ┆ Custo Total ┆ Lucro Total │\n",
       "│ ---    ┆ ---  ┆ Item    ┆ Venda    ┆   ┆ Unitário ┆ Total   ┆ ---         ┆ ---         │\n",
       "│ u32    ┆ u32  ┆ ---     ┆ ---      ┆   ┆ ---      ┆ ---     ┆ u32         ┆ u32         │\n",
       "│        ┆      ┆ u32     ┆ u32      ┆   ┆ u32      ┆ u32     ┆             ┆             │\n",
       "╞════════╪══════╪═════════╪══════════╪═══╪══════════╪═════════╪═════════════╪═════════════╡\n",
       "│ 0      ┆ 0    ┆ 0       ┆ 0        ┆ … ┆ 0        ┆ 0       ┆ 0           ┆ 0           │\n",
       "└────────┴──────┴─────────┴──────────┴───┴──────────┴─────────┴─────────────┴─────────────┘"
      ]
     },
     "execution_count": 12,
     "metadata": {},
     "output_type": "execute_result"
    }
   ],
   "source": [
    "df.null_count()"
   ]
  },
  {
   "cell_type": "code",
   "execution_count": 13,
   "id": "6bd9404c",
   "metadata": {
    "id": "eo1p-veRRkmW"
   },
   "outputs": [],
   "source": [
    "nan_counts = {\n",
    "    col: (\n",
    "        # Contar NaN apenas para colunas float\n",
    "        (df[col].is_nan().sum() if df[col].dtype in (pl.Int64, pl.Float64) else 0)\n",
    "        # Contar null para todas as colunas\n",
    "        + df[col].is_null().sum()\n",
    "    )\n",
    "    for col in df.columns\n",
    "}"
   ]
  },
  {
   "cell_type": "code",
   "execution_count": 14,
   "id": "a64b948e",
   "metadata": {
    "colab": {
     "base_uri": "https://localhost:8080/"
    },
    "id": "FMbxkBnsRly9",
    "outputId": "64fb46de-c1e3-458e-aff8-fa88b72afe36"
   },
   "outputs": [
    {
     "data": {
      "text/plain": [
       "{'Região': 0,\n",
       " 'País': 0,\n",
       " 'Tipo de Item': 0,\n",
       " 'Canal de Venda': 0,\n",
       " 'Prioridade do Pedido': 0,\n",
       " 'Data do Pedido': 0,\n",
       " 'ID do Pedido': 0,\n",
       " 'Data de Envio': 0,\n",
       " 'Unidades Vendidas': 0,\n",
       " 'Preço Unitário': 0,\n",
       " 'Custo Unitário': 0,\n",
       " 'Receita Total': 0,\n",
       " 'Custo Total': 0,\n",
       " 'Lucro Total': 0}"
      ]
     },
     "execution_count": 14,
     "metadata": {},
     "output_type": "execute_result"
    }
   ],
   "source": [
    "nan_counts"
   ]
  },
  {
   "cell_type": "markdown",
   "id": "ec896a43",
   "metadata": {
    "id": "c78RmtZq32Gw"
   },
   "source": [
    "## Vídeo - 1.4 - Seleção de dados"
   ]
  },
  {
   "cell_type": "code",
   "execution_count": 15,
   "id": "abc8b6b9",
   "metadata": {
    "colab": {
     "base_uri": "https://localhost:8080/",
     "height": 318
    },
    "id": "5iI2ZaKC36ph",
    "outputId": "bd68d5c2-8442-4809-d9d3-bf8cbea8dfe5"
   },
   "outputs": [
    {
     "data": {
      "text/html": [
       "<div><style>\n",
       ".dataframe > thead > tr,\n",
       ".dataframe > tbody > tr {\n",
       "  text-align: right;\n",
       "  white-space: pre-wrap;\n",
       "}\n",
       "</style>\n",
       "<small>shape: (7,)</small><table border=\"1\" class=\"dataframe\"><thead><tr><th>Região</th></tr><tr><td>str</td></tr></thead><tbody><tr><td>&quot;Asia&quot;</td></tr><tr><td>&quot;Central America and the Caribb…</td></tr><tr><td>&quot;Europe&quot;</td></tr><tr><td>&quot;Middle East and North Africa&quot;</td></tr><tr><td>&quot;Australia and Oceania&quot;</td></tr><tr><td>&quot;North America&quot;</td></tr><tr><td>&quot;Sub-Saharan Africa&quot;</td></tr></tbody></table></div>"
      ],
      "text/plain": [
       "shape: (7,)\n",
       "Series: 'Região' [str]\n",
       "[\n",
       "\t\"Asia\"\n",
       "\t\"Central America and the Caribb…\n",
       "\t\"Europe\"\n",
       "\t\"Middle East and North Africa\"\n",
       "\t\"Australia and Oceania\"\n",
       "\t\"North America\"\n",
       "\t\"Sub-Saharan Africa\"\n",
       "]"
      ]
     },
     "execution_count": 15,
     "metadata": {},
     "output_type": "execute_result"
    }
   ],
   "source": [
    "df['Região'].unique()"
   ]
  },
  {
   "cell_type": "code",
   "execution_count": 16,
   "id": "14b8986d",
   "metadata": {
    "id": "VezmAQdUCHFf"
   },
   "outputs": [],
   "source": [
    "df_regions = df.filter((pl.col(\"Região\") == \"Europe\") | (pl.col(\"Região\") == \"Asia\"))"
   ]
  },
  {
   "cell_type": "code",
   "execution_count": 17,
   "id": "df14641b",
   "metadata": {
    "colab": {
     "base_uri": "https://localhost:8080/"
    },
    "id": "hsL7f3AJCMt3",
    "outputId": "295d423c-5f53-4b84-f401-bfade46a594d"
   },
   "outputs": [
    {
     "data": {
      "text/plain": [
       "(2026538, 14)"
      ]
     },
     "execution_count": 17,
     "metadata": {},
     "output_type": "execute_result"
    }
   ],
   "source": [
    "df_regions.shape"
   ]
  },
  {
   "cell_type": "code",
   "execution_count": 18,
   "id": "7efd9118",
   "metadata": {
    "colab": {
     "base_uri": "https://localhost:8080/",
     "height": 344
    },
    "id": "3XEc03pMCryd",
    "outputId": "b29b8d14-d070-45a9-ef55-27b32348d797"
   },
   "outputs": [
    {
     "data": {
      "text/html": [
       "<div><style>\n",
       ".dataframe > thead > tr,\n",
       ".dataframe > tbody > tr {\n",
       "  text-align: right;\n",
       "  white-space: pre-wrap;\n",
       "}\n",
       "</style>\n",
       "<small>shape: (5, 14)</small><table border=\"1\" class=\"dataframe\"><thead><tr><th>Região</th><th>País</th><th>Tipo de Item</th><th>Canal de Venda</th><th>Prioridade do Pedido</th><th>Data do Pedido</th><th>ID do Pedido</th><th>Data de Envio</th><th>Unidades Vendidas</th><th>Preço Unitário</th><th>Custo Unitário</th><th>Receita Total</th><th>Custo Total</th><th>Lucro Total</th></tr><tr><td>str</td><td>str</td><td>str</td><td>str</td><td>str</td><td>str</td><td>i64</td><td>str</td><td>i64</td><td>f64</td><td>f64</td><td>f64</td><td>f64</td><td>f64</td></tr></thead><tbody><tr><td>&quot;Europe&quot;</td><td>&quot;Poland&quot;</td><td>&quot;Beverages&quot;</td><td>&quot;Online&quot;</td><td>&quot;L&quot;</td><td>&quot;4/18/2010&quot;</td><td>380507028</td><td>&quot;5/26/2010&quot;</td><td>9340</td><td>47.45</td><td>31.79</td><td>354546.4</td><td>296918.6</td><td>57627.8</td></tr><tr><td>&quot;Europe&quot;</td><td>&quot;Belarus&quot;</td><td>&quot;Snacks&quot;</td><td>&quot;Online&quot;</td><td>&quot;C&quot;</td><td>&quot;1/19/2014&quot;</td><td>954955518</td><td>&quot;2/27/2014&quot;</td><td>1414</td><td>152.58</td><td>97.44</td><td>172598.496</td><td>137780.16</td><td>34818.336</td></tr><tr><td>&quot;Europe&quot;</td><td>&quot;Montenegro&quot;</td><td>&quot;Personal Care&quot;</td><td>&quot;Online&quot;</td><td>&quot;H&quot;</td><td>&quot;11/24/2012&quot;</td><td>598814380</td><td>&quot;12/25/2012&quot;</td><td>1337</td><td>81.73</td><td>56.67</td><td>87418.408</td><td>75767.79</td><td>11650.618</td></tr><tr><td>&quot;Europe&quot;</td><td>&quot;Portugal&quot;</td><td>&quot;Cosmetics&quot;</td><td>&quot;Online&quot;</td><td>&quot;M&quot;</td><td>&quot;11/12/2012&quot;</td><td>390570247</td><td>&quot;11/13/2012&quot;</td><td>7270</td><td>437.2</td><td>263.33</td><td>2.5428e6</td><td>1914409.1</td><td>628346.1</td></tr><tr><td>&quot;Europe&quot;</td><td>&quot;Germany&quot;</td><td>&quot;Personal Care&quot;</td><td>&quot;Offline&quot;</td><td>&quot;H&quot;</td><td>&quot;12/25/2010&quot;</td><td>842548644</td><td>&quot;1/24/2011&quot;</td><td>7722</td><td>81.73</td><td>56.67</td><td>504895.248</td><td>437605.74</td><td>67289.508</td></tr></tbody></table></div>"
      ],
      "text/plain": [
       "shape: (5, 14)\n",
       "┌────────┬────────────┬────────────┬───────────┬───┬───────────┬───────────┬───────────┬───────────┐\n",
       "│ Região ┆ País       ┆ Tipo de    ┆ Canal de  ┆ … ┆ Custo     ┆ Receita   ┆ Custo     ┆ Lucro     │\n",
       "│ ---    ┆ ---        ┆ Item       ┆ Venda     ┆   ┆ Unitário  ┆ Total     ┆ Total     ┆ Total     │\n",
       "│ str    ┆ str        ┆ ---        ┆ ---       ┆   ┆ ---       ┆ ---       ┆ ---       ┆ ---       │\n",
       "│        ┆            ┆ str        ┆ str       ┆   ┆ f64       ┆ f64       ┆ f64       ┆ f64       │\n",
       "╞════════╪════════════╪════════════╪═══════════╪═══╪═══════════╪═══════════╪═══════════╪═══════════╡\n",
       "│ Europe ┆ Poland     ┆ Beverages  ┆ Online    ┆ … ┆ 31.79     ┆ 354546.4  ┆ 296918.6  ┆ 57627.8   │\n",
       "│ Europe ┆ Belarus    ┆ Snacks     ┆ Online    ┆ … ┆ 97.44     ┆ 172598.49 ┆ 137780.16 ┆ 34818.336 │\n",
       "│        ┆            ┆            ┆           ┆   ┆           ┆ 6         ┆           ┆           │\n",
       "│ Europe ┆ Montenegro ┆ Personal   ┆ Online    ┆ … ┆ 56.67     ┆ 87418.408 ┆ 75767.79  ┆ 11650.618 │\n",
       "│        ┆            ┆ Care       ┆           ┆   ┆           ┆           ┆           ┆           │\n",
       "│ Europe ┆ Portugal   ┆ Cosmetics  ┆ Online    ┆ … ┆ 263.33    ┆ 2.5428e6  ┆ 1914409.1 ┆ 628346.1  │\n",
       "│ Europe ┆ Germany    ┆ Personal   ┆ Offline   ┆ … ┆ 56.67     ┆ 504895.24 ┆ 437605.74 ┆ 67289.508 │\n",
       "│        ┆            ┆ Care       ┆           ┆   ┆           ┆ 8         ┆           ┆           │\n",
       "└────────┴────────────┴────────────┴───────────┴───┴───────────┴───────────┴───────────┴───────────┘"
      ]
     },
     "execution_count": 18,
     "metadata": {},
     "output_type": "execute_result"
    }
   ],
   "source": [
    "df_regions.head()"
   ]
  },
  {
   "cell_type": "code",
   "execution_count": 19,
   "id": "8df2991e",
   "metadata": {
    "colab": {
     "base_uri": "https://localhost:8080/",
     "height": 324
    },
    "id": "IRy-h014Eqa3",
    "outputId": "44400dbd-0cf6-40c4-8ff1-49716d44f3c1"
   },
   "outputs": [
    {
     "data": {
      "text/html": [
       "<div><style>\n",
       ".dataframe > thead > tr,\n",
       ".dataframe > tbody > tr {\n",
       "  text-align: right;\n",
       "  white-space: pre-wrap;\n",
       "}\n",
       "</style>\n",
       "<small>shape: (5, 14)</small><table border=\"1\" class=\"dataframe\"><thead><tr><th>Região</th><th>País</th><th>Tipo de Item</th><th>Canal de Venda</th><th>Prioridade do Pedido</th><th>Data do Pedido</th><th>ID do Pedido</th><th>Data de Envio</th><th>Unidades Vendidas</th><th>Preço Unitário</th><th>Custo Unitário</th><th>Receita Total</th><th>Custo Total</th><th>Lucro Total</th></tr><tr><td>str</td><td>str</td><td>str</td><td>str</td><td>str</td><td>str</td><td>i64</td><td>str</td><td>i64</td><td>f64</td><td>f64</td><td>f64</td><td>f64</td><td>f64</td></tr></thead><tbody><tr><td>&quot;Europe&quot;</td><td>&quot;Germany&quot;</td><td>&quot;Personal Care&quot;</td><td>&quot;Offline&quot;</td><td>&quot;H&quot;</td><td>&quot;12/25/2010&quot;</td><td>842548644</td><td>&quot;1/24/2011&quot;</td><td>7722</td><td>81.73</td><td>56.67</td><td>504895.248</td><td>437605.74</td><td>67289.508</td></tr><tr><td>&quot;Europe&quot;</td><td>&quot;Germany&quot;</td><td>&quot;Clothes&quot;</td><td>&quot;Online&quot;</td><td>&quot;L&quot;</td><td>&quot;7/1/2011&quot;</td><td>650888288</td><td>&quot;8/18/2011&quot;</td><td>1163</td><td>109.28</td><td>35.84</td><td>101674.112</td><td>41681.92</td><td>59992.192</td></tr><tr><td>&quot;Europe&quot;</td><td>&quot;Germany&quot;</td><td>&quot;Meat&quot;</td><td>&quot;Online&quot;</td><td>&quot;H&quot;</td><td>&quot;9/9/2013&quot;</td><td>444275796</td><td>&quot;10/3/2013&quot;</td><td>9936</td><td>421.89</td><td>364.69</td><td>3.3535e6</td><td>3.6236e6</td><td>-270040.608</td></tr><tr><td>&quot;Europe&quot;</td><td>&quot;Germany&quot;</td><td>&quot;Cereal&quot;</td><td>&quot;Online&quot;</td><td>&quot;M&quot;</td><td>&quot;4/10/2011&quot;</td><td>847790753</td><td>&quot;5/22/2011&quot;</td><td>8979</td><td>205.7</td><td>117.11</td><td>1.4776e6</td><td>1.0515e6</td><td>426053.55</td></tr><tr><td>&quot;Europe&quot;</td><td>&quot;Germany&quot;</td><td>&quot;Baby Food&quot;</td><td>&quot;Offline&quot;</td><td>&quot;H&quot;</td><td>&quot;6/2/2011&quot;</td><td>817252624</td><td>&quot;6/22/2011&quot;</td><td>2067</td><td>255.28</td><td>159.42</td><td>422131.008</td><td>329521.14</td><td>92609.868</td></tr></tbody></table></div>"
      ],
      "text/plain": [
       "shape: (5, 14)\n",
       "┌────────┬─────────┬────────────┬────────────┬───┬────────────┬────────────┬───────────┬───────────┐\n",
       "│ Região ┆ País    ┆ Tipo de    ┆ Canal de   ┆ … ┆ Custo      ┆ Receita    ┆ Custo     ┆ Lucro     │\n",
       "│ ---    ┆ ---     ┆ Item       ┆ Venda      ┆   ┆ Unitário   ┆ Total      ┆ Total     ┆ Total     │\n",
       "│ str    ┆ str     ┆ ---        ┆ ---        ┆   ┆ ---        ┆ ---        ┆ ---       ┆ ---       │\n",
       "│        ┆         ┆ str        ┆ str        ┆   ┆ f64        ┆ f64        ┆ f64       ┆ f64       │\n",
       "╞════════╪═════════╪════════════╪════════════╪═══╪════════════╪════════════╪═══════════╪═══════════╡\n",
       "│ Europe ┆ Germany ┆ Personal   ┆ Offline    ┆ … ┆ 56.67      ┆ 504895.248 ┆ 437605.74 ┆ 67289.508 │\n",
       "│        ┆         ┆ Care       ┆            ┆   ┆            ┆            ┆           ┆           │\n",
       "│ Europe ┆ Germany ┆ Clothes    ┆ Online     ┆ … ┆ 35.84      ┆ 101674.112 ┆ 41681.92  ┆ 59992.192 │\n",
       "│ Europe ┆ Germany ┆ Meat       ┆ Online     ┆ … ┆ 364.69     ┆ 3.3535e6   ┆ 3.6236e6  ┆ -270040.6 │\n",
       "│        ┆         ┆            ┆            ┆   ┆            ┆            ┆           ┆ 08        │\n",
       "│ Europe ┆ Germany ┆ Cereal     ┆ Online     ┆ … ┆ 117.11     ┆ 1.4776e6   ┆ 1.0515e6  ┆ 426053.55 │\n",
       "│ Europe ┆ Germany ┆ Baby Food  ┆ Offline    ┆ … ┆ 159.42     ┆ 422131.008 ┆ 329521.14 ┆ 92609.868 │\n",
       "└────────┴─────────┴────────────┴────────────┴───┴────────────┴────────────┴───────────┴───────────┘"
      ]
     },
     "execution_count": 19,
     "metadata": {},
     "output_type": "execute_result"
    }
   ],
   "source": [
    "df = df.filter(df[\"País\"] == \"Germany\")\n",
    "df.head()"
   ]
  },
  {
   "cell_type": "markdown",
   "id": "a5d9546f",
   "metadata": {
    "id": "SIW1Kn3a4E9l"
   },
   "source": [
    "# Aula 2 - Expressões"
   ]
  },
  {
   "cell_type": "markdown",
   "id": "781672ce",
   "metadata": {
    "id": "VUJmDu3f4M2B"
   },
   "source": [
    "## Vídeo 2.1 - Modificando o tipo das colunas"
   ]
  },
  {
   "cell_type": "code",
   "execution_count": 20,
   "id": "1f630037",
   "metadata": {
    "colab": {
     "base_uri": "https://localhost:8080/",
     "height": 376
    },
    "id": "wHsjXU-64LoQ",
    "outputId": "6bbfffbd-1b72-461f-c1e6-93a53300a441"
   },
   "outputs": [
    {
     "data": {
      "text/html": [
       "<div><style>\n",
       ".dataframe > thead > tr,\n",
       ".dataframe > tbody > tr {\n",
       "  text-align: right;\n",
       "  white-space: pre-wrap;\n",
       "}\n",
       "</style>\n",
       "<small>shape: (5, 14)</small><table border=\"1\" class=\"dataframe\"><thead><tr><th>Região</th><th>País</th><th>Tipo de Item</th><th>Canal de Venda</th><th>Prioridade do Pedido</th><th>Data do Pedido</th><th>ID do Pedido</th><th>Data de Envio</th><th>Unidades Vendidas</th><th>Preço Unitário</th><th>Custo Unitário</th><th>Receita Total</th><th>Custo Total</th><th>Lucro Total</th></tr><tr><td>str</td><td>str</td><td>str</td><td>str</td><td>str</td><td>date</td><td>i64</td><td>date</td><td>i64</td><td>f64</td><td>f64</td><td>f64</td><td>f64</td><td>f64</td></tr></thead><tbody><tr><td>&quot;Europe&quot;</td><td>&quot;Poland&quot;</td><td>&quot;Beverages&quot;</td><td>&quot;Online&quot;</td><td>&quot;L&quot;</td><td>2010-04-18</td><td>380507028</td><td>2010-05-26</td><td>9340</td><td>47.45</td><td>31.79</td><td>354546.4</td><td>296918.6</td><td>57627.8</td></tr><tr><td>&quot;Europe&quot;</td><td>&quot;Belarus&quot;</td><td>&quot;Snacks&quot;</td><td>&quot;Online&quot;</td><td>&quot;C&quot;</td><td>2014-01-19</td><td>954955518</td><td>2014-02-27</td><td>1414</td><td>152.58</td><td>97.44</td><td>172598.496</td><td>137780.16</td><td>34818.336</td></tr><tr><td>&quot;Europe&quot;</td><td>&quot;Montenegro&quot;</td><td>&quot;Personal Care&quot;</td><td>&quot;Online&quot;</td><td>&quot;H&quot;</td><td>2012-11-24</td><td>598814380</td><td>2012-12-25</td><td>1337</td><td>81.73</td><td>56.67</td><td>87418.408</td><td>75767.79</td><td>11650.618</td></tr><tr><td>&quot;Europe&quot;</td><td>&quot;Portugal&quot;</td><td>&quot;Cosmetics&quot;</td><td>&quot;Online&quot;</td><td>&quot;M&quot;</td><td>2012-11-12</td><td>390570247</td><td>2012-11-13</td><td>7270</td><td>437.2</td><td>263.33</td><td>2.5428e6</td><td>1914409.1</td><td>628346.1</td></tr><tr><td>&quot;Europe&quot;</td><td>&quot;Germany&quot;</td><td>&quot;Personal Care&quot;</td><td>&quot;Offline&quot;</td><td>&quot;H&quot;</td><td>2010-12-25</td><td>842548644</td><td>2011-01-24</td><td>7722</td><td>81.73</td><td>56.67</td><td>504895.248</td><td>437605.74</td><td>67289.508</td></tr></tbody></table></div>"
      ],
      "text/plain": [
       "shape: (5, 14)\n",
       "┌────────┬────────────┬────────────┬───────────┬───┬───────────┬───────────┬───────────┬───────────┐\n",
       "│ Região ┆ País       ┆ Tipo de    ┆ Canal de  ┆ … ┆ Custo     ┆ Receita   ┆ Custo     ┆ Lucro     │\n",
       "│ ---    ┆ ---        ┆ Item       ┆ Venda     ┆   ┆ Unitário  ┆ Total     ┆ Total     ┆ Total     │\n",
       "│ str    ┆ str        ┆ ---        ┆ ---       ┆   ┆ ---       ┆ ---       ┆ ---       ┆ ---       │\n",
       "│        ┆            ┆ str        ┆ str       ┆   ┆ f64       ┆ f64       ┆ f64       ┆ f64       │\n",
       "╞════════╪════════════╪════════════╪═══════════╪═══╪═══════════╪═══════════╪═══════════╪═══════════╡\n",
       "│ Europe ┆ Poland     ┆ Beverages  ┆ Online    ┆ … ┆ 31.79     ┆ 354546.4  ┆ 296918.6  ┆ 57627.8   │\n",
       "│ Europe ┆ Belarus    ┆ Snacks     ┆ Online    ┆ … ┆ 97.44     ┆ 172598.49 ┆ 137780.16 ┆ 34818.336 │\n",
       "│        ┆            ┆            ┆           ┆   ┆           ┆ 6         ┆           ┆           │\n",
       "│ Europe ┆ Montenegro ┆ Personal   ┆ Online    ┆ … ┆ 56.67     ┆ 87418.408 ┆ 75767.79  ┆ 11650.618 │\n",
       "│        ┆            ┆ Care       ┆           ┆   ┆           ┆           ┆           ┆           │\n",
       "│ Europe ┆ Portugal   ┆ Cosmetics  ┆ Online    ┆ … ┆ 263.33    ┆ 2.5428e6  ┆ 1914409.1 ┆ 628346.1  │\n",
       "│ Europe ┆ Germany    ┆ Personal   ┆ Offline   ┆ … ┆ 56.67     ┆ 504895.24 ┆ 437605.74 ┆ 67289.508 │\n",
       "│        ┆            ┆ Care       ┆           ┆   ┆           ┆ 8         ┆           ┆           │\n",
       "└────────┴────────────┴────────────┴───────────┴───┴───────────┴───────────┴───────────┴───────────┘"
      ]
     },
     "execution_count": 20,
     "metadata": {},
     "output_type": "execute_result"
    }
   ],
   "source": [
    "# Converter colunas de data para o formato datetime\n",
    "df = df_regions.with_columns(\n",
    "    pl.col(\"Data do Pedido\").str.strptime(pl.Date, \"%m/%d/%Y\"),\n",
    "    pl.col(\"Data de Envio\").str.strptime(pl.Date, \"%m/%d/%Y\")\n",
    ")\n",
    "\n",
    "df.head()"
   ]
  },
  {
   "cell_type": "code",
   "execution_count": 21,
   "id": "dcad9050",
   "metadata": {
    "id": "pgJ3qR51KgLJ"
   },
   "outputs": [],
   "source": [
    "df = df.with_columns(\n",
    "    (pl.col(\"Data de Envio\") - pl.col(\"Data do Pedido\")).alias(\"Duração do envio\")\n",
    ")"
   ]
  },
  {
   "cell_type": "code",
   "execution_count": 22,
   "id": "c5937eb3",
   "metadata": {
    "colab": {
     "base_uri": "https://localhost:8080/",
     "height": 396
    },
    "id": "iXFlUsThLMYL",
    "outputId": "421c7844-7fa5-4485-fef9-d341690486d1"
   },
   "outputs": [
    {
     "data": {
      "text/html": [
       "<div><style>\n",
       ".dataframe > thead > tr,\n",
       ".dataframe > tbody > tr {\n",
       "  text-align: right;\n",
       "  white-space: pre-wrap;\n",
       "}\n",
       "</style>\n",
       "<small>shape: (5, 15)</small><table border=\"1\" class=\"dataframe\"><thead><tr><th>Região</th><th>País</th><th>Tipo de Item</th><th>Canal de Venda</th><th>Prioridade do Pedido</th><th>Data do Pedido</th><th>ID do Pedido</th><th>Data de Envio</th><th>Unidades Vendidas</th><th>Preço Unitário</th><th>Custo Unitário</th><th>Receita Total</th><th>Custo Total</th><th>Lucro Total</th><th>Duração do envio</th></tr><tr><td>str</td><td>str</td><td>str</td><td>str</td><td>str</td><td>date</td><td>i64</td><td>date</td><td>i64</td><td>f64</td><td>f64</td><td>f64</td><td>f64</td><td>f64</td><td>duration[ms]</td></tr></thead><tbody><tr><td>&quot;Europe&quot;</td><td>&quot;Poland&quot;</td><td>&quot;Beverages&quot;</td><td>&quot;Online&quot;</td><td>&quot;L&quot;</td><td>2010-04-18</td><td>380507028</td><td>2010-05-26</td><td>9340</td><td>47.45</td><td>31.79</td><td>354546.4</td><td>296918.6</td><td>57627.8</td><td>38d</td></tr><tr><td>&quot;Europe&quot;</td><td>&quot;Belarus&quot;</td><td>&quot;Snacks&quot;</td><td>&quot;Online&quot;</td><td>&quot;C&quot;</td><td>2014-01-19</td><td>954955518</td><td>2014-02-27</td><td>1414</td><td>152.58</td><td>97.44</td><td>172598.496</td><td>137780.16</td><td>34818.336</td><td>39d</td></tr><tr><td>&quot;Europe&quot;</td><td>&quot;Montenegro&quot;</td><td>&quot;Personal Care&quot;</td><td>&quot;Online&quot;</td><td>&quot;H&quot;</td><td>2012-11-24</td><td>598814380</td><td>2012-12-25</td><td>1337</td><td>81.73</td><td>56.67</td><td>87418.408</td><td>75767.79</td><td>11650.618</td><td>31d</td></tr><tr><td>&quot;Europe&quot;</td><td>&quot;Portugal&quot;</td><td>&quot;Cosmetics&quot;</td><td>&quot;Online&quot;</td><td>&quot;M&quot;</td><td>2012-11-12</td><td>390570247</td><td>2012-11-13</td><td>7270</td><td>437.2</td><td>263.33</td><td>2.5428e6</td><td>1914409.1</td><td>628346.1</td><td>1d</td></tr><tr><td>&quot;Europe&quot;</td><td>&quot;Germany&quot;</td><td>&quot;Personal Care&quot;</td><td>&quot;Offline&quot;</td><td>&quot;H&quot;</td><td>2010-12-25</td><td>842548644</td><td>2011-01-24</td><td>7722</td><td>81.73</td><td>56.67</td><td>504895.248</td><td>437605.74</td><td>67289.508</td><td>30d</td></tr></tbody></table></div>"
      ],
      "text/plain": [
       "shape: (5, 15)\n",
       "┌────────┬────────────┬────────────┬───────────┬───┬───────────┬───────────┬───────────┬───────────┐\n",
       "│ Região ┆ País       ┆ Tipo de    ┆ Canal de  ┆ … ┆ Receita   ┆ Custo     ┆ Lucro     ┆ Duração   │\n",
       "│ ---    ┆ ---        ┆ Item       ┆ Venda     ┆   ┆ Total     ┆ Total     ┆ Total     ┆ do envio  │\n",
       "│ str    ┆ str        ┆ ---        ┆ ---       ┆   ┆ ---       ┆ ---       ┆ ---       ┆ ---       │\n",
       "│        ┆            ┆ str        ┆ str       ┆   ┆ f64       ┆ f64       ┆ f64       ┆ duration[ │\n",
       "│        ┆            ┆            ┆           ┆   ┆           ┆           ┆           ┆ ms]       │\n",
       "╞════════╪════════════╪════════════╪═══════════╪═══╪═══════════╪═══════════╪═══════════╪═══════════╡\n",
       "│ Europe ┆ Poland     ┆ Beverages  ┆ Online    ┆ … ┆ 354546.4  ┆ 296918.6  ┆ 57627.8   ┆ 38d       │\n",
       "│ Europe ┆ Belarus    ┆ Snacks     ┆ Online    ┆ … ┆ 172598.49 ┆ 137780.16 ┆ 34818.336 ┆ 39d       │\n",
       "│        ┆            ┆            ┆           ┆   ┆ 6         ┆           ┆           ┆           │\n",
       "│ Europe ┆ Montenegro ┆ Personal   ┆ Online    ┆ … ┆ 87418.408 ┆ 75767.79  ┆ 11650.618 ┆ 31d       │\n",
       "│        ┆            ┆ Care       ┆           ┆   ┆           ┆           ┆           ┆           │\n",
       "│ Europe ┆ Portugal   ┆ Cosmetics  ┆ Online    ┆ … ┆ 2.5428e6  ┆ 1914409.1 ┆ 628346.1  ┆ 1d        │\n",
       "│ Europe ┆ Germany    ┆ Personal   ┆ Offline   ┆ … ┆ 504895.24 ┆ 437605.74 ┆ 67289.508 ┆ 30d       │\n",
       "│        ┆            ┆ Care       ┆           ┆   ┆ 8         ┆           ┆           ┆           │\n",
       "└────────┴────────────┴────────────┴───────────┴───┴───────────┴───────────┴───────────┴───────────┘"
      ]
     },
     "execution_count": 22,
     "metadata": {},
     "output_type": "execute_result"
    }
   ],
   "source": [
    "df.head()"
   ]
  },
  {
   "cell_type": "code",
   "execution_count": 23,
   "id": "800b8151",
   "metadata": {
    "id": "J2XCdqNnMStO"
   },
   "outputs": [],
   "source": [
    "import matplotlib.pyplot as plt"
   ]
  },
  {
   "cell_type": "code",
   "execution_count": 24,
   "id": "73c4c470",
   "metadata": {
    "colab": {
     "base_uri": "https://localhost:8080/",
     "height": 472
    },
    "id": "gnsIkwlbMGNq",
    "outputId": "9fbc245a-2e0b-494a-de8b-dc5dfb963727"
   },
   "outputs": [
    {
     "data": {
      "image/png": "[encoded data removed]",
      "text/plain": [
       "<Figure size 640x480 with 1 Axes>"
      ]
     },
     "metadata": {},
     "output_type": "display_data"
    }
   ],
   "source": [
    "# Filtrar a classe desejada (exemplo: \"H\")\n",
    "filtered_data = df.filter(pl.col(\"Prioridade do Pedido\") == \"H\").to_pandas()\n",
    "filtered_data[\"Duração do envio (dias)\"] = filtered_data[\"Duração do envio\"].dt.days\n",
    "# Plotar histograma\n",
    "plt.hist(filtered_data[\"Duração do envio (dias)\"], bins=50, edgecolor=\"black\")\n",
    "plt.title(\"Distribuição de Duração do envio (Prioridade do Pedido: H)\")\n",
    "plt.xlabel(\"Duração do envio (dias)\")\n",
    "plt.ylabel(\"Frequência\")\n",
    "plt.show()"
   ]
  },
  {
   "cell_type": "code",
   "execution_count": 25,
   "id": "32978644",
   "metadata": {
    "colab": {
     "base_uri": "https://localhost:8080/",
     "height": 472
    },
    "id": "A_YivSqHPlD0",
    "outputId": "e8c1e759-c060-47ed-8d6f-fff16e0a0e49"
   },
   "outputs": [
    {
     "data": {
      "image/png": "[encoded data removed]",
      "text/plain": [
       "<Figure size 640x480 with 1 Axes>"
      ]
     },
     "metadata": {},
     "output_type": "display_data"
    }
   ],
   "source": [
    "filtered_data = df.filter(pl.col(\"Prioridade do Pedido\") == \"L\").to_pandas()\n",
    "filtered_data[\"Duração do envio (dias)\"] = filtered_data[\"Duração do envio\"].dt.days\n",
    "# Plotar histograma\n",
    "plt.hist(filtered_data[\"Duração do envio (dias)\"], bins=50, edgecolor=\"black\")\n",
    "plt.title(\"Distribuição de Duração do envio (Prioridade do Pedido: L)\")\n",
    "plt.xlabel(\"Duração do envio (dias)\")\n",
    "plt.ylabel(\"Frequência\")\n",
    "plt.show()"
   ]
  },
  {
   "cell_type": "markdown",
   "id": "73db9afd",
   "metadata": {
    "id": "nJzNLMhA4Tig"
   },
   "source": [
    "## Vídeo 2.2 - Modificação de valores em colunas e linhas específicas"
   ]
  },
  {
   "cell_type": "code",
   "execution_count": 26,
   "id": "3fcb90c2",
   "metadata": {
    "colab": {
     "base_uri": "https://localhost:8080/",
     "height": 396
    },
    "id": "CZkrrxxgVJD9",
    "outputId": "dc55c671-3990-4879-b94d-e76ac0b16f13"
   },
   "outputs": [
    {
     "data": {
      "text/html": [
       "<div><style>\n",
       ".dataframe > thead > tr,\n",
       ".dataframe > tbody > tr {\n",
       "  text-align: right;\n",
       "  white-space: pre-wrap;\n",
       "}\n",
       "</style>\n",
       "<small>shape: (5, 15)</small><table border=\"1\" class=\"dataframe\"><thead><tr><th>Região</th><th>País</th><th>Tipo de Item</th><th>Canal de Venda</th><th>Prioridade do Pedido</th><th>Data do Pedido</th><th>ID do Pedido</th><th>Data de Envio</th><th>Unidades Vendidas</th><th>Preço Unitário</th><th>Custo Unitário</th><th>Receita Total</th><th>Custo Total</th><th>Lucro Total</th><th>Duração do envio</th></tr><tr><td>str</td><td>str</td><td>str</td><td>str</td><td>str</td><td>date</td><td>i64</td><td>date</td><td>i64</td><td>f64</td><td>f64</td><td>f64</td><td>f64</td><td>f64</td><td>duration[ms]</td></tr></thead><tbody><tr><td>&quot;Europe&quot;</td><td>&quot;Poland&quot;</td><td>&quot;Beverages&quot;</td><td>&quot;Online&quot;</td><td>&quot;L&quot;</td><td>2010-04-18</td><td>380507028</td><td>2010-05-26</td><td>9340</td><td>47.45</td><td>31.79</td><td>354546.4</td><td>296918.6</td><td>57627.8</td><td>38d</td></tr><tr><td>&quot;Europe&quot;</td><td>&quot;Belarus&quot;</td><td>&quot;Snacks&quot;</td><td>&quot;Online&quot;</td><td>&quot;C&quot;</td><td>2014-01-19</td><td>954955518</td><td>2014-02-27</td><td>1414</td><td>152.58</td><td>97.44</td><td>172598.496</td><td>137780.16</td><td>34818.336</td><td>39d</td></tr><tr><td>&quot;Europe&quot;</td><td>&quot;Montenegro&quot;</td><td>&quot;Personal Care&quot;</td><td>&quot;Online&quot;</td><td>&quot;H&quot;</td><td>2012-11-24</td><td>598814380</td><td>2012-12-25</td><td>1337</td><td>81.73</td><td>56.67</td><td>87418.408</td><td>75767.79</td><td>11650.618</td><td>31d</td></tr><tr><td>&quot;Europe&quot;</td><td>&quot;Portugal&quot;</td><td>&quot;Cosmetics&quot;</td><td>&quot;Online&quot;</td><td>&quot;M&quot;</td><td>2012-11-12</td><td>390570247</td><td>2012-11-13</td><td>7270</td><td>437.2</td><td>263.33</td><td>2.5428e6</td><td>1914409.1</td><td>628346.1</td><td>1d</td></tr><tr><td>&quot;Europe&quot;</td><td>&quot;Germany&quot;</td><td>&quot;Personal Care&quot;</td><td>&quot;Offline&quot;</td><td>&quot;H&quot;</td><td>2010-12-25</td><td>842548644</td><td>2011-01-24</td><td>7722</td><td>81.73</td><td>56.67</td><td>504895.248</td><td>437605.74</td><td>67289.508</td><td>30d</td></tr></tbody></table></div>"
      ],
      "text/plain": [
       "shape: (5, 15)\n",
       "┌────────┬────────────┬────────────┬───────────┬───┬───────────┬───────────┬───────────┬───────────┐\n",
       "│ Região ┆ País       ┆ Tipo de    ┆ Canal de  ┆ … ┆ Receita   ┆ Custo     ┆ Lucro     ┆ Duração   │\n",
       "│ ---    ┆ ---        ┆ Item       ┆ Venda     ┆   ┆ Total     ┆ Total     ┆ Total     ┆ do envio  │\n",
       "│ str    ┆ str        ┆ ---        ┆ ---       ┆   ┆ ---       ┆ ---       ┆ ---       ┆ ---       │\n",
       "│        ┆            ┆ str        ┆ str       ┆   ┆ f64       ┆ f64       ┆ f64       ┆ duration[ │\n",
       "│        ┆            ┆            ┆           ┆   ┆           ┆           ┆           ┆ ms]       │\n",
       "╞════════╪════════════╪════════════╪═══════════╪═══╪═══════════╪═══════════╪═══════════╪═══════════╡\n",
       "│ Europe ┆ Poland     ┆ Beverages  ┆ Online    ┆ … ┆ 354546.4  ┆ 296918.6  ┆ 57627.8   ┆ 38d       │\n",
       "│ Europe ┆ Belarus    ┆ Snacks     ┆ Online    ┆ … ┆ 172598.49 ┆ 137780.16 ┆ 34818.336 ┆ 39d       │\n",
       "│        ┆            ┆            ┆           ┆   ┆ 6         ┆           ┆           ┆           │\n",
       "│ Europe ┆ Montenegro ┆ Personal   ┆ Online    ┆ … ┆ 87418.408 ┆ 75767.79  ┆ 11650.618 ┆ 31d       │\n",
       "│        ┆            ┆ Care       ┆           ┆   ┆           ┆           ┆           ┆           │\n",
       "│ Europe ┆ Portugal   ┆ Cosmetics  ┆ Online    ┆ … ┆ 2.5428e6  ┆ 1914409.1 ┆ 628346.1  ┆ 1d        │\n",
       "│ Europe ┆ Germany    ┆ Personal   ┆ Offline   ┆ … ┆ 504895.24 ┆ 437605.74 ┆ 67289.508 ┆ 30d       │\n",
       "│        ┆            ┆ Care       ┆           ┆   ┆ 8         ┆           ┆           ┆           │\n",
       "└────────┴────────────┴────────────┴───────────┴───┴───────────┴───────────┴───────────┴───────────┘"
      ]
     },
     "execution_count": 26,
     "metadata": {},
     "output_type": "execute_result"
    }
   ],
   "source": [
    "df.head()"
   ]
  },
  {
   "cell_type": "code",
   "execution_count": 27,
   "id": "ca67d0ee",
   "metadata": {
    "colab": {
     "base_uri": "https://localhost:8080/",
     "height": 224
    },
    "id": "m3vXKitSWJqx",
    "outputId": "43b3ce46-390b-47f7-a9d0-525ab05f9972"
   },
   "outputs": [
    {
     "data": {
      "text/html": [
       "<div><style>\n",
       ".dataframe > thead > tr,\n",
       ".dataframe > tbody > tr {\n",
       "  text-align: right;\n",
       "  white-space: pre-wrap;\n",
       "}\n",
       "</style>\n",
       "<small>shape: (4,)</small><table border=\"1\" class=\"dataframe\"><thead><tr><th>Prioridade do Pedido</th></tr><tr><td>str</td></tr></thead><tbody><tr><td>&quot;L&quot;</td></tr><tr><td>&quot;H&quot;</td></tr><tr><td>&quot;M&quot;</td></tr><tr><td>&quot;C&quot;</td></tr></tbody></table></div>"
      ],
      "text/plain": [
       "shape: (4,)\n",
       "Series: 'Prioridade do Pedido' [str]\n",
       "[\n",
       "\t\"L\"\n",
       "\t\"H\"\n",
       "\t\"M\"\n",
       "\t\"C\"\n",
       "]"
      ]
     },
     "execution_count": 27,
     "metadata": {},
     "output_type": "execute_result"
    }
   ],
   "source": [
    "df[\"Prioridade do Pedido\"].unique()"
   ]
  },
  {
   "cell_type": "code",
   "execution_count": 28,
   "id": "8c671022",
   "metadata": {
    "id": "oquvs5pcR46a"
   },
   "outputs": [],
   "source": [
    "df = df.with_columns(\n",
    "    pl.col(\"Prioridade do Pedido\").replace({\n",
    "        \"H\": \"High\",\n",
    "        \"C\": \"Critical\",\n",
    "        \"M\": \"Medium\",\n",
    "        \"L\": \"Low\"\n",
    "    }).alias(\"Prioridade do Pedido\")\n",
    ")\n"
   ]
  },
  {
   "cell_type": "code",
   "execution_count": 29,
   "id": "3e965113",
   "metadata": {
    "id": "YBMsl6vT4Z_6"
   },
   "outputs": [],
   "source": [
    "# Criar uma coluna de margem de lucro percentual\n",
    "df = df.with_columns(\n",
    "    (df[\"Lucro Total\"] / df[\"Custo Total\"] * 100).alias(\"Margem de Lucro (%)\")\n",
    ")"
   ]
  },
  {
   "cell_type": "code",
   "execution_count": 30,
   "id": "78a12b95",
   "metadata": {
    "id": "PCARs64wT8FI"
   },
   "outputs": [],
   "source": [
    "df = df.with_columns(\n",
    "    pl.when(pl.col(\"Unidades Vendidas\") > 5000)\n",
    "    .then(pl.lit(\"Online\"))  # Use pl.lit to indicate a literal string value\n",
    "    .otherwise(pl.col(\"Canal de Venda\"))\n",
    "    .alias(\"Tipo de venda\")\n",
    ")"
   ]
  },
  {
   "cell_type": "code",
   "execution_count": 31,
   "id": "586674b0",
   "metadata": {
    "colab": {
     "base_uri": "https://localhost:8080/",
     "height": 396
    },
    "id": "Qve1vrwHqDGM",
    "outputId": "74c9ea09-0be5-4917-e959-12b5f707efae"
   },
   "outputs": [
    {
     "data": {
      "text/html": [
       "<div><style>\n",
       ".dataframe > thead > tr,\n",
       ".dataframe > tbody > tr {\n",
       "  text-align: right;\n",
       "  white-space: pre-wrap;\n",
       "}\n",
       "</style>\n",
       "<small>shape: (5, 17)</small><table border=\"1\" class=\"dataframe\"><thead><tr><th>Região</th><th>País</th><th>Tipo de Item</th><th>Canal de Venda</th><th>Prioridade do Pedido</th><th>Data do Pedido</th><th>ID do Pedido</th><th>Data de Envio</th><th>Unidades Vendidas</th><th>Preço Unitário</th><th>Custo Unitário</th><th>Receita Total</th><th>Custo Total</th><th>Lucro Total</th><th>Duração do envio</th><th>Margem de Lucro (%)</th><th>Tipo de venda</th></tr><tr><td>str</td><td>str</td><td>str</td><td>str</td><td>str</td><td>date</td><td>i64</td><td>date</td><td>i64</td><td>f64</td><td>f64</td><td>f64</td><td>f64</td><td>f64</td><td>duration[ms]</td><td>f64</td><td>str</td></tr></thead><tbody><tr><td>&quot;Europe&quot;</td><td>&quot;Poland&quot;</td><td>&quot;Beverages&quot;</td><td>&quot;Online&quot;</td><td>&quot;Low&quot;</td><td>2010-04-18</td><td>380507028</td><td>2010-05-26</td><td>9340</td><td>47.45</td><td>31.79</td><td>354546.4</td><td>296918.6</td><td>57627.8</td><td>38d</td><td>19.408619</td><td>&quot;Online&quot;</td></tr><tr><td>&quot;Europe&quot;</td><td>&quot;Belarus&quot;</td><td>&quot;Snacks&quot;</td><td>&quot;Online&quot;</td><td>&quot;Critical&quot;</td><td>2014-01-19</td><td>954955518</td><td>2014-02-27</td><td>1414</td><td>152.58</td><td>97.44</td><td>172598.496</td><td>137780.16</td><td>34818.336</td><td>39d</td><td>25.270936</td><td>&quot;Online&quot;</td></tr><tr><td>&quot;Europe&quot;</td><td>&quot;Montenegro&quot;</td><td>&quot;Personal Care&quot;</td><td>&quot;Online&quot;</td><td>&quot;High&quot;</td><td>2012-11-24</td><td>598814380</td><td>2012-12-25</td><td>1337</td><td>81.73</td><td>56.67</td><td>87418.408</td><td>75767.79</td><td>11650.618</td><td>31d</td><td>15.376743</td><td>&quot;Online&quot;</td></tr><tr><td>&quot;Europe&quot;</td><td>&quot;Portugal&quot;</td><td>&quot;Cosmetics&quot;</td><td>&quot;Online&quot;</td><td>&quot;Medium&quot;</td><td>2012-11-12</td><td>390570247</td><td>2012-11-13</td><td>7270</td><td>437.2</td><td>263.33</td><td>2.5428e6</td><td>1914409.1</td><td>628346.1</td><td>1d</td><td>32.821934</td><td>&quot;Online&quot;</td></tr><tr><td>&quot;Europe&quot;</td><td>&quot;Germany&quot;</td><td>&quot;Personal Care&quot;</td><td>&quot;Offline&quot;</td><td>&quot;High&quot;</td><td>2010-12-25</td><td>842548644</td><td>2011-01-24</td><td>7722</td><td>81.73</td><td>56.67</td><td>504895.248</td><td>437605.74</td><td>67289.508</td><td>30d</td><td>15.376743</td><td>&quot;Online&quot;</td></tr></tbody></table></div>"
      ],
      "text/plain": [
       "shape: (5, 17)\n",
       "┌────────┬────────────┬────────────┬───────────┬───┬───────────┬───────────┬───────────┬───────────┐\n",
       "│ Região ┆ País       ┆ Tipo de    ┆ Canal de  ┆ … ┆ Lucro     ┆ Duração   ┆ Margem de ┆ Tipo de   │\n",
       "│ ---    ┆ ---        ┆ Item       ┆ Venda     ┆   ┆ Total     ┆ do envio  ┆ Lucro (%) ┆ venda     │\n",
       "│ str    ┆ str        ┆ ---        ┆ ---       ┆   ┆ ---       ┆ ---       ┆ ---       ┆ ---       │\n",
       "│        ┆            ┆ str        ┆ str       ┆   ┆ f64       ┆ duration[ ┆ f64       ┆ str       │\n",
       "│        ┆            ┆            ┆           ┆   ┆           ┆ ms]       ┆           ┆           │\n",
       "╞════════╪════════════╪════════════╪═══════════╪═══╪═══════════╪═══════════╪═══════════╪═══════════╡\n",
       "│ Europe ┆ Poland     ┆ Beverages  ┆ Online    ┆ … ┆ 57627.8   ┆ 38d       ┆ 19.408619 ┆ Online    │\n",
       "│ Europe ┆ Belarus    ┆ Snacks     ┆ Online    ┆ … ┆ 34818.336 ┆ 39d       ┆ 25.270936 ┆ Online    │\n",
       "│ Europe ┆ Montenegro ┆ Personal   ┆ Online    ┆ … ┆ 11650.618 ┆ 31d       ┆ 15.376743 ┆ Online    │\n",
       "│        ┆            ┆ Care       ┆           ┆   ┆           ┆           ┆           ┆           │\n",
       "│ Europe ┆ Portugal   ┆ Cosmetics  ┆ Online    ┆ … ┆ 628346.1  ┆ 1d        ┆ 32.821934 ┆ Online    │\n",
       "│ Europe ┆ Germany    ┆ Personal   ┆ Offline   ┆ … ┆ 67289.508 ┆ 30d       ┆ 15.376743 ┆ Online    │\n",
       "│        ┆            ┆ Care       ┆           ┆   ┆           ┆           ┆           ┆           │\n",
       "└────────┴────────────┴────────────┴───────────┴───┴───────────┴───────────┴───────────┴───────────┘"
      ]
     },
     "execution_count": 31,
     "metadata": {},
     "output_type": "execute_result"
    }
   ],
   "source": [
    "df.head()"
   ]
  },
  {
   "cell_type": "markdown",
   "id": "872006c8",
   "metadata": {
    "id": "RuHOkQb44pxy"
   },
   "source": [
    "## Vídeo 2.3 - Analisando os atrasos"
   ]
  },
  {
   "cell_type": "code",
   "execution_count": 32,
   "id": "c51a14d2",
   "metadata": {
    "id": "j5JrzmXw4v8z"
   },
   "outputs": [],
   "source": [
    "#Como selecionar dados com base em condições"
   ]
  },
  {
   "cell_type": "code",
   "execution_count": 33,
   "id": "e020a568",
   "metadata": {
    "id": "8dbUBCPutDbR"
   },
   "outputs": [],
   "source": [
    "# Filtrar pedidos críticos e ordenar pela duração de entrega\n",
    "df_critical = df.filter(pl.col(\"Prioridade do Pedido\") == \"Critical\").sort(\"Duração do envio\", descending=True)"
   ]
  },
  {
   "cell_type": "code",
   "execution_count": 34,
   "id": "1b6a1546",
   "metadata": {
    "id": "u-cKvq2TtUSY"
   },
   "outputs": [],
   "source": [
    "# Extrair mês e ano da data do pedido\n",
    "df_critical = df_critical.with_columns(\n",
    "    pl.col(\"Data do Pedido\").dt.month().alias(\"Mês Pedido\"),\n",
    "    pl.col(\"Data do Pedido\").dt.year().alias(\"Ano Pedido\")\n",
    ")"
   ]
  },
  {
   "cell_type": "code",
   "execution_count": 35,
   "id": "5c9670ea",
   "metadata": {
    "colab": {
     "base_uri": "https://localhost:8080/",
     "height": 671
    },
    "id": "L95gYjSCunmM",
    "outputId": "4bf54457-dfbe-4317-8bb0-47abd934d8da"
   },
   "outputs": [
    {
     "data": {
      "text/html": [
       "<div><style>\n",
       ".dataframe > thead > tr,\n",
       ".dataframe > tbody > tr {\n",
       "  text-align: right;\n",
       "  white-space: pre-wrap;\n",
       "}\n",
       "</style>\n",
       "<small>shape: (506_312, 19)</small><table border=\"1\" class=\"dataframe\"><thead><tr><th>Região</th><th>País</th><th>Tipo de Item</th><th>Canal de Venda</th><th>Prioridade do Pedido</th><th>Data do Pedido</th><th>ID do Pedido</th><th>Data de Envio</th><th>Unidades Vendidas</th><th>Preço Unitário</th><th>Custo Unitário</th><th>Receita Total</th><th>Custo Total</th><th>Lucro Total</th><th>Duração do envio</th><th>Margem de Lucro (%)</th><th>Tipo de venda</th><th>Mês Pedido</th><th>Ano Pedido</th></tr><tr><td>str</td><td>str</td><td>str</td><td>str</td><td>str</td><td>date</td><td>i64</td><td>date</td><td>i64</td><td>f64</td><td>f64</td><td>f64</td><td>f64</td><td>f64</td><td>duration[ms]</td><td>f64</td><td>str</td><td>i8</td><td>i32</td></tr></thead><tbody><tr><td>&quot;Europe&quot;</td><td>&quot;Czech Republic&quot;</td><td>&quot;Beverages&quot;</td><td>&quot;Offline&quot;</td><td>&quot;Critical&quot;</td><td>2019-05-21</td><td>173127639</td><td>2019-07-10</td><td>1170</td><td>47.45</td><td>31.79</td><td>44413.2</td><td>37194.3</td><td>7218.9</td><td>50d</td><td>19.408619</td><td>&quot;Offline&quot;</td><td>5</td><td>2019</td></tr><tr><td>&quot;Europe&quot;</td><td>&quot;Monaco&quot;</td><td>&quot;Meat&quot;</td><td>&quot;Online&quot;</td><td>&quot;Critical&quot;</td><td>2014-07-11</td><td>935839736</td><td>2014-08-30</td><td>4629</td><td>421.89</td><td>364.69</td><td>1.5623e6</td><td>1.6882e6</td><td>-125806.962</td><td>50d</td><td>-7.452357</td><td>&quot;Online&quot;</td><td>7</td><td>2014</td></tr><tr><td>&quot;Europe&quot;</td><td>&quot;Iceland&quot;</td><td>&quot;Meat&quot;</td><td>&quot;Online&quot;</td><td>&quot;Critical&quot;</td><td>2017-08-27</td><td>918327271</td><td>2017-10-16</td><td>2302</td><td>421.89</td><td>364.69</td><td>776952.624</td><td>839516.38</td><td>-62563.756</td><td>50d</td><td>-7.452357</td><td>&quot;Online&quot;</td><td>8</td><td>2017</td></tr><tr><td>&quot;Asia&quot;</td><td>&quot;Myanmar&quot;</td><td>&quot;Household&quot;</td><td>&quot;Online&quot;</td><td>&quot;Critical&quot;</td><td>2015-11-05</td><td>769704139</td><td>2015-12-25</td><td>1414</td><td>668.27</td><td>502.54</td><td>755947.024</td><td>710591.56</td><td>45355.464</td><td>50d</td><td>6.382776</td><td>&quot;Online&quot;</td><td>11</td><td>2015</td></tr><tr><td>&quot;Asia&quot;</td><td>&quot;Malaysia&quot;</td><td>&quot;Cosmetics&quot;</td><td>&quot;Online&quot;</td><td>&quot;Critical&quot;</td><td>2013-09-22</td><td>213717401</td><td>2013-11-11</td><td>2583</td><td>437.2</td><td>263.33</td><td>903430.08</td><td>680181.39</td><td>223248.69</td><td>50d</td><td>32.821934</td><td>&quot;Online&quot;</td><td>9</td><td>2013</td></tr><tr><td>&hellip;</td><td>&hellip;</td><td>&hellip;</td><td>&hellip;</td><td>&hellip;</td><td>&hellip;</td><td>&hellip;</td><td>&hellip;</td><td>&hellip;</td><td>&hellip;</td><td>&hellip;</td><td>&hellip;</td><td>&hellip;</td><td>&hellip;</td><td>&hellip;</td><td>&hellip;</td><td>&hellip;</td><td>&hellip;</td><td>&hellip;</td></tr><tr><td>&quot;Europe&quot;</td><td>&quot;Russia&quot;</td><td>&quot;Fruits&quot;</td><td>&quot;Offline&quot;</td><td>&quot;Critical&quot;</td><td>2015-01-10</td><td>719973838</td><td>2015-01-10</td><td>5113</td><td>9.33</td><td>6.92</td><td>38163.432</td><td>35381.96</td><td>2781.472</td><td>0ms</td><td>7.861272</td><td>&quot;Online&quot;</td><td>1</td><td>2015</td></tr><tr><td>&quot;Europe&quot;</td><td>&quot;Ukraine&quot;</td><td>&quot;Beverages&quot;</td><td>&quot;Offline&quot;</td><td>&quot;Critical&quot;</td><td>2013-11-12</td><td>944166600</td><td>2013-11-12</td><td>8733</td><td>47.45</td><td>31.79</td><td>331504.68</td><td>277622.07</td><td>53882.61</td><td>0ms</td><td>19.408619</td><td>&quot;Online&quot;</td><td>11</td><td>2013</td></tr><tr><td>&quot;Europe&quot;</td><td>&quot;Andorra&quot;</td><td>&quot;Baby Food&quot;</td><td>&quot;Online&quot;</td><td>&quot;Critical&quot;</td><td>2012-04-12</td><td>317978942</td><td>2012-04-12</td><td>5890</td><td>255.28</td><td>159.42</td><td>1.2029e6</td><td>938983.8</td><td>263895.56</td><td>0ms</td><td>28.104378</td><td>&quot;Online&quot;</td><td>4</td><td>2012</td></tr><tr><td>&quot;Europe&quot;</td><td>&quot;Germany&quot;</td><td>&quot;Household&quot;</td><td>&quot;Offline&quot;</td><td>&quot;Critical&quot;</td><td>2012-08-05</td><td>953894650</td><td>2012-08-05</td><td>7480</td><td>668.27</td><td>502.54</td><td>3.9989e6</td><td>3758999.2</td><td>239928.48</td><td>0ms</td><td>6.382776</td><td>&quot;Online&quot;</td><td>8</td><td>2012</td></tr><tr><td>&quot;Europe&quot;</td><td>&quot;Vatican City&quot;</td><td>&quot;Vegetables&quot;</td><td>&quot;Offline&quot;</td><td>&quot;Critical&quot;</td><td>2012-03-03</td><td>932866561</td><td>2012-03-03</td><td>4801</td><td>154.06</td><td>90.93</td><td>591713.648</td><td>436554.93</td><td>155158.718</td><td>0ms</td><td>35.541625</td><td>&quot;Offline&quot;</td><td>3</td><td>2012</td></tr></tbody></table></div>"
      ],
      "text/plain": [
       "shape: (506_312, 19)\n",
       "┌────────┬──────────┬──────────────┬──────────┬───┬─────────────────┬─────────┬────────┬────────┐\n",
       "│ Região ┆ País     ┆ Tipo de Item ┆ Canal de ┆ … ┆ Margem de Lucro ┆ Tipo de ┆ Mês    ┆ Ano    │\n",
       "│ ---    ┆ ---      ┆ ---          ┆ Venda    ┆   ┆ (%)             ┆ venda   ┆ Pedido ┆ Pedido │\n",
       "│ str    ┆ str      ┆ str          ┆ ---      ┆   ┆ ---             ┆ ---     ┆ ---    ┆ ---    │\n",
       "│        ┆          ┆              ┆ str      ┆   ┆ f64             ┆ str     ┆ i8     ┆ i32    │\n",
       "╞════════╪══════════╪══════════════╪══════════╪═══╪═════════════════╪═════════╪════════╪════════╡\n",
       "│ Europe ┆ Czech    ┆ Beverages    ┆ Offline  ┆ … ┆ 19.408619       ┆ Offline ┆ 5      ┆ 2019   │\n",
       "│        ┆ Republic ┆              ┆          ┆   ┆                 ┆         ┆        ┆        │\n",
       "│ Europe ┆ Monaco   ┆ Meat         ┆ Online   ┆ … ┆ -7.452357       ┆ Online  ┆ 7      ┆ 2014   │\n",
       "│ Europe ┆ Iceland  ┆ Meat         ┆ Online   ┆ … ┆ -7.452357       ┆ Online  ┆ 8      ┆ 2017   │\n",
       "│ Asia   ┆ Myanmar  ┆ Household    ┆ Online   ┆ … ┆ 6.382776        ┆ Online  ┆ 11     ┆ 2015   │\n",
       "│ Asia   ┆ Malaysia ┆ Cosmetics    ┆ Online   ┆ … ┆ 32.821934       ┆ Online  ┆ 9      ┆ 2013   │\n",
       "│ …      ┆ …        ┆ …            ┆ …        ┆ … ┆ …               ┆ …       ┆ …      ┆ …      │\n",
       "│ Europe ┆ Russia   ┆ Fruits       ┆ Offline  ┆ … ┆ 7.861272        ┆ Online  ┆ 1      ┆ 2015   │\n",
       "│ Europe ┆ Ukraine  ┆ Beverages    ┆ Offline  ┆ … ┆ 19.408619       ┆ Online  ┆ 11     ┆ 2013   │\n",
       "│ Europe ┆ Andorra  ┆ Baby Food    ┆ Online   ┆ … ┆ 28.104378       ┆ Online  ┆ 4      ┆ 2012   │\n",
       "│ Europe ┆ Germany  ┆ Household    ┆ Offline  ┆ … ┆ 6.382776        ┆ Online  ┆ 8      ┆ 2012   │\n",
       "│ Europe ┆ Vatican  ┆ Vegetables   ┆ Offline  ┆ … ┆ 35.541625       ┆ Offline ┆ 3      ┆ 2012   │\n",
       "│        ┆ City     ┆              ┆          ┆   ┆                 ┆         ┆        ┆        │\n",
       "└────────┴──────────┴──────────────┴──────────┴───┴─────────────────┴─────────┴────────┴────────┘"
      ]
     },
     "execution_count": 35,
     "metadata": {},
     "output_type": "execute_result"
    }
   ],
   "source": [
    "df_critical"
   ]
  },
  {
   "cell_type": "code",
   "execution_count": 36,
   "id": "afee81c1",
   "metadata": {
    "id": "UrVtHGUqzRkW"
   },
   "outputs": [],
   "source": [
    "season_map = {\n",
    "    1: \"Winter\", 2: \"Winter\", 3: \"Spring\",\n",
    "    4: \"Spring\", 5: \"Spring\", 6: \"Summer\",\n",
    "    7: \"Summer\", 8: \"Summer\", 9: \"Fall\",\n",
    "    10: \"Fall\", 11: \"Fall\", 12: \"Winter\"\n",
    "}"
   ]
  },
  {
   "cell_type": "code",
   "execution_count": 37,
   "id": "ae0afd44",
   "metadata": {
    "id": "z6gtXlzMzYXs"
   },
   "outputs": [],
   "source": [
    "# Converter a coluna \"Order Month\" para string e mapear\n",
    "df_critical = df_critical.with_columns(\n",
    "    pl.col(\"Mês Pedido\").cast(pl.Utf8).replace(season_map).alias(\"Estação\")\n",
    ")"
   ]
  },
  {
   "cell_type": "code",
   "execution_count": 38,
   "id": "d68edd1d",
   "metadata": {
    "colab": {
     "base_uri": "https://localhost:8080/",
     "height": 396
    },
    "id": "oVM9tc6a0BnZ",
    "outputId": "584766cc-1410-458a-a016-860ac2d4e8c9"
   },
   "outputs": [
    {
     "data": {
      "text/html": [
       "<div><style>\n",
       ".dataframe > thead > tr,\n",
       ".dataframe > tbody > tr {\n",
       "  text-align: right;\n",
       "  white-space: pre-wrap;\n",
       "}\n",
       "</style>\n",
       "<small>shape: (5, 20)</small><table border=\"1\" class=\"dataframe\"><thead><tr><th>Região</th><th>País</th><th>Tipo de Item</th><th>Canal de Venda</th><th>Prioridade do Pedido</th><th>Data do Pedido</th><th>ID do Pedido</th><th>Data de Envio</th><th>Unidades Vendidas</th><th>Preço Unitário</th><th>Custo Unitário</th><th>Receita Total</th><th>Custo Total</th><th>Lucro Total</th><th>Duração do envio</th><th>Margem de Lucro (%)</th><th>Tipo de venda</th><th>Mês Pedido</th><th>Ano Pedido</th><th>Estação</th></tr><tr><td>str</td><td>str</td><td>str</td><td>str</td><td>str</td><td>date</td><td>i64</td><td>date</td><td>i64</td><td>f64</td><td>f64</td><td>f64</td><td>f64</td><td>f64</td><td>duration[ms]</td><td>f64</td><td>str</td><td>i8</td><td>i32</td><td>str</td></tr></thead><tbody><tr><td>&quot;Europe&quot;</td><td>&quot;Czech Republic&quot;</td><td>&quot;Beverages&quot;</td><td>&quot;Offline&quot;</td><td>&quot;Critical&quot;</td><td>2019-05-21</td><td>173127639</td><td>2019-07-10</td><td>1170</td><td>47.45</td><td>31.79</td><td>44413.2</td><td>37194.3</td><td>7218.9</td><td>50d</td><td>19.408619</td><td>&quot;Offline&quot;</td><td>5</td><td>2019</td><td>&quot;Spring&quot;</td></tr><tr><td>&quot;Europe&quot;</td><td>&quot;Monaco&quot;</td><td>&quot;Meat&quot;</td><td>&quot;Online&quot;</td><td>&quot;Critical&quot;</td><td>2014-07-11</td><td>935839736</td><td>2014-08-30</td><td>4629</td><td>421.89</td><td>364.69</td><td>1.5623e6</td><td>1.6882e6</td><td>-125806.962</td><td>50d</td><td>-7.452357</td><td>&quot;Online&quot;</td><td>7</td><td>2014</td><td>&quot;Summer&quot;</td></tr><tr><td>&quot;Europe&quot;</td><td>&quot;Iceland&quot;</td><td>&quot;Meat&quot;</td><td>&quot;Online&quot;</td><td>&quot;Critical&quot;</td><td>2017-08-27</td><td>918327271</td><td>2017-10-16</td><td>2302</td><td>421.89</td><td>364.69</td><td>776952.624</td><td>839516.38</td><td>-62563.756</td><td>50d</td><td>-7.452357</td><td>&quot;Online&quot;</td><td>8</td><td>2017</td><td>&quot;Summer&quot;</td></tr><tr><td>&quot;Asia&quot;</td><td>&quot;Myanmar&quot;</td><td>&quot;Household&quot;</td><td>&quot;Online&quot;</td><td>&quot;Critical&quot;</td><td>2015-11-05</td><td>769704139</td><td>2015-12-25</td><td>1414</td><td>668.27</td><td>502.54</td><td>755947.024</td><td>710591.56</td><td>45355.464</td><td>50d</td><td>6.382776</td><td>&quot;Online&quot;</td><td>11</td><td>2015</td><td>&quot;Fall&quot;</td></tr><tr><td>&quot;Asia&quot;</td><td>&quot;Malaysia&quot;</td><td>&quot;Cosmetics&quot;</td><td>&quot;Online&quot;</td><td>&quot;Critical&quot;</td><td>2013-09-22</td><td>213717401</td><td>2013-11-11</td><td>2583</td><td>437.2</td><td>263.33</td><td>903430.08</td><td>680181.39</td><td>223248.69</td><td>50d</td><td>32.821934</td><td>&quot;Online&quot;</td><td>9</td><td>2013</td><td>&quot;Fall&quot;</td></tr></tbody></table></div>"
      ],
      "text/plain": [
       "shape: (5, 20)\n",
       "┌────────┬──────────┬──────────────┬──────────┬───┬─────────┬────────┬────────────┬─────────┐\n",
       "│ Região ┆ País     ┆ Tipo de Item ┆ Canal de ┆ … ┆ Tipo de ┆ Mês    ┆ Ano Pedido ┆ Estação │\n",
       "│ ---    ┆ ---      ┆ ---          ┆ Venda    ┆   ┆ venda   ┆ Pedido ┆ ---        ┆ ---     │\n",
       "│ str    ┆ str      ┆ str          ┆ ---      ┆   ┆ ---     ┆ ---    ┆ i32        ┆ str     │\n",
       "│        ┆          ┆              ┆ str      ┆   ┆ str     ┆ i8     ┆            ┆         │\n",
       "╞════════╪══════════╪══════════════╪══════════╪═══╪═════════╪════════╪════════════╪═════════╡\n",
       "│ Europe ┆ Czech    ┆ Beverages    ┆ Offline  ┆ … ┆ Offline ┆ 5      ┆ 2019       ┆ Spring  │\n",
       "│        ┆ Republic ┆              ┆          ┆   ┆         ┆        ┆            ┆         │\n",
       "│ Europe ┆ Monaco   ┆ Meat         ┆ Online   ┆ … ┆ Online  ┆ 7      ┆ 2014       ┆ Summer  │\n",
       "│ Europe ┆ Iceland  ┆ Meat         ┆ Online   ┆ … ┆ Online  ┆ 8      ┆ 2017       ┆ Summer  │\n",
       "│ Asia   ┆ Myanmar  ┆ Household    ┆ Online   ┆ … ┆ Online  ┆ 11     ┆ 2015       ┆ Fall    │\n",
       "│ Asia   ┆ Malaysia ┆ Cosmetics    ┆ Online   ┆ … ┆ Online  ┆ 9      ┆ 2013       ┆ Fall    │\n",
       "└────────┴──────────┴──────────────┴──────────┴───┴─────────┴────────┴────────────┴─────────┘"
      ]
     },
     "execution_count": 38,
     "metadata": {},
     "output_type": "execute_result"
    }
   ],
   "source": [
    "df_critical.head()"
   ]
  },
  {
   "cell_type": "code",
   "execution_count": 39,
   "id": "e697860b",
   "metadata": {
    "id": "4nuiR7rn1oXM"
   },
   "outputs": [],
   "source": [
    "\n",
    "# Converter para Pandas (se necessário)\n",
    "df_critical_pd = df_critical.to_pandas()\n",
    "\n",
    "# Converter Shipping Duration para dias (caso não tenha sido feito antes)\n",
    "df_critical_pd[\"Dias de envio\"] = df_critical_pd[\"Duração do envio\"].dt.days\n",
    "\n",
    "# Lista de dados para o boxplot (usando Shipping Days)\n",
    "data = [\n",
    "    df_critical_pd[df_critical_pd[\"Estação\"] == season][\"Dias de envio\"]\n",
    "    for season in df_critical_pd[\"Estação\"].unique()\n",
    "]\n",
    "\n"
   ]
  },
  {
   "cell_type": "code",
   "execution_count": 40,
   "id": "d742e6b2",
   "metadata": {
    "colab": {
     "base_uri": "https://localhost:8080/",
     "height": 542
    },
    "id": "jimpELvX4gz_",
    "outputId": "6e9e1aba-7f74-45a8-b53e-cb22d77337b4"
   },
   "outputs": [
    {
     "name": "stderr",
     "output_type": "stream",
     "text": [
      "<ipython-input-40-727ad8b8ec6e>:11: MatplotlibDeprecationWarning: The 'labels' parameter of boxplot() has been renamed 'tick_labels' since Matplotlib 3.9; support for the old name will be dropped in 3.11.\n",
      "  bp = plt.boxplot(\n"
     ]
    },
    {
     "data": {
      "image/png": "[encoded data removed]",
      "text/plain": [
       "<Figure size 640x480 with 1 Axes>"
      ]
     },
     "metadata": {},
     "output_type": "display_data"
    }
   ],
   "source": [
    "# Definindo cores mais vivas\n",
    "cores = {\n",
    "    'box': '#00A6FB',  # Azul vibrante\n",
    "    'mediana': '#FF1E1E',  # Vermelho vibrante\n",
    "    'whiskers': '#000000',  # Preto para os whiskers\n",
    "    'caps': '#000000',  # Preto para as caps\n",
    "    'fliers': '#FF4500'  # Laranja vibrante para outliers\n",
    "}\n",
    "\n",
    "# Criando o boxplot\n",
    "bp = plt.boxplot(\n",
    "    data,\n",
    "    vert=False,\n",
    "    patch_artist=True,\n",
    "    labels=df_critical_pd[\"Estação\"].unique(),\n",
    "    boxprops=dict(facecolor=cores['box'], alpha=0.8),\n",
    "    medianprops=dict(color=cores['mediana'], linewidth=1.5),\n",
    "    whiskerprops=dict(color=cores['whiskers'], linewidth=1.5),\n",
    "    capprops=dict(color=cores['caps'], linewidth=1.5),\n",
    "    flierprops=dict(marker='o', markerfacecolor=cores['fliers'], markersize=8)\n",
    ")\n",
    "\n",
    "plt.title(\"Distribuição de Dias para Entrega por Estação (Pedidos Críticos)\",\n",
    "          fontsize=12, pad=15)\n",
    "plt.xlabel(\"Dias de Entrega\", fontsize=10)\n",
    "plt.ylabel(\"Estação do Ano\", fontsize=10)\n",
    "plt.grid(axis=\"x\", linestyle=\"--\", alpha=0.7)\n",
    "\n",
    "# Ajustando o layout\n",
    "plt.tight_layout()\n",
    "plt.show()\n"
   ]
  },
  {
   "cell_type": "markdown",
   "id": "d92d146d",
   "metadata": {
    "id": "LJrOnkIM44QH"
   },
   "source": [
    "# Aula 3 - Transformações e operações"
   ]
  },
  {
   "cell_type": "markdown",
   "id": "48056a5a",
   "metadata": {
    "id": "kpM8LP_X5Zjl"
   },
   "source": [
    "## Vídeo 3.1 - Joins"
   ]
  },
  {
   "cell_type": "code",
   "execution_count": 41,
   "id": "6d99011a",
   "metadata": {
    "colab": {
     "base_uri": "https://localhost:8080/"
    },
    "id": "9ihUVrx6cfgp",
    "outputId": "ecd01400-124d-4e41-f7a6-51e783b4030b"
   },
   "outputs": [
    {
     "name": "stdout",
     "output_type": "stream",
     "text": [
      "Household\n",
      "Cereal\n",
      "Office Supplies\n",
      "Cosmetics\n",
      "Clothes\n",
      "Personal Care\n",
      "Meat\n",
      "Vegetables\n",
      "Fruits\n",
      "Beverages\n",
      "Baby Food\n",
      "Snacks\n"
     ]
    }
   ],
   "source": [
    "itens_unicos = df['Tipo de Item'].unique()\n",
    "\n",
    "# Loop for para imprimir item por item\n",
    "for item in itens_unicos:\n",
    "    print(item)"
   ]
  },
  {
   "cell_type": "code",
   "execution_count": 42,
   "id": "9c6fd8a7",
   "metadata": {
    "id": "2Zv7USx74zDQ"
   },
   "outputs": [],
   "source": [
    "data = {'Tipo de Item': ['Snacks', 'Cereal', 'Office Supplies', 'Household', 'Personal Care',\n",
    "                      'Clothes', 'Cosmetics', 'Vegetables', 'Meat', 'Baby Food', 'Beverages', 'Fruits']}\n",
    "df_simples = pl.DataFrame(data)\n",
    "\n",
    "# Obtendo os valores únicos da coluna 'Item Type'\n",
    "itens_unicos = df_simples['Tipo de Item'].unique().to_list()\n",
    "\n",
    "# Criando o DataFrame delivery_goals baseado no Item Type\n",
    "delivery_goals = pl.DataFrame({\n",
    "    \"Tipo de Item\": itens_unicos,\n",
    "    \"Dias de envio alvo\": [5, 7, 10, 8, 6, 9, 7, 3, 4, 5, 6, 2]  # Exemplo de dias de entrega\n",
    "})\n"
   ]
  },
  {
   "cell_type": "code",
   "execution_count": 43,
   "id": "e488fc93",
   "metadata": {
    "colab": {
     "base_uri": "https://localhost:8080/",
     "height": 443
    },
    "id": "Th5DBKRycQjh",
    "outputId": "de856da1-f1eb-401b-e092-a8c45ffdf672"
   },
   "outputs": [
    {
     "data": {
      "text/html": [
       "<div><style>\n",
       ".dataframe > thead > tr,\n",
       ".dataframe > tbody > tr {\n",
       "  text-align: right;\n",
       "  white-space: pre-wrap;\n",
       "}\n",
       "</style>\n",
       "<small>shape: (12, 2)</small><table border=\"1\" class=\"dataframe\"><thead><tr><th>Tipo de Item</th><th>Dias de envio alvo</th></tr><tr><td>str</td><td>i64</td></tr></thead><tbody><tr><td>&quot;Fruits&quot;</td><td>5</td></tr><tr><td>&quot;Personal Care&quot;</td><td>7</td></tr><tr><td>&quot;Baby Food&quot;</td><td>10</td></tr><tr><td>&quot;Beverages&quot;</td><td>8</td></tr><tr><td>&quot;Snacks&quot;</td><td>6</td></tr><tr><td>&hellip;</td><td>&hellip;</td></tr><tr><td>&quot;Office Supplies&quot;</td><td>3</td></tr><tr><td>&quot;Clothes&quot;</td><td>4</td></tr><tr><td>&quot;Cosmetics&quot;</td><td>5</td></tr><tr><td>&quot;Vegetables&quot;</td><td>6</td></tr><tr><td>&quot;Household&quot;</td><td>2</td></tr></tbody></table></div>"
      ],
      "text/plain": [
       "shape: (12, 2)\n",
       "┌─────────────────┬────────────────────┐\n",
       "│ Tipo de Item    ┆ Dias de envio alvo │\n",
       "│ ---             ┆ ---                │\n",
       "│ str             ┆ i64                │\n",
       "╞═════════════════╪════════════════════╡\n",
       "│ Fruits          ┆ 5                  │\n",
       "│ Personal Care   ┆ 7                  │\n",
       "│ Baby Food       ┆ 10                 │\n",
       "│ Beverages       ┆ 8                  │\n",
       "│ Snacks          ┆ 6                  │\n",
       "│ …               ┆ …                  │\n",
       "│ Office Supplies ┆ 3                  │\n",
       "│ Clothes         ┆ 4                  │\n",
       "│ Cosmetics       ┆ 5                  │\n",
       "│ Vegetables      ┆ 6                  │\n",
       "│ Household       ┆ 2                  │\n",
       "└─────────────────┴────────────────────┘"
      ]
     },
     "execution_count": 43,
     "metadata": {},
     "output_type": "execute_result"
    }
   ],
   "source": [
    "delivery_goals"
   ]
  },
  {
   "cell_type": "code",
   "execution_count": 44,
   "id": "cd173535",
   "metadata": {
    "colab": {
     "base_uri": "https://localhost:8080/",
     "height": 689
    },
    "id": "8WBNRU7KbkBM",
    "outputId": "094bb78a-6c56-487a-f70a-c10b530f5702"
   },
   "outputs": [
    {
     "data": {
      "text/html": [
       "<div><style>\n",
       ".dataframe > thead > tr,\n",
       ".dataframe > tbody > tr {\n",
       "  text-align: right;\n",
       "  white-space: pre-wrap;\n",
       "}\n",
       "</style>\n",
       "<small>shape: (506_312, 21)</small><table border=\"1\" class=\"dataframe\"><thead><tr><th>Região</th><th>País</th><th>Tipo de Item</th><th>Canal de Venda</th><th>Prioridade do Pedido</th><th>Data do Pedido</th><th>ID do Pedido</th><th>Data de Envio</th><th>Unidades Vendidas</th><th>Preço Unitário</th><th>Custo Unitário</th><th>Receita Total</th><th>Custo Total</th><th>Lucro Total</th><th>Duração do envio</th><th>Margem de Lucro (%)</th><th>Tipo de venda</th><th>Mês Pedido</th><th>Ano Pedido</th><th>Estação</th><th>Dias de envio alvo</th></tr><tr><td>str</td><td>str</td><td>str</td><td>str</td><td>str</td><td>date</td><td>i64</td><td>date</td><td>i64</td><td>f64</td><td>f64</td><td>f64</td><td>f64</td><td>f64</td><td>duration[ms]</td><td>f64</td><td>str</td><td>i8</td><td>i32</td><td>str</td><td>i64</td></tr></thead><tbody><tr><td>&quot;Europe&quot;</td><td>&quot;Czech Republic&quot;</td><td>&quot;Beverages&quot;</td><td>&quot;Offline&quot;</td><td>&quot;Critical&quot;</td><td>2019-05-21</td><td>173127639</td><td>2019-07-10</td><td>1170</td><td>47.45</td><td>31.79</td><td>44413.2</td><td>37194.3</td><td>7218.9</td><td>50d</td><td>19.408619</td><td>&quot;Offline&quot;</td><td>5</td><td>2019</td><td>&quot;Spring&quot;</td><td>8</td></tr><tr><td>&quot;Europe&quot;</td><td>&quot;Monaco&quot;</td><td>&quot;Meat&quot;</td><td>&quot;Online&quot;</td><td>&quot;Critical&quot;</td><td>2014-07-11</td><td>935839736</td><td>2014-08-30</td><td>4629</td><td>421.89</td><td>364.69</td><td>1.5623e6</td><td>1.6882e6</td><td>-125806.962</td><td>50d</td><td>-7.452357</td><td>&quot;Online&quot;</td><td>7</td><td>2014</td><td>&quot;Summer&quot;</td><td>7</td></tr><tr><td>&quot;Europe&quot;</td><td>&quot;Iceland&quot;</td><td>&quot;Meat&quot;</td><td>&quot;Online&quot;</td><td>&quot;Critical&quot;</td><td>2017-08-27</td><td>918327271</td><td>2017-10-16</td><td>2302</td><td>421.89</td><td>364.69</td><td>776952.624</td><td>839516.38</td><td>-62563.756</td><td>50d</td><td>-7.452357</td><td>&quot;Online&quot;</td><td>8</td><td>2017</td><td>&quot;Summer&quot;</td><td>7</td></tr><tr><td>&quot;Asia&quot;</td><td>&quot;Myanmar&quot;</td><td>&quot;Household&quot;</td><td>&quot;Online&quot;</td><td>&quot;Critical&quot;</td><td>2015-11-05</td><td>769704139</td><td>2015-12-25</td><td>1414</td><td>668.27</td><td>502.54</td><td>755947.024</td><td>710591.56</td><td>45355.464</td><td>50d</td><td>6.382776</td><td>&quot;Online&quot;</td><td>11</td><td>2015</td><td>&quot;Fall&quot;</td><td>2</td></tr><tr><td>&quot;Asia&quot;</td><td>&quot;Malaysia&quot;</td><td>&quot;Cosmetics&quot;</td><td>&quot;Online&quot;</td><td>&quot;Critical&quot;</td><td>2013-09-22</td><td>213717401</td><td>2013-11-11</td><td>2583</td><td>437.2</td><td>263.33</td><td>903430.08</td><td>680181.39</td><td>223248.69</td><td>50d</td><td>32.821934</td><td>&quot;Online&quot;</td><td>9</td><td>2013</td><td>&quot;Fall&quot;</td><td>5</td></tr><tr><td>&hellip;</td><td>&hellip;</td><td>&hellip;</td><td>&hellip;</td><td>&hellip;</td><td>&hellip;</td><td>&hellip;</td><td>&hellip;</td><td>&hellip;</td><td>&hellip;</td><td>&hellip;</td><td>&hellip;</td><td>&hellip;</td><td>&hellip;</td><td>&hellip;</td><td>&hellip;</td><td>&hellip;</td><td>&hellip;</td><td>&hellip;</td><td>&hellip;</td><td>&hellip;</td></tr><tr><td>&quot;Europe&quot;</td><td>&quot;Russia&quot;</td><td>&quot;Fruits&quot;</td><td>&quot;Offline&quot;</td><td>&quot;Critical&quot;</td><td>2015-01-10</td><td>719973838</td><td>2015-01-10</td><td>5113</td><td>9.33</td><td>6.92</td><td>38163.432</td><td>35381.96</td><td>2781.472</td><td>0ms</td><td>7.861272</td><td>&quot;Online&quot;</td><td>1</td><td>2015</td><td>&quot;Winter&quot;</td><td>5</td></tr><tr><td>&quot;Europe&quot;</td><td>&quot;Ukraine&quot;</td><td>&quot;Beverages&quot;</td><td>&quot;Offline&quot;</td><td>&quot;Critical&quot;</td><td>2013-11-12</td><td>944166600</td><td>2013-11-12</td><td>8733</td><td>47.45</td><td>31.79</td><td>331504.68</td><td>277622.07</td><td>53882.61</td><td>0ms</td><td>19.408619</td><td>&quot;Online&quot;</td><td>11</td><td>2013</td><td>&quot;Fall&quot;</td><td>8</td></tr><tr><td>&quot;Europe&quot;</td><td>&quot;Andorra&quot;</td><td>&quot;Baby Food&quot;</td><td>&quot;Online&quot;</td><td>&quot;Critical&quot;</td><td>2012-04-12</td><td>317978942</td><td>2012-04-12</td><td>5890</td><td>255.28</td><td>159.42</td><td>1.2029e6</td><td>938983.8</td><td>263895.56</td><td>0ms</td><td>28.104378</td><td>&quot;Online&quot;</td><td>4</td><td>2012</td><td>&quot;Spring&quot;</td><td>10</td></tr><tr><td>&quot;Europe&quot;</td><td>&quot;Germany&quot;</td><td>&quot;Household&quot;</td><td>&quot;Offline&quot;</td><td>&quot;Critical&quot;</td><td>2012-08-05</td><td>953894650</td><td>2012-08-05</td><td>7480</td><td>668.27</td><td>502.54</td><td>3.9989e6</td><td>3758999.2</td><td>239928.48</td><td>0ms</td><td>6.382776</td><td>&quot;Online&quot;</td><td>8</td><td>2012</td><td>&quot;Summer&quot;</td><td>2</td></tr><tr><td>&quot;Europe&quot;</td><td>&quot;Vatican City&quot;</td><td>&quot;Vegetables&quot;</td><td>&quot;Offline&quot;</td><td>&quot;Critical&quot;</td><td>2012-03-03</td><td>932866561</td><td>2012-03-03</td><td>4801</td><td>154.06</td><td>90.93</td><td>591713.648</td><td>436554.93</td><td>155158.718</td><td>0ms</td><td>35.541625</td><td>&quot;Offline&quot;</td><td>3</td><td>2012</td><td>&quot;Spring&quot;</td><td>6</td></tr></tbody></table></div>"
      ],
      "text/plain": [
       "shape: (506_312, 21)\n",
       "┌────────┬─────────────┬─────────────┬────────────┬───┬────────┬────────────┬─────────┬────────────┐\n",
       "│ Região ┆ País        ┆ Tipo de     ┆ Canal de   ┆ … ┆ Mês    ┆ Ano Pedido ┆ Estação ┆ Dias de    │\n",
       "│ ---    ┆ ---         ┆ Item        ┆ Venda      ┆   ┆ Pedido ┆ ---        ┆ ---     ┆ envio alvo │\n",
       "│ str    ┆ str         ┆ ---         ┆ ---        ┆   ┆ ---    ┆ i32        ┆ str     ┆ ---        │\n",
       "│        ┆             ┆ str         ┆ str        ┆   ┆ i8     ┆            ┆         ┆ i64        │\n",
       "╞════════╪═════════════╪═════════════╪════════════╪═══╪════════╪════════════╪═════════╪════════════╡\n",
       "│ Europe ┆ Czech       ┆ Beverages   ┆ Offline    ┆ … ┆ 5      ┆ 2019       ┆ Spring  ┆ 8          │\n",
       "│        ┆ Republic    ┆             ┆            ┆   ┆        ┆            ┆         ┆            │\n",
       "│ Europe ┆ Monaco      ┆ Meat        ┆ Online     ┆ … ┆ 7      ┆ 2014       ┆ Summer  ┆ 7          │\n",
       "│ Europe ┆ Iceland     ┆ Meat        ┆ Online     ┆ … ┆ 8      ┆ 2017       ┆ Summer  ┆ 7          │\n",
       "│ Asia   ┆ Myanmar     ┆ Household   ┆ Online     ┆ … ┆ 11     ┆ 2015       ┆ Fall    ┆ 2          │\n",
       "│ Asia   ┆ Malaysia    ┆ Cosmetics   ┆ Online     ┆ … ┆ 9      ┆ 2013       ┆ Fall    ┆ 5          │\n",
       "│ …      ┆ …           ┆ …           ┆ …          ┆ … ┆ …      ┆ …          ┆ …       ┆ …          │\n",
       "│ Europe ┆ Russia      ┆ Fruits      ┆ Offline    ┆ … ┆ 1      ┆ 2015       ┆ Winter  ┆ 5          │\n",
       "│ Europe ┆ Ukraine     ┆ Beverages   ┆ Offline    ┆ … ┆ 11     ┆ 2013       ┆ Fall    ┆ 8          │\n",
       "│ Europe ┆ Andorra     ┆ Baby Food   ┆ Online     ┆ … ┆ 4      ┆ 2012       ┆ Spring  ┆ 10         │\n",
       "│ Europe ┆ Germany     ┆ Household   ┆ Offline    ┆ … ┆ 8      ┆ 2012       ┆ Summer  ┆ 2          │\n",
       "│ Europe ┆ Vatican     ┆ Vegetables  ┆ Offline    ┆ … ┆ 3      ┆ 2012       ┆ Spring  ┆ 6          │\n",
       "│        ┆ City        ┆             ┆            ┆   ┆        ┆            ┆         ┆            │\n",
       "└────────┴─────────────┴─────────────┴────────────┴───┴────────┴────────────┴─────────┴────────────┘"
      ]
     },
     "execution_count": 44,
     "metadata": {},
     "output_type": "execute_result"
    }
   ],
   "source": [
    "df_joined = df_critical.join(delivery_goals, on=\"Tipo de Item\", how=\"left\")\n",
    "df_joined"
   ]
  },
  {
   "cell_type": "markdown",
   "id": "353fbef9",
   "metadata": {
    "id": "JArbc4X2oOde"
   },
   "source": [
    "## Vídeo 3.2 - Produto cartesiano"
   ]
  },
  {
   "cell_type": "code",
   "execution_count": 45,
   "id": "e2fde4ca",
   "metadata": {
    "colab": {
     "base_uri": "https://localhost:8080/"
    },
    "id": "JANehvlEc5YJ",
    "outputId": "322d112f-f20d-4c6d-8b9b-1f5baf8caab4"
   },
   "outputs": [
    {
     "name": "stdout",
     "output_type": "stream",
     "text": [
      "shape: (6, 2)\n",
      "┌───────┬────────────────┐\n",
      "│ name  ┆ monopoly_token │\n",
      "│ ---   ┆ ---            │\n",
      "│ str   ┆ str            │\n",
      "╞═══════╪════════════════╡\n",
      "│ Alice ┆ hat            │\n",
      "│ Alice ┆ shoe           │\n",
      "│ Alice ┆ boat           │\n",
      "│ Bob   ┆ hat            │\n",
      "│ Bob   ┆ shoe           │\n",
      "│ Bob   ┆ boat           │\n",
      "└───────┴────────────────┘\n"
     ]
    }
   ],
   "source": [
    "# DataFrame 1: Jogadores\n",
    "players = pl.DataFrame({\"name\": [\"Alice\", \"Bob\"]})\n",
    "\n",
    "# DataFrame 2: Tokens do jogo\n",
    "tokens = pl.DataFrame({\"monopoly_token\": [\"hat\", \"shoe\", \"boat\"]})\n",
    "\n",
    "# Produto cartesiano\n",
    "result = players.join(tokens, how=\"cross\")\n",
    "print(result)"
   ]
  },
  {
   "cell_type": "code",
   "execution_count": 46,
   "id": "938f5a6b",
   "metadata": {
    "colab": {
     "base_uri": "https://localhost:8080/"
    },
    "id": "doLWzU9JqxTM",
    "outputId": "a11b4415-e6ef-4be5-a448-02e1f8c74347"
   },
   "outputs": [
    {
     "name": "stdout",
     "output_type": "stream",
     "text": [
      "shape: (36, 2)\n",
      "┌──────────────┬───────────────────┐\n",
      "│ Tipo de Item ┆ Método de entrega │\n",
      "│ ---          ┆ ---               │\n",
      "│ str          ┆ str               │\n",
      "╞══════════════╪═══════════════════╡\n",
      "│ Household    ┆ Standard          │\n",
      "│ Household    ┆ Express           │\n",
      "│ Household    ┆ Same Day          │\n",
      "│ Meat         ┆ Standard          │\n",
      "│ Meat         ┆ Express           │\n",
      "│ …            ┆ …                 │\n",
      "│ Baby Food    ┆ Express           │\n",
      "│ Baby Food    ┆ Same Day          │\n",
      "│ Vegetables   ┆ Standard          │\n",
      "│ Vegetables   ┆ Express           │\n",
      "│ Vegetables   ┆ Same Day          │\n",
      "└──────────────┴───────────────────┘\n"
     ]
    }
   ],
   "source": [
    "# DataFrame original com os tipos de itens\n",
    "item_types = df_critical.select(\"Tipo de Item\").unique()\n",
    "\n",
    "# DataFrame com categorias de entrega\n",
    "delivery_methods = pl.DataFrame({\"Método de entrega\": [\"Standard\", \"Express\", \"Same Day\"]})\n",
    "\n",
    "# Produto cartesiano entre os itens e os métodos de entrega\n",
    "cartesian_result = item_types.join(delivery_methods, how=\"cross\")\n",
    "\n",
    "print(cartesian_result)\n"
   ]
  },
  {
   "cell_type": "markdown",
   "id": "a4e25d93",
   "metadata": {
    "id": "0FvPXjk7sMa3"
   },
   "source": [
    "## Vídeo 3.3 - Concatenação"
   ]
  },
  {
   "cell_type": "code",
   "execution_count": 47,
   "id": "df31b7d1",
   "metadata": {
    "colab": {
     "base_uri": "https://localhost:8080/",
     "height": 224
    },
    "id": "rDV-hUj4sEHA",
    "outputId": "5b2ce39f-a553-4620-82b6-f8537d07012e"
   },
   "outputs": [
    {
     "data": {
      "text/html": [
       "<div><style>\n",
       ".dataframe > thead > tr,\n",
       ".dataframe > tbody > tr {\n",
       "  text-align: right;\n",
       "  white-space: pre-wrap;\n",
       "}\n",
       "</style>\n",
       "<small>shape: (4, 3)</small><table border=\"1\" class=\"dataframe\"><thead><tr><th>Região</th><th>País</th><th>Vendas</th></tr><tr><td>str</td><td>str</td><td>i64</td></tr></thead><tbody><tr><td>&quot;Europe&quot;</td><td>&quot;Germany&quot;</td><td>5000</td></tr><tr><td>&quot;Europe&quot;</td><td>&quot;France&quot;</td><td>7000</td></tr><tr><td>&quot;Asia&quot;</td><td>&quot;China&quot;</td><td>8000</td></tr><tr><td>&quot;Asia&quot;</td><td>&quot;Japan&quot;</td><td>6000</td></tr></tbody></table></div>"
      ],
      "text/plain": [
       "shape: (4, 3)\n",
       "┌────────┬─────────┬────────┐\n",
       "│ Região ┆ País    ┆ Vendas │\n",
       "│ ---    ┆ ---     ┆ ---    │\n",
       "│ str    ┆ str     ┆ i64    │\n",
       "╞════════╪═════════╪════════╡\n",
       "│ Europe ┆ Germany ┆ 5000   │\n",
       "│ Europe ┆ France  ┆ 7000   │\n",
       "│ Asia   ┆ China   ┆ 8000   │\n",
       "│ Asia   ┆ Japan   ┆ 6000   │\n",
       "└────────┴─────────┴────────┘"
      ]
     },
     "execution_count": 47,
     "metadata": {},
     "output_type": "execute_result"
    }
   ],
   "source": [
    "# DataFrame 1: Vendas da Europa\n",
    "sales_europe = pl.DataFrame({\n",
    "    \"Região\": [\"Europe\", \"Europe\"],\n",
    "    \"País\": [\"Germany\", \"France\"],\n",
    "    \"Vendas\": [5000, 7000]\n",
    "})\n",
    "\n",
    "# DataFrame 2: Vendas da Ásia\n",
    "sales_asia = pl.DataFrame({\n",
    "    \"Região\": [\"Asia\", \"Asia\"],\n",
    "    \"País\": [\"China\", \"Japan\"],\n",
    "    \"Vendas\": [8000, 6000]\n",
    "})\n",
    "\n",
    "# Concatenação vertical\n",
    "sales_combined = pl.concat([sales_europe, sales_asia], how=\"vertical\")\n",
    "\n",
    "sales_combined"
   ]
  },
  {
   "cell_type": "code",
   "execution_count": 48,
   "id": "33cce721",
   "metadata": {
    "colab": {
     "base_uri": "https://localhost:8080/",
     "height": 224
    },
    "id": "2hUTMT47wOG_",
    "outputId": "7d1c0a1d-c772-4fb4-b285-f507c1232a76"
   },
   "outputs": [
    {
     "data": {
      "text/html": [
       "<div><style>\n",
       ".dataframe > thead > tr,\n",
       ".dataframe > tbody > tr {\n",
       "  text-align: right;\n",
       "  white-space: pre-wrap;\n",
       "}\n",
       "</style>\n",
       "<small>shape: (4, 3)</small><table border=\"1\" class=\"dataframe\"><thead><tr><th>País</th><th>Vendas</th><th>Lucro</th></tr><tr><td>str</td><td>i64</td><td>i64</td></tr></thead><tbody><tr><td>&quot;Germany&quot;</td><td>5000</td><td>1200</td></tr><tr><td>&quot;France&quot;</td><td>7000</td><td>1500</td></tr><tr><td>&quot;China&quot;</td><td>8000</td><td>2000</td></tr><tr><td>&quot;Japan&quot;</td><td>6000</td><td>1800</td></tr></tbody></table></div>"
      ],
      "text/plain": [
       "shape: (4, 3)\n",
       "┌─────────┬────────┬───────┐\n",
       "│ País    ┆ Vendas ┆ Lucro │\n",
       "│ ---     ┆ ---    ┆ ---   │\n",
       "│ str     ┆ i64    ┆ i64   │\n",
       "╞═════════╪════════╪═══════╡\n",
       "│ Germany ┆ 5000   ┆ 1200  │\n",
       "│ France  ┆ 7000   ┆ 1500  │\n",
       "│ China   ┆ 8000   ┆ 2000  │\n",
       "│ Japan   ┆ 6000   ┆ 1800  │\n",
       "└─────────┴────────┴───────┘"
      ]
     },
     "execution_count": 48,
     "metadata": {},
     "output_type": "execute_result"
    }
   ],
   "source": [
    "# DataFrame 1: Informações de vendas\n",
    "sales_info = pl.DataFrame({\n",
    "    \"País\": [\"Germany\", \"France\", \"China\", \"Japan\"],\n",
    "    \"Vendas\": [5000, 7000, 8000, 6000]\n",
    "})\n",
    "\n",
    "# DataFrame 2: Informações de lucro\n",
    "profit_info = pl.DataFrame({\n",
    "    \"Lucro\": [1200, 1500, 2000, 1800]\n",
    "})\n",
    "\n",
    "# Concatenação horizontal\n",
    "combined_info = pl.concat([sales_info, profit_info], how=\"horizontal\")\n",
    "combined_info\n"
   ]
  },
  {
   "cell_type": "code",
   "execution_count": 49,
   "id": "f9a51530",
   "metadata": {
    "id": "nLpGf_FhwaBo"
   },
   "outputs": [],
   "source": [
    "# DataFrame de metas de entrega\n",
    "delivery_goals = pl.DataFrame({\n",
    "    \"Tipo de Item\": [\"Snacks\", \"Cereal\", \"Office Supplies\"],\n",
    "    \"Dias de envio alvo\": [5, 7, 10]\n",
    "})"
   ]
  },
  {
   "cell_type": "code",
   "execution_count": 50,
   "id": "b4bbf5ae",
   "metadata": {
    "colab": {
     "base_uri": "https://localhost:8080/",
     "height": 192
    },
    "id": "8z_Ok8Kg0Yez",
    "outputId": "5941d398-4264-49b9-8c9a-6a8657436e04"
   },
   "outputs": [
    {
     "data": {
      "text/html": [
       "<div><style>\n",
       ".dataframe > thead > tr,\n",
       ".dataframe > tbody > tr {\n",
       "  text-align: right;\n",
       "  white-space: pre-wrap;\n",
       "}\n",
       "</style>\n",
       "<small>shape: (3, 2)</small><table border=\"1\" class=\"dataframe\"><thead><tr><th>Tipo de Item</th><th>Dias de envio alvo</th></tr><tr><td>str</td><td>i64</td></tr></thead><tbody><tr><td>&quot;Snacks&quot;</td><td>5</td></tr><tr><td>&quot;Cereal&quot;</td><td>7</td></tr><tr><td>&quot;Office Supplies&quot;</td><td>10</td></tr></tbody></table></div>"
      ],
      "text/plain": [
       "shape: (3, 2)\n",
       "┌─────────────────┬────────────────────┐\n",
       "│ Tipo de Item    ┆ Dias de envio alvo │\n",
       "│ ---             ┆ ---                │\n",
       "│ str             ┆ i64                │\n",
       "╞═════════════════╪════════════════════╡\n",
       "│ Snacks          ┆ 5                  │\n",
       "│ Cereal          ┆ 7                  │\n",
       "│ Office Supplies ┆ 10                 │\n",
       "└─────────────────┴────────────────────┘"
      ]
     },
     "execution_count": 50,
     "metadata": {},
     "output_type": "execute_result"
    }
   ],
   "source": [
    "delivery_goals"
   ]
  },
  {
   "cell_type": "code",
   "execution_count": 51,
   "id": "d612f3ea",
   "metadata": {
    "colab": {
     "base_uri": "https://localhost:8080/",
     "height": 192
    },
    "id": "0a_YEEHz1asw",
    "outputId": "169ba7af-7039-4ffc-9aa1-2c780adb5f22"
   },
   "outputs": [
    {
     "data": {
      "text/html": [
       "<div><style>\n",
       ".dataframe > thead > tr,\n",
       ".dataframe > tbody > tr {\n",
       "  text-align: right;\n",
       "  white-space: pre-wrap;\n",
       "}\n",
       "</style>\n",
       "<small>shape: (3, 1)</small><table border=\"1\" class=\"dataframe\"><thead><tr><th>Dias de envio alvo</th></tr><tr><td>i64</td></tr></thead><tbody><tr><td>5</td></tr><tr><td>7</td></tr><tr><td>10</td></tr></tbody></table></div>"
      ],
      "text/plain": [
       "shape: (3, 1)\n",
       "┌────────────────────┐\n",
       "│ Dias de envio alvo │\n",
       "│ ---                │\n",
       "│ i64                │\n",
       "╞════════════════════╡\n",
       "│ 5                  │\n",
       "│ 7                  │\n",
       "│ 10                 │\n",
       "└────────────────────┘"
      ]
     },
     "execution_count": 51,
     "metadata": {},
     "output_type": "execute_result"
    }
   ],
   "source": [
    "# Selecionar apenas a coluna \"Target Shipping Days\" do delivery_goals\n",
    "delivery_goals = delivery_goals.select(\"Dias de envio alvo\")\n",
    "delivery_goals"
   ]
  },
  {
   "cell_type": "code",
   "execution_count": 52,
   "id": "c1101a10",
   "metadata": {
    "colab": {
     "base_uri": "https://localhost:8080/",
     "height": 671
    },
    "id": "B2VCDGeO0Z_U",
    "outputId": "98fb8811-ecce-4029-bdac-fae109a81f9e"
   },
   "outputs": [
    {
     "data": {
      "text/html": [
       "<div><style>\n",
       ".dataframe > thead > tr,\n",
       ".dataframe > tbody > tr {\n",
       "  text-align: right;\n",
       "  white-space: pre-wrap;\n",
       "}\n",
       "</style>\n",
       "<small>shape: (126_597, 20)</small><table border=\"1\" class=\"dataframe\"><thead><tr><th>Região</th><th>País</th><th>Tipo de Item</th><th>Canal de Venda</th><th>Prioridade do Pedido</th><th>Data do Pedido</th><th>ID do Pedido</th><th>Data de Envio</th><th>Unidades Vendidas</th><th>Preço Unitário</th><th>Custo Unitário</th><th>Receita Total</th><th>Custo Total</th><th>Lucro Total</th><th>Duração do envio</th><th>Margem de Lucro (%)</th><th>Tipo de venda</th><th>Mês Pedido</th><th>Ano Pedido</th><th>Estação</th></tr><tr><td>str</td><td>str</td><td>str</td><td>str</td><td>str</td><td>date</td><td>i64</td><td>date</td><td>i64</td><td>f64</td><td>f64</td><td>f64</td><td>f64</td><td>f64</td><td>duration[ms]</td><td>f64</td><td>str</td><td>i8</td><td>i32</td><td>str</td></tr></thead><tbody><tr><td>&quot;Europe&quot;</td><td>&quot;Vatican City&quot;</td><td>&quot;Office Supplies&quot;</td><td>&quot;Offline&quot;</td><td>&quot;Critical&quot;</td><td>2014-03-20</td><td>975229156</td><td>2014-05-09</td><td>834</td><td>651.21</td><td>524.96</td><td>434487.312</td><td>437816.64</td><td>-3329.328</td><td>50d</td><td>-0.760439</td><td>&quot;Offline&quot;</td><td>3</td><td>2014</td><td>&quot;Spring&quot;</td></tr><tr><td>&quot;Europe&quot;</td><td>&quot;Latvia&quot;</td><td>&quot;Office Supplies&quot;</td><td>&quot;Offline&quot;</td><td>&quot;Critical&quot;</td><td>2017-03-31</td><td>518085038</td><td>2017-05-20</td><td>1731</td><td>651.21</td><td>524.96</td><td>901795.608</td><td>908705.76</td><td>-6910.152</td><td>50d</td><td>-0.760439</td><td>&quot;Offline&quot;</td><td>3</td><td>2017</td><td>&quot;Spring&quot;</td></tr><tr><td>&quot;Europe&quot;</td><td>&quot;Bulgaria&quot;</td><td>&quot;Snacks&quot;</td><td>&quot;Offline&quot;</td><td>&quot;Critical&quot;</td><td>2016-06-15</td><td>394126212</td><td>2016-08-04</td><td>9559</td><td>152.58</td><td>97.44</td><td>1.1668e6</td><td>931428.96</td><td>235380.816</td><td>50d</td><td>25.270936</td><td>&quot;Online&quot;</td><td>6</td><td>2016</td><td>&quot;Summer&quot;</td></tr><tr><td>&quot;Asia&quot;</td><td>&quot;Singapore&quot;</td><td>&quot;Snacks&quot;</td><td>&quot;Online&quot;</td><td>&quot;Critical&quot;</td><td>2015-12-08</td><td>609007632</td><td>2016-01-27</td><td>7747</td><td>152.58</td><td>97.44</td><td>945629.808</td><td>754867.68</td><td>190762.128</td><td>50d</td><td>25.270936</td><td>&quot;Online&quot;</td><td>12</td><td>2015</td><td>&quot;Winter&quot;</td></tr><tr><td>&quot;Europe&quot;</td><td>&quot;Belarus&quot;</td><td>&quot;Snacks&quot;</td><td>&quot;Online&quot;</td><td>&quot;Critical&quot;</td><td>2011-10-26</td><td>903968656</td><td>2011-12-15</td><td>3268</td><td>152.58</td><td>97.44</td><td>398905.152</td><td>318433.92</td><td>80471.232</td><td>50d</td><td>25.270936</td><td>&quot;Online&quot;</td><td>10</td><td>2011</td><td>&quot;Fall&quot;</td></tr><tr><td>&hellip;</td><td>&hellip;</td><td>&hellip;</td><td>&hellip;</td><td>&hellip;</td><td>&hellip;</td><td>&hellip;</td><td>&hellip;</td><td>&hellip;</td><td>&hellip;</td><td>&hellip;</td><td>&hellip;</td><td>&hellip;</td><td>&hellip;</td><td>&hellip;</td><td>&hellip;</td><td>&hellip;</td><td>&hellip;</td><td>&hellip;</td><td>&hellip;</td></tr><tr><td>&quot;Europe&quot;</td><td>&quot;France&quot;</td><td>&quot;Snacks&quot;</td><td>&quot;Offline&quot;</td><td>&quot;Critical&quot;</td><td>2016-03-21</td><td>194693028</td><td>2016-03-21</td><td>2848</td><td>152.58</td><td>97.44</td><td>347638.272</td><td>277509.12</td><td>70129.152</td><td>0ms</td><td>25.270936</td><td>&quot;Offline&quot;</td><td>3</td><td>2016</td><td>&quot;Spring&quot;</td></tr><tr><td>&quot;Europe&quot;</td><td>&quot;Greece&quot;</td><td>&quot;Office Supplies&quot;</td><td>&quot;Offline&quot;</td><td>&quot;Critical&quot;</td><td>2015-07-02</td><td>810981833</td><td>2015-07-02</td><td>6401</td><td>651.21</td><td>524.96</td><td>3.3347e6</td><td>3.3603e6</td><td>-25552.792</td><td>0ms</td><td>-0.760439</td><td>&quot;Online&quot;</td><td>7</td><td>2015</td><td>&quot;Summer&quot;</td></tr><tr><td>&quot;Asia&quot;</td><td>&quot;Philippines&quot;</td><td>&quot;Snacks&quot;</td><td>&quot;Online&quot;</td><td>&quot;Critical&quot;</td><td>2013-10-27</td><td>649255788</td><td>2013-10-27</td><td>8070</td><td>152.58</td><td>97.44</td><td>985056.48</td><td>786340.8</td><td>198715.68</td><td>0ms</td><td>25.270936</td><td>&quot;Online&quot;</td><td>10</td><td>2013</td><td>&quot;Fall&quot;</td></tr><tr><td>&quot;Europe&quot;</td><td>&quot;Norway&quot;</td><td>&quot;Snacks&quot;</td><td>&quot;Offline&quot;</td><td>&quot;Critical&quot;</td><td>2013-07-20</td><td>682427632</td><td>2013-07-20</td><td>4356</td><td>152.58</td><td>97.44</td><td>531710.784</td><td>424448.64</td><td>107262.144</td><td>0ms</td><td>25.270936</td><td>&quot;Offline&quot;</td><td>7</td><td>2013</td><td>&quot;Summer&quot;</td></tr><tr><td>&quot;Europe&quot;</td><td>&quot;Slovenia&quot;</td><td>&quot;Office Supplies&quot;</td><td>&quot;Online&quot;</td><td>&quot;Critical&quot;</td><td>2010-05-08</td><td>186315953</td><td>2010-05-08</td><td>3886</td><td>651.21</td><td>524.96</td><td>2.0245e6</td><td>2.0400e6</td><td>-15512.912</td><td>0ms</td><td>-0.760439</td><td>&quot;Online&quot;</td><td>5</td><td>2010</td><td>&quot;Spring&quot;</td></tr></tbody></table></div>"
      ],
      "text/plain": [
       "shape: (126_597, 20)\n",
       "┌────────┬──────────────┬──────────┬──────────┬───┬─────────┬────────┬────────────┬─────────┐\n",
       "│ Região ┆ País         ┆ Tipo de  ┆ Canal de ┆ … ┆ Tipo de ┆ Mês    ┆ Ano Pedido ┆ Estação │\n",
       "│ ---    ┆ ---          ┆ Item     ┆ Venda    ┆   ┆ venda   ┆ Pedido ┆ ---        ┆ ---     │\n",
       "│ str    ┆ str          ┆ ---      ┆ ---      ┆   ┆ ---     ┆ ---    ┆ i32        ┆ str     │\n",
       "│        ┆              ┆ str      ┆ str      ┆   ┆ str     ┆ i8     ┆            ┆         │\n",
       "╞════════╪══════════════╪══════════╪══════════╪═══╪═════════╪════════╪════════════╪═════════╡\n",
       "│ Europe ┆ Vatican City ┆ Office   ┆ Offline  ┆ … ┆ Offline ┆ 3      ┆ 2014       ┆ Spring  │\n",
       "│        ┆              ┆ Supplies ┆          ┆   ┆         ┆        ┆            ┆         │\n",
       "│ Europe ┆ Latvia       ┆ Office   ┆ Offline  ┆ … ┆ Offline ┆ 3      ┆ 2017       ┆ Spring  │\n",
       "│        ┆              ┆ Supplies ┆          ┆   ┆         ┆        ┆            ┆         │\n",
       "│ Europe ┆ Bulgaria     ┆ Snacks   ┆ Offline  ┆ … ┆ Online  ┆ 6      ┆ 2016       ┆ Summer  │\n",
       "│ Asia   ┆ Singapore    ┆ Snacks   ┆ Online   ┆ … ┆ Online  ┆ 12     ┆ 2015       ┆ Winter  │\n",
       "│ Europe ┆ Belarus      ┆ Snacks   ┆ Online   ┆ … ┆ Online  ┆ 10     ┆ 2011       ┆ Fall    │\n",
       "│ …      ┆ …            ┆ …        ┆ …        ┆ … ┆ …       ┆ …      ┆ …          ┆ …       │\n",
       "│ Europe ┆ France       ┆ Snacks   ┆ Offline  ┆ … ┆ Offline ┆ 3      ┆ 2016       ┆ Spring  │\n",
       "│ Europe ┆ Greece       ┆ Office   ┆ Offline  ┆ … ┆ Online  ┆ 7      ┆ 2015       ┆ Summer  │\n",
       "│        ┆              ┆ Supplies ┆          ┆   ┆         ┆        ┆            ┆         │\n",
       "│ Asia   ┆ Philippines  ┆ Snacks   ┆ Online   ┆ … ┆ Online  ┆ 10     ┆ 2013       ┆ Fall    │\n",
       "│ Europe ┆ Norway       ┆ Snacks   ┆ Offline  ┆ … ┆ Offline ┆ 7      ┆ 2013       ┆ Summer  │\n",
       "│ Europe ┆ Slovenia     ┆ Office   ┆ Online   ┆ … ┆ Online  ┆ 5      ┆ 2010       ┆ Spring  │\n",
       "│        ┆              ┆ Supplies ┆          ┆   ┆         ┆        ┆            ┆         │\n",
       "└────────┴──────────────┴──────────┴──────────┴───┴─────────┴────────┴────────────┴─────────┘"
      ]
     },
     "execution_count": 52,
     "metadata": {},
     "output_type": "execute_result"
    }
   ],
   "source": [
    "# Filtrar dados de itens específicos no dataset principal\n",
    "filtered_items = df_critical.filter(pl.col(\"Tipo de Item\").is_in([\"Snacks\", \"Cereal\", \"Office Supplies\"]))\n",
    "filtered_items"
   ]
  },
  {
   "cell_type": "code",
   "execution_count": 53,
   "id": "7303ea5a",
   "metadata": {
    "id": "LoOYbokn0d3B"
   },
   "outputs": [],
   "source": [
    "# Concatenar horizontalmente para adicionar as metas de entrega\n",
    "combined_data = pl.concat([filtered_items, delivery_goals], how=\"horizontal\")"
   ]
  },
  {
   "cell_type": "code",
   "execution_count": 54,
   "id": "51a7540f",
   "metadata": {
    "colab": {
     "base_uri": "https://localhost:8080/",
     "height": 689
    },
    "id": "8rEKG34C0gVD",
    "outputId": "987d23ca-3694-4aaa-c8d0-976145f26461"
   },
   "outputs": [
    {
     "data": {
      "text/html": [
       "<div><style>\n",
       ".dataframe > thead > tr,\n",
       ".dataframe > tbody > tr {\n",
       "  text-align: right;\n",
       "  white-space: pre-wrap;\n",
       "}\n",
       "</style>\n",
       "<small>shape: (126_597, 21)</small><table border=\"1\" class=\"dataframe\"><thead><tr><th>Região</th><th>País</th><th>Tipo de Item</th><th>Canal de Venda</th><th>Prioridade do Pedido</th><th>Data do Pedido</th><th>ID do Pedido</th><th>Data de Envio</th><th>Unidades Vendidas</th><th>Preço Unitário</th><th>Custo Unitário</th><th>Receita Total</th><th>Custo Total</th><th>Lucro Total</th><th>Duração do envio</th><th>Margem de Lucro (%)</th><th>Tipo de venda</th><th>Mês Pedido</th><th>Ano Pedido</th><th>Estação</th><th>Dias de envio alvo</th></tr><tr><td>str</td><td>str</td><td>str</td><td>str</td><td>str</td><td>date</td><td>i64</td><td>date</td><td>i64</td><td>f64</td><td>f64</td><td>f64</td><td>f64</td><td>f64</td><td>duration[ms]</td><td>f64</td><td>str</td><td>i8</td><td>i32</td><td>str</td><td>i64</td></tr></thead><tbody><tr><td>&quot;Europe&quot;</td><td>&quot;Vatican City&quot;</td><td>&quot;Office Supplies&quot;</td><td>&quot;Offline&quot;</td><td>&quot;Critical&quot;</td><td>2014-03-20</td><td>975229156</td><td>2014-05-09</td><td>834</td><td>651.21</td><td>524.96</td><td>434487.312</td><td>437816.64</td><td>-3329.328</td><td>50d</td><td>-0.760439</td><td>&quot;Offline&quot;</td><td>3</td><td>2014</td><td>&quot;Spring&quot;</td><td>5</td></tr><tr><td>&quot;Europe&quot;</td><td>&quot;Latvia&quot;</td><td>&quot;Office Supplies&quot;</td><td>&quot;Offline&quot;</td><td>&quot;Critical&quot;</td><td>2017-03-31</td><td>518085038</td><td>2017-05-20</td><td>1731</td><td>651.21</td><td>524.96</td><td>901795.608</td><td>908705.76</td><td>-6910.152</td><td>50d</td><td>-0.760439</td><td>&quot;Offline&quot;</td><td>3</td><td>2017</td><td>&quot;Spring&quot;</td><td>7</td></tr><tr><td>&quot;Europe&quot;</td><td>&quot;Bulgaria&quot;</td><td>&quot;Snacks&quot;</td><td>&quot;Offline&quot;</td><td>&quot;Critical&quot;</td><td>2016-06-15</td><td>394126212</td><td>2016-08-04</td><td>9559</td><td>152.58</td><td>97.44</td><td>1.1668e6</td><td>931428.96</td><td>235380.816</td><td>50d</td><td>25.270936</td><td>&quot;Online&quot;</td><td>6</td><td>2016</td><td>&quot;Summer&quot;</td><td>10</td></tr><tr><td>&quot;Asia&quot;</td><td>&quot;Singapore&quot;</td><td>&quot;Snacks&quot;</td><td>&quot;Online&quot;</td><td>&quot;Critical&quot;</td><td>2015-12-08</td><td>609007632</td><td>2016-01-27</td><td>7747</td><td>152.58</td><td>97.44</td><td>945629.808</td><td>754867.68</td><td>190762.128</td><td>50d</td><td>25.270936</td><td>&quot;Online&quot;</td><td>12</td><td>2015</td><td>&quot;Winter&quot;</td><td>null</td></tr><tr><td>&quot;Europe&quot;</td><td>&quot;Belarus&quot;</td><td>&quot;Snacks&quot;</td><td>&quot;Online&quot;</td><td>&quot;Critical&quot;</td><td>2011-10-26</td><td>903968656</td><td>2011-12-15</td><td>3268</td><td>152.58</td><td>97.44</td><td>398905.152</td><td>318433.92</td><td>80471.232</td><td>50d</td><td>25.270936</td><td>&quot;Online&quot;</td><td>10</td><td>2011</td><td>&quot;Fall&quot;</td><td>null</td></tr><tr><td>&hellip;</td><td>&hellip;</td><td>&hellip;</td><td>&hellip;</td><td>&hellip;</td><td>&hellip;</td><td>&hellip;</td><td>&hellip;</td><td>&hellip;</td><td>&hellip;</td><td>&hellip;</td><td>&hellip;</td><td>&hellip;</td><td>&hellip;</td><td>&hellip;</td><td>&hellip;</td><td>&hellip;</td><td>&hellip;</td><td>&hellip;</td><td>&hellip;</td><td>&hellip;</td></tr><tr><td>&quot;Europe&quot;</td><td>&quot;France&quot;</td><td>&quot;Snacks&quot;</td><td>&quot;Offline&quot;</td><td>&quot;Critical&quot;</td><td>2016-03-21</td><td>194693028</td><td>2016-03-21</td><td>2848</td><td>152.58</td><td>97.44</td><td>347638.272</td><td>277509.12</td><td>70129.152</td><td>0ms</td><td>25.270936</td><td>&quot;Offline&quot;</td><td>3</td><td>2016</td><td>&quot;Spring&quot;</td><td>null</td></tr><tr><td>&quot;Europe&quot;</td><td>&quot;Greece&quot;</td><td>&quot;Office Supplies&quot;</td><td>&quot;Offline&quot;</td><td>&quot;Critical&quot;</td><td>2015-07-02</td><td>810981833</td><td>2015-07-02</td><td>6401</td><td>651.21</td><td>524.96</td><td>3.3347e6</td><td>3.3603e6</td><td>-25552.792</td><td>0ms</td><td>-0.760439</td><td>&quot;Online&quot;</td><td>7</td><td>2015</td><td>&quot;Summer&quot;</td><td>null</td></tr><tr><td>&quot;Asia&quot;</td><td>&quot;Philippines&quot;</td><td>&quot;Snacks&quot;</td><td>&quot;Online&quot;</td><td>&quot;Critical&quot;</td><td>2013-10-27</td><td>649255788</td><td>2013-10-27</td><td>8070</td><td>152.58</td><td>97.44</td><td>985056.48</td><td>786340.8</td><td>198715.68</td><td>0ms</td><td>25.270936</td><td>&quot;Online&quot;</td><td>10</td><td>2013</td><td>&quot;Fall&quot;</td><td>null</td></tr><tr><td>&quot;Europe&quot;</td><td>&quot;Norway&quot;</td><td>&quot;Snacks&quot;</td><td>&quot;Offline&quot;</td><td>&quot;Critical&quot;</td><td>2013-07-20</td><td>682427632</td><td>2013-07-20</td><td>4356</td><td>152.58</td><td>97.44</td><td>531710.784</td><td>424448.64</td><td>107262.144</td><td>0ms</td><td>25.270936</td><td>&quot;Offline&quot;</td><td>7</td><td>2013</td><td>&quot;Summer&quot;</td><td>null</td></tr><tr><td>&quot;Europe&quot;</td><td>&quot;Slovenia&quot;</td><td>&quot;Office Supplies&quot;</td><td>&quot;Online&quot;</td><td>&quot;Critical&quot;</td><td>2010-05-08</td><td>186315953</td><td>2010-05-08</td><td>3886</td><td>651.21</td><td>524.96</td><td>2.0245e6</td><td>2.0400e6</td><td>-15512.912</td><td>0ms</td><td>-0.760439</td><td>&quot;Online&quot;</td><td>5</td><td>2010</td><td>&quot;Spring&quot;</td><td>null</td></tr></tbody></table></div>"
      ],
      "text/plain": [
       "shape: (126_597, 21)\n",
       "┌────────┬─────────────┬─────────────┬────────────┬───┬────────┬────────────┬─────────┬────────────┐\n",
       "│ Região ┆ País        ┆ Tipo de     ┆ Canal de   ┆ … ┆ Mês    ┆ Ano Pedido ┆ Estação ┆ Dias de    │\n",
       "│ ---    ┆ ---         ┆ Item        ┆ Venda      ┆   ┆ Pedido ┆ ---        ┆ ---     ┆ envio alvo │\n",
       "│ str    ┆ str         ┆ ---         ┆ ---        ┆   ┆ ---    ┆ i32        ┆ str     ┆ ---        │\n",
       "│        ┆             ┆ str         ┆ str        ┆   ┆ i8     ┆            ┆         ┆ i64        │\n",
       "╞════════╪═════════════╪═════════════╪════════════╪═══╪════════╪════════════╪═════════╪════════════╡\n",
       "│ Europe ┆ Vatican     ┆ Office      ┆ Offline    ┆ … ┆ 3      ┆ 2014       ┆ Spring  ┆ 5          │\n",
       "│        ┆ City        ┆ Supplies    ┆            ┆   ┆        ┆            ┆         ┆            │\n",
       "│ Europe ┆ Latvia      ┆ Office      ┆ Offline    ┆ … ┆ 3      ┆ 2017       ┆ Spring  ┆ 7          │\n",
       "│        ┆             ┆ Supplies    ┆            ┆   ┆        ┆            ┆         ┆            │\n",
       "│ Europe ┆ Bulgaria    ┆ Snacks      ┆ Offline    ┆ … ┆ 6      ┆ 2016       ┆ Summer  ┆ 10         │\n",
       "│ Asia   ┆ Singapore   ┆ Snacks      ┆ Online     ┆ … ┆ 12     ┆ 2015       ┆ Winter  ┆ null       │\n",
       "│ Europe ┆ Belarus     ┆ Snacks      ┆ Online     ┆ … ┆ 10     ┆ 2011       ┆ Fall    ┆ null       │\n",
       "│ …      ┆ …           ┆ …           ┆ …          ┆ … ┆ …      ┆ …          ┆ …       ┆ …          │\n",
       "│ Europe ┆ France      ┆ Snacks      ┆ Offline    ┆ … ┆ 3      ┆ 2016       ┆ Spring  ┆ null       │\n",
       "│ Europe ┆ Greece      ┆ Office      ┆ Offline    ┆ … ┆ 7      ┆ 2015       ┆ Summer  ┆ null       │\n",
       "│        ┆             ┆ Supplies    ┆            ┆   ┆        ┆            ┆         ┆            │\n",
       "│ Asia   ┆ Philippines ┆ Snacks      ┆ Online     ┆ … ┆ 10     ┆ 2013       ┆ Fall    ┆ null       │\n",
       "│ Europe ┆ Norway      ┆ Snacks      ┆ Offline    ┆ … ┆ 7      ┆ 2013       ┆ Summer  ┆ null       │\n",
       "│ Europe ┆ Slovenia    ┆ Office      ┆ Online     ┆ … ┆ 5      ┆ 2010       ┆ Spring  ┆ null       │\n",
       "│        ┆             ┆ Supplies    ┆            ┆   ┆        ┆            ┆         ┆            │\n",
       "└────────┴─────────────┴─────────────┴────────────┴───┴────────┴────────────┴─────────┴────────────┘"
      ]
     },
     "execution_count": 54,
     "metadata": {},
     "output_type": "execute_result"
    }
   ],
   "source": [
    "combined_data"
   ]
  }
 ],
 "metadata": {},
 "nbformat": 4,
 "nbformat_minor": 5
}